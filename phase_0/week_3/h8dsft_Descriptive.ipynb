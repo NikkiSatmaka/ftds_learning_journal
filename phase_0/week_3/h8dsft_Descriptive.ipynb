{
 "cells": [
  {
   "cell_type": "code",
   "execution_count": 1,
   "metadata": {},
   "outputs": [],
   "source": [
    "import numpy as np\n",
    "import pandas as pd\n",
    "import matplotlib.pyplot as plt\n",
    "from scipy.stats import percentileofscore"
   ]
  },
  {
   "cell_type": "markdown",
   "metadata": {},
   "source": [
    "## Data Loading"
   ]
  },
  {
   "cell_type": "code",
   "execution_count": 2,
   "metadata": {},
   "outputs": [],
   "source": [
    "df = pd.read_csv('data/covid_19_indonesia_time_series_all.csv')"
   ]
  },
  {
   "cell_type": "markdown",
   "metadata": {},
   "source": [
    "Data shape"
   ]
  },
  {
   "cell_type": "code",
   "execution_count": 3,
   "metadata": {},
   "outputs": [
    {
     "data": {
      "text/plain": [
       "(21759, 38)"
      ]
     },
     "execution_count": 3,
     "metadata": {},
     "output_type": "execute_result"
    }
   ],
   "source": [
    "df.shape"
   ]
  },
  {
   "cell_type": "markdown",
   "metadata": {},
   "source": [
    "Wow lots of entries\n",
    "\n",
    "Looking at some basic info"
   ]
  },
  {
   "cell_type": "code",
   "execution_count": 4,
   "metadata": {},
   "outputs": [
    {
     "name": "stdout",
     "output_type": "stream",
     "text": [
      "<class 'pandas.core.frame.DataFrame'>\n",
      "RangeIndex: 21759 entries, 0 to 21758\n",
      "Data columns (total 38 columns):\n",
      " #   Column                       Non-Null Count  Dtype  \n",
      "---  ------                       --------------  -----  \n",
      " 0   Date                         21759 non-null  object \n",
      " 1   Location ISO Code            21759 non-null  object \n",
      " 2   Location                     21759 non-null  object \n",
      " 3   New Cases                    21759 non-null  int64  \n",
      " 4   New Deaths                   21759 non-null  int64  \n",
      " 5   New Recovered                21759 non-null  int64  \n",
      " 6   New Active Cases             21759 non-null  int64  \n",
      " 7   Total Cases                  21759 non-null  int64  \n",
      " 8   Total Deaths                 21759 non-null  int64  \n",
      " 9   Total Recovered              21759 non-null  int64  \n",
      " 10  Total Active Cases           21759 non-null  int64  \n",
      " 11  Location Level               21759 non-null  object \n",
      " 12  City or Regency              0 non-null      float64\n",
      " 13  Province                     21117 non-null  object \n",
      " 14  Country                      21759 non-null  object \n",
      " 15  Continent                    21759 non-null  object \n",
      " 16  Island                       21117 non-null  object \n",
      " 17  Time Zone                    21117 non-null  object \n",
      " 18  Special Status               3123 non-null   object \n",
      " 19  Total Regencies              21759 non-null  int64  \n",
      " 20  Total Cities                 21145 non-null  float64\n",
      " 21  Total Districts              21759 non-null  int64  \n",
      " 22  Total Urban Villages         21142 non-null  float64\n",
      " 23  Total Rural Villages         21117 non-null  float64\n",
      " 24  Area (km2)                   21759 non-null  int64  \n",
      " 25  Population                   21759 non-null  int64  \n",
      " 26  Population Density           21759 non-null  float64\n",
      " 27  Longitude                    21759 non-null  float64\n",
      " 28  Latitude                     21759 non-null  float64\n",
      " 29  New Cases per Million        21759 non-null  float64\n",
      " 30  Total Cases per Million      21759 non-null  float64\n",
      " 31  New Deaths per Million       21759 non-null  float64\n",
      " 32  Total Deaths per Million     21759 non-null  float64\n",
      " 33  Total Deaths per 100rb       21759 non-null  float64\n",
      " 34  Case Fatality Rate           21759 non-null  object \n",
      " 35  Case Recovered Rate          21759 non-null  object \n",
      " 36  Growth Factor of New Cases   20572 non-null  float64\n",
      " 37  Growth Factor of New Deaths  19292 non-null  float64\n",
      "dtypes: float64(14), int64(12), object(12)\n",
      "memory usage: 6.3+ MB\n"
     ]
    }
   ],
   "source": [
    "df.info()"
   ]
  },
  {
   "cell_type": "markdown",
   "metadata": {},
   "source": [
    "There's quite a lot of null values \\\n",
    "We might have to clean it later\n",
    "\n",
    "Taking a peek at the data"
   ]
  },
  {
   "cell_type": "code",
   "execution_count": 5,
   "metadata": {},
   "outputs": [
    {
     "data": {
      "text/html": [
       "<div>\n",
       "<style scoped>\n",
       "    .dataframe tbody tr th:only-of-type {\n",
       "        vertical-align: middle;\n",
       "    }\n",
       "\n",
       "    .dataframe tbody tr th {\n",
       "        vertical-align: top;\n",
       "    }\n",
       "\n",
       "    .dataframe thead th {\n",
       "        text-align: right;\n",
       "    }\n",
       "</style>\n",
       "<table border=\"1\" class=\"dataframe\">\n",
       "  <thead>\n",
       "    <tr style=\"text-align: right;\">\n",
       "      <th></th>\n",
       "      <th>Date</th>\n",
       "      <th>Location ISO Code</th>\n",
       "      <th>Location</th>\n",
       "      <th>New Cases</th>\n",
       "      <th>New Deaths</th>\n",
       "      <th>New Recovered</th>\n",
       "      <th>New Active Cases</th>\n",
       "      <th>Total Cases</th>\n",
       "      <th>Total Deaths</th>\n",
       "      <th>Total Recovered</th>\n",
       "      <th>...</th>\n",
       "      <th>Latitude</th>\n",
       "      <th>New Cases per Million</th>\n",
       "      <th>Total Cases per Million</th>\n",
       "      <th>New Deaths per Million</th>\n",
       "      <th>Total Deaths per Million</th>\n",
       "      <th>Total Deaths per 100rb</th>\n",
       "      <th>Case Fatality Rate</th>\n",
       "      <th>Case Recovered Rate</th>\n",
       "      <th>Growth Factor of New Cases</th>\n",
       "      <th>Growth Factor of New Deaths</th>\n",
       "    </tr>\n",
       "  </thead>\n",
       "  <tbody>\n",
       "    <tr>\n",
       "      <th>0</th>\n",
       "      <td>3/1/2020</td>\n",
       "      <td>ID-JK</td>\n",
       "      <td>DKI Jakarta</td>\n",
       "      <td>2</td>\n",
       "      <td>0</td>\n",
       "      <td>0</td>\n",
       "      <td>2</td>\n",
       "      <td>39</td>\n",
       "      <td>20</td>\n",
       "      <td>41</td>\n",
       "      <td>...</td>\n",
       "      <td>-6.204699</td>\n",
       "      <td>0.18</td>\n",
       "      <td>3.60</td>\n",
       "      <td>0.0</td>\n",
       "      <td>1.84</td>\n",
       "      <td>0.18</td>\n",
       "      <td>51.28%</td>\n",
       "      <td>105.13%</td>\n",
       "      <td>NaN</td>\n",
       "      <td>NaN</td>\n",
       "    </tr>\n",
       "    <tr>\n",
       "      <th>1</th>\n",
       "      <td>3/2/2020</td>\n",
       "      <td>ID-JK</td>\n",
       "      <td>DKI Jakarta</td>\n",
       "      <td>2</td>\n",
       "      <td>0</td>\n",
       "      <td>0</td>\n",
       "      <td>2</td>\n",
       "      <td>41</td>\n",
       "      <td>20</td>\n",
       "      <td>41</td>\n",
       "      <td>...</td>\n",
       "      <td>-6.204699</td>\n",
       "      <td>0.18</td>\n",
       "      <td>3.78</td>\n",
       "      <td>0.0</td>\n",
       "      <td>1.84</td>\n",
       "      <td>0.18</td>\n",
       "      <td>48.78%</td>\n",
       "      <td>100.00%</td>\n",
       "      <td>1.0</td>\n",
       "      <td>1.0</td>\n",
       "    </tr>\n",
       "    <tr>\n",
       "      <th>2</th>\n",
       "      <td>3/2/2020</td>\n",
       "      <td>IDN</td>\n",
       "      <td>Indonesia</td>\n",
       "      <td>2</td>\n",
       "      <td>0</td>\n",
       "      <td>0</td>\n",
       "      <td>2</td>\n",
       "      <td>2</td>\n",
       "      <td>0</td>\n",
       "      <td>0</td>\n",
       "      <td>...</td>\n",
       "      <td>-0.789275</td>\n",
       "      <td>0.01</td>\n",
       "      <td>0.01</td>\n",
       "      <td>0.0</td>\n",
       "      <td>0.00</td>\n",
       "      <td>0.00</td>\n",
       "      <td>0.00%</td>\n",
       "      <td>0.00%</td>\n",
       "      <td>NaN</td>\n",
       "      <td>NaN</td>\n",
       "    </tr>\n",
       "    <tr>\n",
       "      <th>3</th>\n",
       "      <td>3/2/2020</td>\n",
       "      <td>ID-RI</td>\n",
       "      <td>Riau</td>\n",
       "      <td>1</td>\n",
       "      <td>0</td>\n",
       "      <td>0</td>\n",
       "      <td>1</td>\n",
       "      <td>2</td>\n",
       "      <td>0</td>\n",
       "      <td>3</td>\n",
       "      <td>...</td>\n",
       "      <td>0.511648</td>\n",
       "      <td>0.16</td>\n",
       "      <td>0.33</td>\n",
       "      <td>0.0</td>\n",
       "      <td>0.00</td>\n",
       "      <td>0.00</td>\n",
       "      <td>0.00%</td>\n",
       "      <td>150.00%</td>\n",
       "      <td>NaN</td>\n",
       "      <td>NaN</td>\n",
       "    </tr>\n",
       "    <tr>\n",
       "      <th>4</th>\n",
       "      <td>3/3/2020</td>\n",
       "      <td>ID-JK</td>\n",
       "      <td>DKI Jakarta</td>\n",
       "      <td>2</td>\n",
       "      <td>0</td>\n",
       "      <td>0</td>\n",
       "      <td>2</td>\n",
       "      <td>43</td>\n",
       "      <td>20</td>\n",
       "      <td>41</td>\n",
       "      <td>...</td>\n",
       "      <td>-6.204699</td>\n",
       "      <td>0.18</td>\n",
       "      <td>3.96</td>\n",
       "      <td>0.0</td>\n",
       "      <td>1.84</td>\n",
       "      <td>0.18</td>\n",
       "      <td>46.51%</td>\n",
       "      <td>95.35%</td>\n",
       "      <td>1.0</td>\n",
       "      <td>1.0</td>\n",
       "    </tr>\n",
       "  </tbody>\n",
       "</table>\n",
       "<p>5 rows × 38 columns</p>\n",
       "</div>"
      ],
      "text/plain": [
       "       Date Location ISO Code     Location  New Cases  New Deaths  \\\n",
       "0  3/1/2020             ID-JK  DKI Jakarta          2           0   \n",
       "1  3/2/2020             ID-JK  DKI Jakarta          2           0   \n",
       "2  3/2/2020               IDN    Indonesia          2           0   \n",
       "3  3/2/2020             ID-RI         Riau          1           0   \n",
       "4  3/3/2020             ID-JK  DKI Jakarta          2           0   \n",
       "\n",
       "   New Recovered  New Active Cases  Total Cases  Total Deaths  \\\n",
       "0              0                 2           39            20   \n",
       "1              0                 2           41            20   \n",
       "2              0                 2            2             0   \n",
       "3              0                 1            2             0   \n",
       "4              0                 2           43            20   \n",
       "\n",
       "   Total Recovered  ...  Latitude New Cases per Million  \\\n",
       "0               41  ... -6.204699                  0.18   \n",
       "1               41  ... -6.204699                  0.18   \n",
       "2                0  ... -0.789275                  0.01   \n",
       "3                3  ...  0.511648                  0.16   \n",
       "4               41  ... -6.204699                  0.18   \n",
       "\n",
       "   Total Cases per Million New Deaths per Million Total Deaths per Million  \\\n",
       "0                     3.60                    0.0                     1.84   \n",
       "1                     3.78                    0.0                     1.84   \n",
       "2                     0.01                    0.0                     0.00   \n",
       "3                     0.33                    0.0                     0.00   \n",
       "4                     3.96                    0.0                     1.84   \n",
       "\n",
       "  Total Deaths per 100rb Case Fatality Rate Case Recovered Rate  \\\n",
       "0                   0.18             51.28%             105.13%   \n",
       "1                   0.18             48.78%             100.00%   \n",
       "2                   0.00              0.00%               0.00%   \n",
       "3                   0.00              0.00%             150.00%   \n",
       "4                   0.18             46.51%              95.35%   \n",
       "\n",
       "  Growth Factor of New Cases  Growth Factor of New Deaths  \n",
       "0                        NaN                          NaN  \n",
       "1                        1.0                          1.0  \n",
       "2                        NaN                          NaN  \n",
       "3                        NaN                          NaN  \n",
       "4                        1.0                          1.0  \n",
       "\n",
       "[5 rows x 38 columns]"
      ]
     },
     "execution_count": 5,
     "metadata": {},
     "output_type": "execute_result"
    }
   ],
   "source": [
    "df.head()"
   ]
  },
  {
   "cell_type": "markdown",
   "metadata": {},
   "source": [
    "Seems like there are multiple dates there but different locations. Seems like the data comprises of cases for each dates and location"
   ]
  },
  {
   "cell_type": "markdown",
   "metadata": {},
   "source": [
    "Let's convert the 'Date' feature from object to datetime"
   ]
  },
  {
   "cell_type": "code",
   "execution_count": 6,
   "metadata": {},
   "outputs": [],
   "source": [
    "df['Date'] = pd.to_datetime(df['Date'])"
   ]
  },
  {
   "cell_type": "markdown",
   "metadata": {},
   "source": [
    "## Data Cleaning"
   ]
  },
  {
   "cell_type": "markdown",
   "metadata": {},
   "source": [
    "We had quite a lot of null values up there"
   ]
  },
  {
   "cell_type": "code",
   "execution_count": 7,
   "metadata": {},
   "outputs": [
    {
     "data": {
      "text/plain": [
       "Date                               0\n",
       "Location ISO Code                  0\n",
       "Location                           0\n",
       "New Cases                          0\n",
       "New Deaths                         0\n",
       "New Recovered                      0\n",
       "New Active Cases                   0\n",
       "Total Cases                        0\n",
       "Total Deaths                       0\n",
       "Total Recovered                    0\n",
       "Total Active Cases                 0\n",
       "Location Level                     0\n",
       "City or Regency                21759\n",
       "Province                         642\n",
       "Country                            0\n",
       "Continent                          0\n",
       "Island                           642\n",
       "Time Zone                        642\n",
       "Special Status                 18636\n",
       "Total Regencies                    0\n",
       "Total Cities                     614\n",
       "Total Districts                    0\n",
       "Total Urban Villages             617\n",
       "Total Rural Villages             642\n",
       "Area (km2)                         0\n",
       "Population                         0\n",
       "Population Density                 0\n",
       "Longitude                          0\n",
       "Latitude                           0\n",
       "New Cases per Million              0\n",
       "Total Cases per Million            0\n",
       "New Deaths per Million             0\n",
       "Total Deaths per Million           0\n",
       "Total Deaths per 100rb             0\n",
       "Case Fatality Rate                 0\n",
       "Case Recovered Rate                0\n",
       "Growth Factor of New Cases      1187\n",
       "Growth Factor of New Deaths     2467\n",
       "dtype: int64"
      ]
     },
     "execution_count": 7,
     "metadata": {},
     "output_type": "execute_result"
    }
   ],
   "source": [
    "df.isna().sum()"
   ]
  },
  {
   "cell_type": "markdown",
   "metadata": {},
   "source": [
    "There were multiple dates with different location code. Let's check what codes we have"
   ]
  },
  {
   "cell_type": "code",
   "execution_count": 8,
   "metadata": {},
   "outputs": [
    {
     "name": "stdout",
     "output_type": "stream",
     "text": [
      "['ID-JK' 'IDN' 'ID-RI' 'ID-JB' 'ID-BT' 'ID-JT' 'ID-SG' 'ID-BA' 'ID-KI'\n",
      " 'ID-YO' 'ID-SU' 'ID-JI' 'ID-KR' 'ID-SN' 'ID-JA' 'ID-MA' 'ID-PA' 'ID-MU'\n",
      " 'ID-SS' 'ID-AC' 'ID-KT' 'ID-LA' 'ID-ST' 'ID-SA' 'ID-SB' 'ID-PB' 'ID-KU'\n",
      " 'ID-SR' 'ID-KB' 'ID-KS' 'ID-BB' 'ID-BE' 'ID-NB' 'ID-NT' 'ID-GO']\n",
      "35 unique values of Location ISO code\n"
     ]
    }
   ],
   "source": [
    "print(df['Location ISO Code'].unique())\n",
    "print(df['Location ISO Code'].nunique(), 'unique values of Location ISO code')"
   ]
  },
  {
   "cell_type": "markdown",
   "metadata": {},
   "source": [
    "Yup we definitely have data for each region. I see that there's an 'IDN' over there, which is the ISO code for 'Indonesia'. Seems like that one is to identify cases for the whole country, while the rest is on a provincial scale\n",
    "\n",
    "So let's create a separate dataframe just for 'IDN' \\\n",
    "We're gonna perform our EDA on this dataframe"
   ]
  },
  {
   "cell_type": "code",
   "execution_count": 9,
   "metadata": {},
   "outputs": [
    {
     "data": {
      "text/plain": [
       "(642, 38)"
      ]
     },
     "execution_count": 9,
     "metadata": {},
     "output_type": "execute_result"
    }
   ],
   "source": [
    "df_IDN = df[df['Location ISO Code'] == 'IDN']\n",
    "df_IDN.shape"
   ]
  },
  {
   "cell_type": "markdown",
   "metadata": {},
   "source": [
    "Let's make sure that all the dates are unique"
   ]
  },
  {
   "cell_type": "code",
   "execution_count": 10,
   "metadata": {},
   "outputs": [
    {
     "data": {
      "text/plain": [
       "642"
      ]
     },
     "execution_count": 10,
     "metadata": {},
     "output_type": "execute_result"
    }
   ],
   "source": [
    "df_IDN['Date'].nunique()"
   ]
  },
  {
   "cell_type": "markdown",
   "metadata": {},
   "source": [
    "Taking a peek at the dataframe for IDN"
   ]
  },
  {
   "cell_type": "code",
   "execution_count": 11,
   "metadata": {},
   "outputs": [
    {
     "name": "stdout",
     "output_type": "stream",
     "text": [
      "<class 'pandas.core.frame.DataFrame'>\n",
      "Int64Index: 642 entries, 2 to 21758\n",
      "Data columns (total 38 columns):\n",
      " #   Column                       Non-Null Count  Dtype         \n",
      "---  ------                       --------------  -----         \n",
      " 0   Date                         642 non-null    datetime64[ns]\n",
      " 1   Location ISO Code            642 non-null    object        \n",
      " 2   Location                     642 non-null    object        \n",
      " 3   New Cases                    642 non-null    int64         \n",
      " 4   New Deaths                   642 non-null    int64         \n",
      " 5   New Recovered                642 non-null    int64         \n",
      " 6   New Active Cases             642 non-null    int64         \n",
      " 7   Total Cases                  642 non-null    int64         \n",
      " 8   Total Deaths                 642 non-null    int64         \n",
      " 9   Total Recovered              642 non-null    int64         \n",
      " 10  Total Active Cases           642 non-null    int64         \n",
      " 11  Location Level               642 non-null    object        \n",
      " 12  City or Regency              0 non-null      float64       \n",
      " 13  Province                     0 non-null      object        \n",
      " 14  Country                      642 non-null    object        \n",
      " 15  Continent                    642 non-null    object        \n",
      " 16  Island                       0 non-null      object        \n",
      " 17  Time Zone                    0 non-null      object        \n",
      " 18  Special Status               0 non-null      object        \n",
      " 19  Total Regencies              642 non-null    int64         \n",
      " 20  Total Cities                 642 non-null    float64       \n",
      " 21  Total Districts              642 non-null    int64         \n",
      " 22  Total Urban Villages         642 non-null    float64       \n",
      " 23  Total Rural Villages         642 non-null    float64       \n",
      " 24  Area (km2)                   642 non-null    int64         \n",
      " 25  Population                   642 non-null    int64         \n",
      " 26  Population Density           642 non-null    float64       \n",
      " 27  Longitude                    642 non-null    float64       \n",
      " 28  Latitude                     642 non-null    float64       \n",
      " 29  New Cases per Million        642 non-null    float64       \n",
      " 30  Total Cases per Million      642 non-null    float64       \n",
      " 31  New Deaths per Million       642 non-null    float64       \n",
      " 32  Total Deaths per Million     642 non-null    float64       \n",
      " 33  Total Deaths per 100rb       642 non-null    float64       \n",
      " 34  Case Fatality Rate           642 non-null    object        \n",
      " 35  Case Recovered Rate          642 non-null    object        \n",
      " 36  Growth Factor of New Cases   638 non-null    float64       \n",
      " 37  Growth Factor of New Deaths  638 non-null    float64       \n",
      "dtypes: datetime64[ns](1), float64(14), int64(12), object(11)\n",
      "memory usage: 195.6+ KB\n"
     ]
    }
   ],
   "source": [
    "df_IDN.info()"
   ]
  },
  {
   "cell_type": "markdown",
   "metadata": {},
   "source": [
    "Well some of them have 0 non-null values. I guess it makes sense since those features are used for the provincial cases"
   ]
  },
  {
   "cell_type": "code",
   "execution_count": 12,
   "metadata": {},
   "outputs": [
    {
     "data": {
      "text/plain": [
       "Index(['City or Regency', 'Province', 'Island', 'Time Zone', 'Special Status'], dtype='object')"
      ]
     },
     "execution_count": 12,
     "metadata": {},
     "output_type": "execute_result"
    }
   ],
   "source": [
    "col_IDN_null = df_IDN.isna().sum()[np.where(df_IDN.isna().sum() == 642)[0]].index\n",
    "col_IDN_null"
   ]
  },
  {
   "cell_type": "markdown",
   "metadata": {},
   "source": [
    "Let's just drop these features from the dataframe"
   ]
  },
  {
   "cell_type": "code",
   "execution_count": 13,
   "metadata": {},
   "outputs": [
    {
     "data": {
      "text/plain": [
       "(642, 33)"
      ]
     },
     "execution_count": 13,
     "metadata": {},
     "output_type": "execute_result"
    }
   ],
   "source": [
    "df_IDN = df_IDN.drop(columns=col_IDN_null)\n",
    "df_IDN.shape"
   ]
  },
  {
   "cell_type": "markdown",
   "metadata": {},
   "source": [
    "The other columns which have null values are"
   ]
  },
  {
   "cell_type": "code",
   "execution_count": 14,
   "metadata": {},
   "outputs": [
    {
     "data": {
      "text/plain": [
       "Growth Factor of New Cases     4\n",
       "Growth Factor of New Deaths    4\n",
       "dtype: int64"
      ]
     },
     "execution_count": 14,
     "metadata": {},
     "output_type": "execute_result"
    }
   ],
   "source": [
    "df_IDN.isna().sum()[np.where(df_IDN.isna().sum() > 0)[0]]"
   ]
  },
  {
   "cell_type": "markdown",
   "metadata": {},
   "source": [
    "Let's see those entries"
   ]
  },
  {
   "cell_type": "code",
   "execution_count": 15,
   "metadata": {},
   "outputs": [
    {
     "data": {
      "text/html": [
       "<div>\n",
       "<style scoped>\n",
       "    .dataframe tbody tr th:only-of-type {\n",
       "        vertical-align: middle;\n",
       "    }\n",
       "\n",
       "    .dataframe tbody tr th {\n",
       "        vertical-align: top;\n",
       "    }\n",
       "\n",
       "    .dataframe thead th {\n",
       "        text-align: right;\n",
       "    }\n",
       "</style>\n",
       "<table border=\"1\" class=\"dataframe\">\n",
       "  <thead>\n",
       "    <tr style=\"text-align: right;\">\n",
       "      <th></th>\n",
       "      <th>Date</th>\n",
       "      <th>Location ISO Code</th>\n",
       "      <th>Location</th>\n",
       "      <th>New Cases</th>\n",
       "      <th>New Deaths</th>\n",
       "      <th>New Recovered</th>\n",
       "      <th>New Active Cases</th>\n",
       "      <th>Total Cases</th>\n",
       "      <th>Total Deaths</th>\n",
       "      <th>Total Recovered</th>\n",
       "      <th>...</th>\n",
       "      <th>Latitude</th>\n",
       "      <th>New Cases per Million</th>\n",
       "      <th>Total Cases per Million</th>\n",
       "      <th>New Deaths per Million</th>\n",
       "      <th>Total Deaths per Million</th>\n",
       "      <th>Total Deaths per 100rb</th>\n",
       "      <th>Case Fatality Rate</th>\n",
       "      <th>Case Recovered Rate</th>\n",
       "      <th>Growth Factor of New Cases</th>\n",
       "      <th>Growth Factor of New Deaths</th>\n",
       "    </tr>\n",
       "  </thead>\n",
       "  <tbody>\n",
       "    <tr>\n",
       "      <th>2</th>\n",
       "      <td>2020-03-02</td>\n",
       "      <td>IDN</td>\n",
       "      <td>Indonesia</td>\n",
       "      <td>2</td>\n",
       "      <td>0</td>\n",
       "      <td>0</td>\n",
       "      <td>2</td>\n",
       "      <td>2</td>\n",
       "      <td>0</td>\n",
       "      <td>0</td>\n",
       "      <td>...</td>\n",
       "      <td>-0.789275</td>\n",
       "      <td>0.01</td>\n",
       "      <td>0.01</td>\n",
       "      <td>0.00</td>\n",
       "      <td>0.00</td>\n",
       "      <td>0.00</td>\n",
       "      <td>0.00%</td>\n",
       "      <td>0.00%</td>\n",
       "      <td>NaN</td>\n",
       "      <td>NaN</td>\n",
       "    </tr>\n",
       "    <tr>\n",
       "      <th>18</th>\n",
       "      <td>2020-03-06</td>\n",
       "      <td>IDN</td>\n",
       "      <td>Indonesia</td>\n",
       "      <td>2</td>\n",
       "      <td>0</td>\n",
       "      <td>0</td>\n",
       "      <td>2</td>\n",
       "      <td>4</td>\n",
       "      <td>0</td>\n",
       "      <td>0</td>\n",
       "      <td>...</td>\n",
       "      <td>-0.789275</td>\n",
       "      <td>0.01</td>\n",
       "      <td>0.02</td>\n",
       "      <td>0.00</td>\n",
       "      <td>0.00</td>\n",
       "      <td>0.00</td>\n",
       "      <td>0.00%</td>\n",
       "      <td>0.00%</td>\n",
       "      <td>NaN</td>\n",
       "      <td>1.0</td>\n",
       "    </tr>\n",
       "    <tr>\n",
       "      <th>28</th>\n",
       "      <td>2020-03-08</td>\n",
       "      <td>IDN</td>\n",
       "      <td>Indonesia</td>\n",
       "      <td>2</td>\n",
       "      <td>0</td>\n",
       "      <td>0</td>\n",
       "      <td>2</td>\n",
       "      <td>6</td>\n",
       "      <td>0</td>\n",
       "      <td>0</td>\n",
       "      <td>...</td>\n",
       "      <td>-0.789275</td>\n",
       "      <td>0.01</td>\n",
       "      <td>0.02</td>\n",
       "      <td>0.00</td>\n",
       "      <td>0.00</td>\n",
       "      <td>0.00</td>\n",
       "      <td>0.00%</td>\n",
       "      <td>0.00%</td>\n",
       "      <td>NaN</td>\n",
       "      <td>1.0</td>\n",
       "    </tr>\n",
       "    <tr>\n",
       "      <th>48</th>\n",
       "      <td>2020-03-11</td>\n",
       "      <td>IDN</td>\n",
       "      <td>Indonesia</td>\n",
       "      <td>7</td>\n",
       "      <td>1</td>\n",
       "      <td>0</td>\n",
       "      <td>6</td>\n",
       "      <td>34</td>\n",
       "      <td>1</td>\n",
       "      <td>2</td>\n",
       "      <td>...</td>\n",
       "      <td>-0.789275</td>\n",
       "      <td>0.03</td>\n",
       "      <td>0.13</td>\n",
       "      <td>0.00</td>\n",
       "      <td>0.00</td>\n",
       "      <td>0.00</td>\n",
       "      <td>2.94%</td>\n",
       "      <td>5.88%</td>\n",
       "      <td>0.88</td>\n",
       "      <td>NaN</td>\n",
       "    </tr>\n",
       "    <tr>\n",
       "      <th>64</th>\n",
       "      <td>2020-03-13</td>\n",
       "      <td>IDN</td>\n",
       "      <td>Indonesia</td>\n",
       "      <td>35</td>\n",
       "      <td>3</td>\n",
       "      <td>0</td>\n",
       "      <td>32</td>\n",
       "      <td>69</td>\n",
       "      <td>4</td>\n",
       "      <td>2</td>\n",
       "      <td>...</td>\n",
       "      <td>-0.789275</td>\n",
       "      <td>0.13</td>\n",
       "      <td>0.26</td>\n",
       "      <td>0.01</td>\n",
       "      <td>0.02</td>\n",
       "      <td>0.00</td>\n",
       "      <td>5.80%</td>\n",
       "      <td>2.90%</td>\n",
       "      <td>NaN</td>\n",
       "      <td>NaN</td>\n",
       "    </tr>\n",
       "    <tr>\n",
       "      <th>112</th>\n",
       "      <td>2020-03-18</td>\n",
       "      <td>IDN</td>\n",
       "      <td>Indonesia</td>\n",
       "      <td>55</td>\n",
       "      <td>14</td>\n",
       "      <td>2</td>\n",
       "      <td>39</td>\n",
       "      <td>227</td>\n",
       "      <td>19</td>\n",
       "      <td>11</td>\n",
       "      <td>...</td>\n",
       "      <td>-0.789275</td>\n",
       "      <td>0.21</td>\n",
       "      <td>0.86</td>\n",
       "      <td>0.05</td>\n",
       "      <td>0.07</td>\n",
       "      <td>0.01</td>\n",
       "      <td>8.37%</td>\n",
       "      <td>4.85%</td>\n",
       "      <td>1.45</td>\n",
       "      <td>NaN</td>\n",
       "    </tr>\n",
       "  </tbody>\n",
       "</table>\n",
       "<p>6 rows × 33 columns</p>\n",
       "</div>"
      ],
      "text/plain": [
       "          Date Location ISO Code   Location  New Cases  New Deaths  \\\n",
       "2   2020-03-02               IDN  Indonesia          2           0   \n",
       "18  2020-03-06               IDN  Indonesia          2           0   \n",
       "28  2020-03-08               IDN  Indonesia          2           0   \n",
       "48  2020-03-11               IDN  Indonesia          7           1   \n",
       "64  2020-03-13               IDN  Indonesia         35           3   \n",
       "112 2020-03-18               IDN  Indonesia         55          14   \n",
       "\n",
       "     New Recovered  New Active Cases  Total Cases  Total Deaths  \\\n",
       "2                0                 2            2             0   \n",
       "18               0                 2            4             0   \n",
       "28               0                 2            6             0   \n",
       "48               0                 6           34             1   \n",
       "64               0                32           69             4   \n",
       "112              2                39          227            19   \n",
       "\n",
       "     Total Recovered  ...  Latitude New Cases per Million  \\\n",
       "2                  0  ... -0.789275                  0.01   \n",
       "18                 0  ... -0.789275                  0.01   \n",
       "28                 0  ... -0.789275                  0.01   \n",
       "48                 2  ... -0.789275                  0.03   \n",
       "64                 2  ... -0.789275                  0.13   \n",
       "112               11  ... -0.789275                  0.21   \n",
       "\n",
       "    Total Cases per Million New Deaths per Million  Total Deaths per Million  \\\n",
       "2                      0.01                   0.00                      0.00   \n",
       "18                     0.02                   0.00                      0.00   \n",
       "28                     0.02                   0.00                      0.00   \n",
       "48                     0.13                   0.00                      0.00   \n",
       "64                     0.26                   0.01                      0.02   \n",
       "112                    0.86                   0.05                      0.07   \n",
       "\n",
       "     Total Deaths per 100rb  Case Fatality Rate  Case Recovered Rate  \\\n",
       "2                      0.00               0.00%                0.00%   \n",
       "18                     0.00               0.00%                0.00%   \n",
       "28                     0.00               0.00%                0.00%   \n",
       "48                     0.00               2.94%                5.88%   \n",
       "64                     0.00               5.80%                2.90%   \n",
       "112                    0.01               8.37%                4.85%   \n",
       "\n",
       "     Growth Factor of New Cases  Growth Factor of New Deaths  \n",
       "2                           NaN                          NaN  \n",
       "18                          NaN                          1.0  \n",
       "28                          NaN                          1.0  \n",
       "48                         0.88                          NaN  \n",
       "64                          NaN                          NaN  \n",
       "112                        1.45                          NaN  \n",
       "\n",
       "[6 rows x 33 columns]"
      ]
     },
     "execution_count": 15,
     "metadata": {},
     "output_type": "execute_result"
    }
   ],
   "source": [
    "df_IDN.iloc[np.unique(np.where(df_IDN.iloc[:, -2:].isna())[0])]"
   ]
  },
  {
   "cell_type": "markdown",
   "metadata": {},
   "source": [
    "I have no idea why those would be null. I don't know the best way to handle them as well \\\n",
    "For now, I'm just gonna replace those null values with 0"
   ]
  },
  {
   "cell_type": "code",
   "execution_count": 16,
   "metadata": {},
   "outputs": [
    {
     "data": {
      "text/plain": [
       "False"
      ]
     },
     "execution_count": 16,
     "metadata": {},
     "output_type": "execute_result"
    }
   ],
   "source": [
    "df_IDN = df_IDN.fillna(0)\n",
    "df_IDN.isna().values.any()"
   ]
  },
  {
   "cell_type": "markdown",
   "metadata": {},
   "source": [
    "I wanna make the date as the index"
   ]
  },
  {
   "cell_type": "code",
   "execution_count": 17,
   "metadata": {},
   "outputs": [
    {
     "data": {
      "text/html": [
       "<div>\n",
       "<style scoped>\n",
       "    .dataframe tbody tr th:only-of-type {\n",
       "        vertical-align: middle;\n",
       "    }\n",
       "\n",
       "    .dataframe tbody tr th {\n",
       "        vertical-align: top;\n",
       "    }\n",
       "\n",
       "    .dataframe thead th {\n",
       "        text-align: right;\n",
       "    }\n",
       "</style>\n",
       "<table border=\"1\" class=\"dataframe\">\n",
       "  <thead>\n",
       "    <tr style=\"text-align: right;\">\n",
       "      <th></th>\n",
       "      <th>Location ISO Code</th>\n",
       "      <th>Location</th>\n",
       "      <th>New Cases</th>\n",
       "      <th>New Deaths</th>\n",
       "      <th>New Recovered</th>\n",
       "      <th>New Active Cases</th>\n",
       "      <th>Total Cases</th>\n",
       "      <th>Total Deaths</th>\n",
       "      <th>Total Recovered</th>\n",
       "      <th>Total Active Cases</th>\n",
       "      <th>...</th>\n",
       "      <th>Latitude</th>\n",
       "      <th>New Cases per Million</th>\n",
       "      <th>Total Cases per Million</th>\n",
       "      <th>New Deaths per Million</th>\n",
       "      <th>Total Deaths per Million</th>\n",
       "      <th>Total Deaths per 100rb</th>\n",
       "      <th>Case Fatality Rate</th>\n",
       "      <th>Case Recovered Rate</th>\n",
       "      <th>Growth Factor of New Cases</th>\n",
       "      <th>Growth Factor of New Deaths</th>\n",
       "    </tr>\n",
       "    <tr>\n",
       "      <th>Date</th>\n",
       "      <th></th>\n",
       "      <th></th>\n",
       "      <th></th>\n",
       "      <th></th>\n",
       "      <th></th>\n",
       "      <th></th>\n",
       "      <th></th>\n",
       "      <th></th>\n",
       "      <th></th>\n",
       "      <th></th>\n",
       "      <th></th>\n",
       "      <th></th>\n",
       "      <th></th>\n",
       "      <th></th>\n",
       "      <th></th>\n",
       "      <th></th>\n",
       "      <th></th>\n",
       "      <th></th>\n",
       "      <th></th>\n",
       "      <th></th>\n",
       "      <th></th>\n",
       "    </tr>\n",
       "  </thead>\n",
       "  <tbody>\n",
       "    <tr>\n",
       "      <th>2020-03-02</th>\n",
       "      <td>IDN</td>\n",
       "      <td>Indonesia</td>\n",
       "      <td>2</td>\n",
       "      <td>0</td>\n",
       "      <td>0</td>\n",
       "      <td>2</td>\n",
       "      <td>2</td>\n",
       "      <td>0</td>\n",
       "      <td>0</td>\n",
       "      <td>2</td>\n",
       "      <td>...</td>\n",
       "      <td>-0.789275</td>\n",
       "      <td>0.01</td>\n",
       "      <td>0.01</td>\n",
       "      <td>0.0</td>\n",
       "      <td>0.0</td>\n",
       "      <td>0.0</td>\n",
       "      <td>0.00%</td>\n",
       "      <td>0.00%</td>\n",
       "      <td>0.0</td>\n",
       "      <td>0.0</td>\n",
       "    </tr>\n",
       "    <tr>\n",
       "      <th>2020-03-03</th>\n",
       "      <td>IDN</td>\n",
       "      <td>Indonesia</td>\n",
       "      <td>0</td>\n",
       "      <td>0</td>\n",
       "      <td>0</td>\n",
       "      <td>0</td>\n",
       "      <td>2</td>\n",
       "      <td>0</td>\n",
       "      <td>0</td>\n",
       "      <td>2</td>\n",
       "      <td>...</td>\n",
       "      <td>-0.789275</td>\n",
       "      <td>0.00</td>\n",
       "      <td>0.01</td>\n",
       "      <td>0.0</td>\n",
       "      <td>0.0</td>\n",
       "      <td>0.0</td>\n",
       "      <td>0.00%</td>\n",
       "      <td>0.00%</td>\n",
       "      <td>0.0</td>\n",
       "      <td>1.0</td>\n",
       "    </tr>\n",
       "    <tr>\n",
       "      <th>2020-03-04</th>\n",
       "      <td>IDN</td>\n",
       "      <td>Indonesia</td>\n",
       "      <td>0</td>\n",
       "      <td>0</td>\n",
       "      <td>0</td>\n",
       "      <td>0</td>\n",
       "      <td>2</td>\n",
       "      <td>0</td>\n",
       "      <td>0</td>\n",
       "      <td>2</td>\n",
       "      <td>...</td>\n",
       "      <td>-0.789275</td>\n",
       "      <td>0.00</td>\n",
       "      <td>0.01</td>\n",
       "      <td>0.0</td>\n",
       "      <td>0.0</td>\n",
       "      <td>0.0</td>\n",
       "      <td>0.00%</td>\n",
       "      <td>0.00%</td>\n",
       "      <td>1.0</td>\n",
       "      <td>1.0</td>\n",
       "    </tr>\n",
       "    <tr>\n",
       "      <th>2020-03-05</th>\n",
       "      <td>IDN</td>\n",
       "      <td>Indonesia</td>\n",
       "      <td>0</td>\n",
       "      <td>0</td>\n",
       "      <td>0</td>\n",
       "      <td>0</td>\n",
       "      <td>2</td>\n",
       "      <td>0</td>\n",
       "      <td>0</td>\n",
       "      <td>2</td>\n",
       "      <td>...</td>\n",
       "      <td>-0.789275</td>\n",
       "      <td>0.00</td>\n",
       "      <td>0.01</td>\n",
       "      <td>0.0</td>\n",
       "      <td>0.0</td>\n",
       "      <td>0.0</td>\n",
       "      <td>0.00%</td>\n",
       "      <td>0.00%</td>\n",
       "      <td>1.0</td>\n",
       "      <td>1.0</td>\n",
       "    </tr>\n",
       "    <tr>\n",
       "      <th>2020-03-06</th>\n",
       "      <td>IDN</td>\n",
       "      <td>Indonesia</td>\n",
       "      <td>2</td>\n",
       "      <td>0</td>\n",
       "      <td>0</td>\n",
       "      <td>2</td>\n",
       "      <td>4</td>\n",
       "      <td>0</td>\n",
       "      <td>0</td>\n",
       "      <td>4</td>\n",
       "      <td>...</td>\n",
       "      <td>-0.789275</td>\n",
       "      <td>0.01</td>\n",
       "      <td>0.02</td>\n",
       "      <td>0.0</td>\n",
       "      <td>0.0</td>\n",
       "      <td>0.0</td>\n",
       "      <td>0.00%</td>\n",
       "      <td>0.00%</td>\n",
       "      <td>0.0</td>\n",
       "      <td>1.0</td>\n",
       "    </tr>\n",
       "  </tbody>\n",
       "</table>\n",
       "<p>5 rows × 32 columns</p>\n",
       "</div>"
      ],
      "text/plain": [
       "           Location ISO Code   Location  New Cases  New Deaths  New Recovered  \\\n",
       "Date                                                                            \n",
       "2020-03-02               IDN  Indonesia          2           0              0   \n",
       "2020-03-03               IDN  Indonesia          0           0              0   \n",
       "2020-03-04               IDN  Indonesia          0           0              0   \n",
       "2020-03-05               IDN  Indonesia          0           0              0   \n",
       "2020-03-06               IDN  Indonesia          2           0              0   \n",
       "\n",
       "            New Active Cases  Total Cases  Total Deaths  Total Recovered  \\\n",
       "Date                                                                       \n",
       "2020-03-02                 2            2             0                0   \n",
       "2020-03-03                 0            2             0                0   \n",
       "2020-03-04                 0            2             0                0   \n",
       "2020-03-05                 0            2             0                0   \n",
       "2020-03-06                 2            4             0                0   \n",
       "\n",
       "            Total Active Cases  ...  Latitude New Cases per Million  \\\n",
       "Date                            ...                                   \n",
       "2020-03-02                   2  ... -0.789275                  0.01   \n",
       "2020-03-03                   2  ... -0.789275                  0.00   \n",
       "2020-03-04                   2  ... -0.789275                  0.00   \n",
       "2020-03-05                   2  ... -0.789275                  0.00   \n",
       "2020-03-06                   4  ... -0.789275                  0.01   \n",
       "\n",
       "           Total Cases per Million  New Deaths per Million  \\\n",
       "Date                                                         \n",
       "2020-03-02                    0.01                     0.0   \n",
       "2020-03-03                    0.01                     0.0   \n",
       "2020-03-04                    0.01                     0.0   \n",
       "2020-03-05                    0.01                     0.0   \n",
       "2020-03-06                    0.02                     0.0   \n",
       "\n",
       "            Total Deaths per Million  Total Deaths per 100rb  \\\n",
       "Date                                                           \n",
       "2020-03-02                       0.0                     0.0   \n",
       "2020-03-03                       0.0                     0.0   \n",
       "2020-03-04                       0.0                     0.0   \n",
       "2020-03-05                       0.0                     0.0   \n",
       "2020-03-06                       0.0                     0.0   \n",
       "\n",
       "            Case Fatality Rate  Case Recovered Rate  \\\n",
       "Date                                                  \n",
       "2020-03-02               0.00%                0.00%   \n",
       "2020-03-03               0.00%                0.00%   \n",
       "2020-03-04               0.00%                0.00%   \n",
       "2020-03-05               0.00%                0.00%   \n",
       "2020-03-06               0.00%                0.00%   \n",
       "\n",
       "            Growth Factor of New Cases  Growth Factor of New Deaths  \n",
       "Date                                                                 \n",
       "2020-03-02                         0.0                          0.0  \n",
       "2020-03-03                         0.0                          1.0  \n",
       "2020-03-04                         1.0                          1.0  \n",
       "2020-03-05                         1.0                          1.0  \n",
       "2020-03-06                         0.0                          1.0  \n",
       "\n",
       "[5 rows x 32 columns]"
      ]
     },
     "execution_count": 17,
     "metadata": {},
     "output_type": "execute_result"
    }
   ],
   "source": [
    "# make sure it's sorted out first\n",
    "df_IDN = df_IDN.sort_values(by='Date')\n",
    "df_IDN = df_IDN.set_index('Date')\n",
    "\n",
    "df_IDN.head()"
   ]
  },
  {
   "cell_type": "markdown",
   "metadata": {},
   "source": [
    "No more missing values"
   ]
  },
  {
   "cell_type": "markdown",
   "metadata": {},
   "source": [
    "## Data Exploration"
   ]
  },
  {
   "cell_type": "markdown",
   "metadata": {},
   "source": [
    "Let's look at some basic stats"
   ]
  },
  {
   "cell_type": "code",
   "execution_count": 18,
   "metadata": {},
   "outputs": [
    {
     "data": {
      "text/html": [
       "<div>\n",
       "<style scoped>\n",
       "    .dataframe tbody tr th:only-of-type {\n",
       "        vertical-align: middle;\n",
       "    }\n",
       "\n",
       "    .dataframe tbody tr th {\n",
       "        vertical-align: top;\n",
       "    }\n",
       "\n",
       "    .dataframe thead th {\n",
       "        text-align: right;\n",
       "    }\n",
       "</style>\n",
       "<table border=\"1\" class=\"dataframe\">\n",
       "  <thead>\n",
       "    <tr style=\"text-align: right;\">\n",
       "      <th></th>\n",
       "      <th>New Cases</th>\n",
       "      <th>New Deaths</th>\n",
       "      <th>New Recovered</th>\n",
       "      <th>New Active Cases</th>\n",
       "      <th>Total Cases</th>\n",
       "      <th>Total Deaths</th>\n",
       "      <th>Total Recovered</th>\n",
       "      <th>Total Active Cases</th>\n",
       "      <th>Total Regencies</th>\n",
       "      <th>Total Cities</th>\n",
       "      <th>...</th>\n",
       "      <th>Population Density</th>\n",
       "      <th>Longitude</th>\n",
       "      <th>Latitude</th>\n",
       "      <th>New Cases per Million</th>\n",
       "      <th>Total Cases per Million</th>\n",
       "      <th>New Deaths per Million</th>\n",
       "      <th>Total Deaths per Million</th>\n",
       "      <th>Total Deaths per 100rb</th>\n",
       "      <th>Growth Factor of New Cases</th>\n",
       "      <th>Growth Factor of New Deaths</th>\n",
       "    </tr>\n",
       "  </thead>\n",
       "  <tbody>\n",
       "    <tr>\n",
       "      <th>count</th>\n",
       "      <td>642.000000</td>\n",
       "      <td>642.000000</td>\n",
       "      <td>642.000000</td>\n",
       "      <td>642.000000</td>\n",
       "      <td>6.420000e+02</td>\n",
       "      <td>642.000000</td>\n",
       "      <td>6.420000e+02</td>\n",
       "      <td>642.000000</td>\n",
       "      <td>642.0</td>\n",
       "      <td>642.0</td>\n",
       "      <td>...</td>\n",
       "      <td>642.00</td>\n",
       "      <td>6.420000e+02</td>\n",
       "      <td>642.000000</td>\n",
       "      <td>642.000000</td>\n",
       "      <td>642.000000</td>\n",
       "      <td>642.000000</td>\n",
       "      <td>642.000000</td>\n",
       "      <td>642.000000</td>\n",
       "      <td>642.000000</td>\n",
       "      <td>642.000000</td>\n",
       "    </tr>\n",
       "    <tr>\n",
       "      <th>mean</th>\n",
       "      <td>6631.219626</td>\n",
       "      <td>224.077882</td>\n",
       "      <td>6395.140187</td>\n",
       "      <td>12.001558</td>\n",
       "      <td>1.447226e+06</td>\n",
       "      <td>44763.917445</td>\n",
       "      <td>1.301800e+06</td>\n",
       "      <td>100661.914330</td>\n",
       "      <td>416.0</td>\n",
       "      <td>98.0</td>\n",
       "      <td>...</td>\n",
       "      <td>138.34</td>\n",
       "      <td>1.139213e+02</td>\n",
       "      <td>-0.789275</td>\n",
       "      <td>25.005950</td>\n",
       "      <td>5457.408801</td>\n",
       "      <td>0.845031</td>\n",
       "      <td>168.802274</td>\n",
       "      <td>16.880171</td>\n",
       "      <td>1.023489</td>\n",
       "      <td>1.079751</td>\n",
       "    </tr>\n",
       "    <tr>\n",
       "      <th>std</th>\n",
       "      <td>9556.018870</td>\n",
       "      <td>359.858505</td>\n",
       "      <td>9052.199569</td>\n",
       "      <td>4862.277290</td>\n",
       "      <td>1.515266e+06</td>\n",
       "      <td>49183.587582</td>\n",
       "      <td>1.425122e+06</td>\n",
       "      <td>119600.851504</td>\n",
       "      <td>0.0</td>\n",
       "      <td>0.0</td>\n",
       "      <td>...</td>\n",
       "      <td>0.00</td>\n",
       "      <td>1.422194e-14</td>\n",
       "      <td>0.000000</td>\n",
       "      <td>36.035322</td>\n",
       "      <td>5713.983687</td>\n",
       "      <td>1.357042</td>\n",
       "      <td>185.468626</td>\n",
       "      <td>18.546702</td>\n",
       "      <td>0.336241</td>\n",
       "      <td>0.666776</td>\n",
       "    </tr>\n",
       "    <tr>\n",
       "      <th>min</th>\n",
       "      <td>0.000000</td>\n",
       "      <td>0.000000</td>\n",
       "      <td>0.000000</td>\n",
       "      <td>-25725.000000</td>\n",
       "      <td>2.000000e+00</td>\n",
       "      <td>0.000000</td>\n",
       "      <td>0.000000e+00</td>\n",
       "      <td>2.000000</td>\n",
       "      <td>416.0</td>\n",
       "      <td>98.0</td>\n",
       "      <td>...</td>\n",
       "      <td>138.34</td>\n",
       "      <td>1.139213e+02</td>\n",
       "      <td>-0.789275</td>\n",
       "      <td>0.000000</td>\n",
       "      <td>0.010000</td>\n",
       "      <td>0.000000</td>\n",
       "      <td>0.000000</td>\n",
       "      <td>0.000000</td>\n",
       "      <td>0.000000</td>\n",
       "      <td>0.000000</td>\n",
       "    </tr>\n",
       "    <tr>\n",
       "      <th>25%</th>\n",
       "      <td>1044.250000</td>\n",
       "      <td>47.250000</td>\n",
       "      <td>889.750000</td>\n",
       "      <td>-619.750000</td>\n",
       "      <td>1.258178e+05</td>\n",
       "      <td>5733.500000</td>\n",
       "      <td>8.127300e+04</td>\n",
       "      <td>22633.750000</td>\n",
       "      <td>416.0</td>\n",
       "      <td>98.0</td>\n",
       "      <td>...</td>\n",
       "      <td>138.34</td>\n",
       "      <td>1.139213e+02</td>\n",
       "      <td>-0.789275</td>\n",
       "      <td>3.937500</td>\n",
       "      <td>474.450000</td>\n",
       "      <td>0.180000</td>\n",
       "      <td>21.620000</td>\n",
       "      <td>2.162500</td>\n",
       "      <td>0.880000</td>\n",
       "      <td>0.840000</td>\n",
       "    </tr>\n",
       "    <tr>\n",
       "      <th>50%</th>\n",
       "      <td>4070.500000</td>\n",
       "      <td>112.000000</td>\n",
       "      <td>3855.000000</td>\n",
       "      <td>118.500000</td>\n",
       "      <td>9.022855e+05</td>\n",
       "      <td>25877.000000</td>\n",
       "      <td>7.319090e+05</td>\n",
       "      <td>63252.500000</td>\n",
       "      <td>416.0</td>\n",
       "      <td>98.0</td>\n",
       "      <td>...</td>\n",
       "      <td>138.34</td>\n",
       "      <td>1.139213e+02</td>\n",
       "      <td>-0.789275</td>\n",
       "      <td>15.350000</td>\n",
       "      <td>3402.470000</td>\n",
       "      <td>0.420000</td>\n",
       "      <td>97.585000</td>\n",
       "      <td>9.760000</td>\n",
       "      <td>0.990000</td>\n",
       "      <td>0.990000</td>\n",
       "    </tr>\n",
       "    <tr>\n",
       "      <th>75%</th>\n",
       "      <td>6737.750000</td>\n",
       "      <td>193.750000</td>\n",
       "      <td>6976.750000</td>\n",
       "      <td>639.750000</td>\n",
       "      <td>2.088688e+06</td>\n",
       "      <td>56639.500000</td>\n",
       "      <td>1.840608e+06</td>\n",
       "      <td>123868.000000</td>\n",
       "      <td>416.0</td>\n",
       "      <td>98.0</td>\n",
       "      <td>...</td>\n",
       "      <td>138.34</td>\n",
       "      <td>1.139213e+02</td>\n",
       "      <td>-0.789275</td>\n",
       "      <td>25.410000</td>\n",
       "      <td>7876.332500</td>\n",
       "      <td>0.730000</td>\n",
       "      <td>213.582500</td>\n",
       "      <td>21.357500</td>\n",
       "      <td>1.120000</td>\n",
       "      <td>1.170000</td>\n",
       "    </tr>\n",
       "    <tr>\n",
       "      <th>max</th>\n",
       "      <td>56757.000000</td>\n",
       "      <td>2069.000000</td>\n",
       "      <td>48832.000000</td>\n",
       "      <td>36726.000000</td>\n",
       "      <td>4.257243e+06</td>\n",
       "      <td>143858.000000</td>\n",
       "      <td>4.105680e+06</td>\n",
       "      <td>574135.000000</td>\n",
       "      <td>416.0</td>\n",
       "      <td>98.0</td>\n",
       "      <td>...</td>\n",
       "      <td>138.34</td>\n",
       "      <td>1.139213e+02</td>\n",
       "      <td>-0.789275</td>\n",
       "      <td>214.030000</td>\n",
       "      <td>16053.830000</td>\n",
       "      <td>7.800000</td>\n",
       "      <td>542.480000</td>\n",
       "      <td>54.250000</td>\n",
       "      <td>6.500000</td>\n",
       "      <td>11.000000</td>\n",
       "    </tr>\n",
       "  </tbody>\n",
       "</table>\n",
       "<p>8 rows × 25 columns</p>\n",
       "</div>"
      ],
      "text/plain": [
       "          New Cases   New Deaths  New Recovered  New Active Cases  \\\n",
       "count    642.000000   642.000000     642.000000        642.000000   \n",
       "mean    6631.219626   224.077882    6395.140187         12.001558   \n",
       "std     9556.018870   359.858505    9052.199569       4862.277290   \n",
       "min        0.000000     0.000000       0.000000     -25725.000000   \n",
       "25%     1044.250000    47.250000     889.750000       -619.750000   \n",
       "50%     4070.500000   112.000000    3855.000000        118.500000   \n",
       "75%     6737.750000   193.750000    6976.750000        639.750000   \n",
       "max    56757.000000  2069.000000   48832.000000      36726.000000   \n",
       "\n",
       "        Total Cases   Total Deaths  Total Recovered  Total Active Cases  \\\n",
       "count  6.420000e+02     642.000000     6.420000e+02          642.000000   \n",
       "mean   1.447226e+06   44763.917445     1.301800e+06       100661.914330   \n",
       "std    1.515266e+06   49183.587582     1.425122e+06       119600.851504   \n",
       "min    2.000000e+00       0.000000     0.000000e+00            2.000000   \n",
       "25%    1.258178e+05    5733.500000     8.127300e+04        22633.750000   \n",
       "50%    9.022855e+05   25877.000000     7.319090e+05        63252.500000   \n",
       "75%    2.088688e+06   56639.500000     1.840608e+06       123868.000000   \n",
       "max    4.257243e+06  143858.000000     4.105680e+06       574135.000000   \n",
       "\n",
       "       Total Regencies  Total Cities  ...  Population Density     Longitude  \\\n",
       "count            642.0         642.0  ...              642.00  6.420000e+02   \n",
       "mean             416.0          98.0  ...              138.34  1.139213e+02   \n",
       "std                0.0           0.0  ...                0.00  1.422194e-14   \n",
       "min              416.0          98.0  ...              138.34  1.139213e+02   \n",
       "25%              416.0          98.0  ...              138.34  1.139213e+02   \n",
       "50%              416.0          98.0  ...              138.34  1.139213e+02   \n",
       "75%              416.0          98.0  ...              138.34  1.139213e+02   \n",
       "max              416.0          98.0  ...              138.34  1.139213e+02   \n",
       "\n",
       "         Latitude  New Cases per Million  Total Cases per Million  \\\n",
       "count  642.000000             642.000000               642.000000   \n",
       "mean    -0.789275              25.005950              5457.408801   \n",
       "std      0.000000              36.035322              5713.983687   \n",
       "min     -0.789275               0.000000                 0.010000   \n",
       "25%     -0.789275               3.937500               474.450000   \n",
       "50%     -0.789275              15.350000              3402.470000   \n",
       "75%     -0.789275              25.410000              7876.332500   \n",
       "max     -0.789275             214.030000             16053.830000   \n",
       "\n",
       "       New Deaths per Million  Total Deaths per Million  \\\n",
       "count              642.000000                642.000000   \n",
       "mean                 0.845031                168.802274   \n",
       "std                  1.357042                185.468626   \n",
       "min                  0.000000                  0.000000   \n",
       "25%                  0.180000                 21.620000   \n",
       "50%                  0.420000                 97.585000   \n",
       "75%                  0.730000                213.582500   \n",
       "max                  7.800000                542.480000   \n",
       "\n",
       "       Total Deaths per 100rb  Growth Factor of New Cases  \\\n",
       "count              642.000000                  642.000000   \n",
       "mean                16.880171                    1.023489   \n",
       "std                 18.546702                    0.336241   \n",
       "min                  0.000000                    0.000000   \n",
       "25%                  2.162500                    0.880000   \n",
       "50%                  9.760000                    0.990000   \n",
       "75%                 21.357500                    1.120000   \n",
       "max                 54.250000                    6.500000   \n",
       "\n",
       "       Growth Factor of New Deaths  \n",
       "count                   642.000000  \n",
       "mean                      1.079751  \n",
       "std                       0.666776  \n",
       "min                       0.000000  \n",
       "25%                       0.840000  \n",
       "50%                       0.990000  \n",
       "75%                       1.170000  \n",
       "max                      11.000000  \n",
       "\n",
       "[8 rows x 25 columns]"
      ]
     },
     "execution_count": 18,
     "metadata": {},
     "output_type": "execute_result"
    }
   ],
   "source": [
    "df_IDN.describe()"
   ]
  },
  {
   "cell_type": "markdown",
   "metadata": {},
   "source": [
    "Seems like there are 4 categories of data for daily, which are"
   ]
  },
  {
   "cell_type": "code",
   "execution_count": 19,
   "metadata": {},
   "outputs": [
    {
     "data": {
      "text/plain": [
       "Index(['New Cases', 'New Deaths', 'New Recovered', 'New Active Cases'], dtype='object')"
      ]
     },
     "execution_count": 19,
     "metadata": {},
     "output_type": "execute_result"
    }
   ],
   "source": [
    "col_daily = df_IDN.columns[2:6]\n",
    "col_daily"
   ]
  },
  {
   "cell_type": "markdown",
   "metadata": {},
   "source": [
    "For now, let's focus our EDA on these 4 datas first"
   ]
  },
  {
   "cell_type": "markdown",
   "metadata": {},
   "source": [
    "### Measure of Central Tendency\n",
    "\n",
    "Consists of\n",
    "- Mean\n",
    "- Median\n",
    "- Mode"
   ]
  },
  {
   "cell_type": "markdown",
   "metadata": {},
   "source": [
    "#### Mean"
   ]
  },
  {
   "cell_type": "code",
   "execution_count": 20,
   "metadata": {},
   "outputs": [
    {
     "data": {
      "text/plain": [
       "New Cases           6631.219626\n",
       "New Deaths           224.077882\n",
       "New Recovered       6395.140187\n",
       "New Active Cases      12.001558\n",
       "dtype: float64"
      ]
     },
     "execution_count": 20,
     "metadata": {},
     "output_type": "execute_result"
    }
   ],
   "source": [
    "df_IDN[col_daily].mean()"
   ]
  },
  {
   "cell_type": "markdown",
   "metadata": {},
   "source": [
    "#### Median"
   ]
  },
  {
   "cell_type": "code",
   "execution_count": 21,
   "metadata": {},
   "outputs": [
    {
     "data": {
      "text/plain": [
       "New Cases           4070.5\n",
       "New Deaths           112.0\n",
       "New Recovered       3855.0\n",
       "New Active Cases     118.5\n",
       "dtype: float64"
      ]
     },
     "execution_count": 21,
     "metadata": {},
     "output_type": "execute_result"
    }
   ],
   "source": [
    "df_IDN[col_daily].median()"
   ]
  },
  {
   "cell_type": "markdown",
   "metadata": {},
   "source": [
    "#### Mode"
   ]
  },
  {
   "cell_type": "code",
   "execution_count": 22,
   "metadata": {},
   "outputs": [
    {
     "data": {
      "text/html": [
       "<div>\n",
       "<style scoped>\n",
       "    .dataframe tbody tr th:only-of-type {\n",
       "        vertical-align: middle;\n",
       "    }\n",
       "\n",
       "    .dataframe tbody tr th {\n",
       "        vertical-align: top;\n",
       "    }\n",
       "\n",
       "    .dataframe thead th {\n",
       "        text-align: right;\n",
       "    }\n",
       "</style>\n",
       "<table border=\"1\" class=\"dataframe\">\n",
       "  <thead>\n",
       "    <tr style=\"text-align: right;\">\n",
       "      <th></th>\n",
       "      <th>New Cases</th>\n",
       "      <th>New Deaths</th>\n",
       "      <th>New Recovered</th>\n",
       "      <th>New Active Cases</th>\n",
       "    </tr>\n",
       "  </thead>\n",
       "  <tbody>\n",
       "    <tr>\n",
       "      <th>0</th>\n",
       "      <td>0</td>\n",
       "      <td>0</td>\n",
       "      <td>0</td>\n",
       "      <td>0</td>\n",
       "    </tr>\n",
       "  </tbody>\n",
       "</table>\n",
       "</div>"
      ],
      "text/plain": [
       "   New Cases  New Deaths  New Recovered  New Active Cases\n",
       "0          0           0              0                 0"
      ]
     },
     "execution_count": 22,
     "metadata": {},
     "output_type": "execute_result"
    }
   ],
   "source": [
    "df_IDN[col_daily].mode()"
   ]
  },
  {
   "cell_type": "code",
   "execution_count": 23,
   "metadata": {},
   "outputs": [
    {
     "data": {
      "image/png": "[encoded data removed]",
      "text/plain": [
       "<Figure size 1800x288 with 4 Axes>"
      ]
     },
     "metadata": {
      "needs_background": "light"
     },
     "output_type": "display_data"
    }
   ],
   "source": [
    "fig, ax = plt.subplots(ncols=4, figsize=(25, 4))\n",
    "for i, col in enumerate(col_daily):\n",
    "    ax[i].hist(df_IDN[col], bins=25)\n",
    "    ax[i].set_title(col)\n",
    "    ax[i].axvline(df_IDN[col].mean(), color='magenta', linestyle='dashed')\n",
    "    ax[i].axvline(df_IDN[col].median(), color='green', linestyle='dashed')\n",
    "    ax[i].axvline(df_IDN[col].mode().iloc[0], color='orange', linestyle='dashed')\n",
    "\n",
    "plt.show()"
   ]
  },
  {
   "cell_type": "markdown",
   "metadata": {},
   "source": [
    "Notes:\n",
    "- Magenta line: mean\n",
    "- Green line: median\n",
    "- Orange line: mode"
   ]
  },
  {
   "cell_type": "markdown",
   "metadata": {},
   "source": [
    "For `New Cases`, `New Deaths`, and `New Recovered` the mean is relatively higher than the median which means the data is right-skewed\n",
    "\n",
    "For `New Active Cases`, the data is more of a normal distribuation with the mean, median, and mode relatively close to each other\n"
   ]
  },
  {
   "cell_type": "markdown",
   "metadata": {},
   "source": [
    "### Measure of Variance\n",
    "\n",
    "Consists of\n",
    "- Range\n",
    "- Percentiles\n",
    "- Variance"
   ]
  },
  {
   "cell_type": "markdown",
   "metadata": {},
   "source": [
    "#### Range"
   ]
  },
  {
   "cell_type": "code",
   "execution_count": 24,
   "metadata": {},
   "outputs": [
    {
     "data": {
      "text/plain": [
       "New Cases           56757\n",
       "New Deaths           2069\n",
       "New Recovered       48832\n",
       "New Active Cases    62451\n",
       "dtype: int64"
      ]
     },
     "execution_count": 24,
     "metadata": {},
     "output_type": "execute_result"
    }
   ],
   "source": [
    "df_IDN[col_daily].max() - df_IDN[col_daily].min()"
   ]
  },
  {
   "cell_type": "markdown",
   "metadata": {},
   "source": [
    "#### Quartiles"
   ]
  },
  {
   "cell_type": "code",
   "execution_count": 25,
   "metadata": {},
   "outputs": [
    {
     "data": {
      "text/html": [
       "<div>\n",
       "<style scoped>\n",
       "    .dataframe tbody tr th:only-of-type {\n",
       "        vertical-align: middle;\n",
       "    }\n",
       "\n",
       "    .dataframe tbody tr th {\n",
       "        vertical-align: top;\n",
       "    }\n",
       "\n",
       "    .dataframe thead th {\n",
       "        text-align: right;\n",
       "    }\n",
       "</style>\n",
       "<table border=\"1\" class=\"dataframe\">\n",
       "  <thead>\n",
       "    <tr style=\"text-align: right;\">\n",
       "      <th></th>\n",
       "      <th>New Cases</th>\n",
       "      <th>New Deaths</th>\n",
       "      <th>New Recovered</th>\n",
       "      <th>New Active Cases</th>\n",
       "    </tr>\n",
       "  </thead>\n",
       "  <tbody>\n",
       "    <tr>\n",
       "      <th>0.25</th>\n",
       "      <td>1044.25</td>\n",
       "      <td>47.25</td>\n",
       "      <td>889.75</td>\n",
       "      <td>-619.75</td>\n",
       "    </tr>\n",
       "    <tr>\n",
       "      <th>0.50</th>\n",
       "      <td>4070.50</td>\n",
       "      <td>112.00</td>\n",
       "      <td>3855.00</td>\n",
       "      <td>118.50</td>\n",
       "    </tr>\n",
       "    <tr>\n",
       "      <th>0.75</th>\n",
       "      <td>6737.75</td>\n",
       "      <td>193.75</td>\n",
       "      <td>6976.75</td>\n",
       "      <td>639.75</td>\n",
       "    </tr>\n",
       "  </tbody>\n",
       "</table>\n",
       "</div>"
      ],
      "text/plain": [
       "      New Cases  New Deaths  New Recovered  New Active Cases\n",
       "0.25    1044.25       47.25         889.75           -619.75\n",
       "0.50    4070.50      112.00        3855.00            118.50\n",
       "0.75    6737.75      193.75        6976.75            639.75"
      ]
     },
     "execution_count": 25,
     "metadata": {},
     "output_type": "execute_result"
    }
   ],
   "source": [
    "df_IDN[col_daily].quantile([0.25, 0.5, 0.75])"
   ]
  },
  {
   "cell_type": "markdown",
   "metadata": {},
   "source": [
    "#### Variance"
   ]
  },
  {
   "cell_type": "code",
   "execution_count": 26,
   "metadata": {},
   "outputs": [
    {
     "data": {
      "text/plain": [
       "New Cases           9.131750e+07\n",
       "New Deaths          1.294981e+05\n",
       "New Recovered       8.194232e+07\n",
       "New Active Cases    2.364174e+07\n",
       "dtype: float64"
      ]
     },
     "execution_count": 26,
     "metadata": {},
     "output_type": "execute_result"
    }
   ],
   "source": [
    "df_IDN[col_daily].var()"
   ]
  },
  {
   "cell_type": "markdown",
   "metadata": {},
   "source": [
    "#### Standard Deviation"
   ]
  },
  {
   "cell_type": "code",
   "execution_count": 27,
   "metadata": {},
   "outputs": [
    {
     "data": {
      "text/plain": [
       "New Cases           9556.018870\n",
       "New Deaths           359.858505\n",
       "New Recovered       9052.199569\n",
       "New Active Cases    4862.277290\n",
       "dtype: float64"
      ]
     },
     "execution_count": 27,
     "metadata": {},
     "output_type": "execute_result"
    }
   ],
   "source": [
    "df_IDN[col_daily].std()"
   ]
  }
 ],
 "metadata": {
  "interpreter": {
   "hash": "57744ed932a5da4ffb7d5879d9b65170d321805180660db910f737e8fd70cf58"
  },
  "kernelspec": {
   "display_name": "Python 3.10.4 (conda)",
   "language": "python",
   "name": "python3"
  },
  "language_info": {
   "codemirror_mode": {
    "name": "ipython",
    "version": 3
   },
   "file_extension": ".py",
   "mimetype": "text/x-python",
   "name": "python",
   "nbconvert_exporter": "python",
   "pygments_lexer": "ipython3",
   "version": "3.10.4"
  },
  "orig_nbformat": 4
 },
 "nbformat": 4,
 "nbformat_minor": 2
}
