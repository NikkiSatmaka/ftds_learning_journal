{
 "cells": [
  {
   "cell_type": "markdown",
   "metadata": {},
   "source": [
    "## Assignment\n",
    "\n",
    "Find the derivative of these functions:\n",
    "- $y = x^{2} + 2x + 1$\n",
    "- $y = 4x^{3} - 3x^{2} + 2x -1$"
   ]
  },
  {
   "cell_type": "code",
   "execution_count": 1,
   "metadata": {},
   "outputs": [],
   "source": [
    "import numpy as np\n",
    "import sympy as sy"
   ]
  },
  {
   "cell_type": "code",
   "execution_count": 2,
   "metadata": {},
   "outputs": [],
   "source": [
    "x = sy.Symbol('x')"
   ]
  },
  {
   "cell_type": "markdown",
   "metadata": {},
   "source": [
    "#### 1. $y = x^{2} + 2x + 1$"
   ]
  },
  {
   "cell_type": "markdown",
   "metadata": {},
   "source": [
    "##### Using symbolic method"
   ]
  },
  {
   "cell_type": "code",
   "execution_count": 3,
   "metadata": {},
   "outputs": [
    {
     "data": {
      "text/latex": [
       "$\\displaystyle x^{2} + 2 x + 1$"
      ],
      "text/plain": [
       "x**2 + 2*x + 1"
      ]
     },
     "execution_count": 3,
     "metadata": {},
     "output_type": "execute_result"
    }
   ],
   "source": [
    "f = x**2 + 2*x + 1\n",
    "f"
   ]
  },
  {
   "cell_type": "markdown",
   "metadata": {},
   "source": [
    "The derivative is"
   ]
  },
  {
   "cell_type": "code",
   "execution_count": 4,
   "metadata": {},
   "outputs": [
    {
     "data": {
      "text/latex": [
       "$\\displaystyle 2 x + 2$"
      ],
      "text/plain": [
       "2*x + 2"
      ]
     },
     "execution_count": 4,
     "metadata": {},
     "output_type": "execute_result"
    }
   ],
   "source": [
    "df = f.diff()\n",
    "df"
   ]
  },
  {
   "cell_type": "markdown",
   "metadata": {},
   "source": [
    "##### Using numeric method"
   ]
  },
  {
   "cell_type": "code",
   "execution_count": 5,
   "metadata": {},
   "outputs": [],
   "source": [
    "X1 = np.linspace(-10, 10)\n",
    "Y1 = X1**2 + 2*X1 + 1"
   ]
  },
  {
   "cell_type": "markdown",
   "metadata": {},
   "source": [
    "The derivative is"
   ]
  },
  {
   "cell_type": "code",
   "execution_count": 6,
   "metadata": {},
   "outputs": [
    {
     "data": {
      "text/plain": [
       "array([-17.59183673, -17.18367347, -16.36734694, -15.55102041,\n",
       "       -14.73469388, -13.91836735, -13.10204082, -12.28571429,\n",
       "       -11.46938776, -10.65306122,  -9.83673469,  -9.02040816,\n",
       "        -8.20408163,  -7.3877551 ,  -6.57142857,  -5.75510204,\n",
       "        -4.93877551,  -4.12244898,  -3.30612245,  -2.48979592,\n",
       "        -1.67346939,  -0.85714286,  -0.04081633,   0.7755102 ,\n",
       "         1.59183673,   2.40816327,   3.2244898 ,   4.04081633,\n",
       "         4.85714286,   5.67346939,   6.48979592,   7.30612245,\n",
       "         8.12244898,   8.93877551,   9.75510204,  10.57142857,\n",
       "        11.3877551 ,  12.20408163,  13.02040816,  13.83673469,\n",
       "        14.65306122,  15.46938776,  16.28571429,  17.10204082,\n",
       "        17.91836735,  18.73469388,  19.55102041,  20.36734694,\n",
       "        21.18367347,  21.59183673])"
      ]
     },
     "execution_count": 6,
     "metadata": {},
     "output_type": "execute_result"
    }
   ],
   "source": [
    "dF = np.gradient(Y1, X1)\n",
    "dF"
   ]
  },
  {
   "cell_type": "markdown",
   "metadata": {},
   "source": [
    "#### 2. $y = 4x^{3} - 3x^{2} + 2x -1$"
   ]
  },
  {
   "cell_type": "markdown",
   "metadata": {},
   "source": [
    "##### Using symbolic method"
   ]
  },
  {
   "cell_type": "code",
   "execution_count": 7,
   "metadata": {},
   "outputs": [
    {
     "data": {
      "text/latex": [
       "$\\displaystyle 4 x^{3} - 3 x^{2} + 2 x - 1$"
      ],
      "text/plain": [
       "4*x**3 - 3*x**2 + 2*x - 1"
      ]
     },
     "execution_count": 7,
     "metadata": {},
     "output_type": "execute_result"
    }
   ],
   "source": [
    "g = 4*x**3 - 3*x**2 + 2*x - 1\n",
    "g"
   ]
  },
  {
   "cell_type": "markdown",
   "metadata": {},
   "source": [
    "The derivative is"
   ]
  },
  {
   "cell_type": "code",
   "execution_count": 8,
   "metadata": {},
   "outputs": [
    {
     "data": {
      "text/latex": [
       "$\\displaystyle 12 x^{2} - 6 x + 2$"
      ],
      "text/plain": [
       "12*x**2 - 6*x + 2"
      ]
     },
     "execution_count": 8,
     "metadata": {},
     "output_type": "execute_result"
    }
   ],
   "source": [
    "dg = g.diff()\n",
    "dg"
   ]
  },
  {
   "cell_type": "markdown",
   "metadata": {},
   "source": [
    "##### Using numeric method"
   ]
  },
  {
   "cell_type": "code",
   "execution_count": 9,
   "metadata": {},
   "outputs": [],
   "source": [
    "X2 = np.linspace(-10, 10)\n",
    "Y2 = X2**2 + 2*X2 + 1"
   ]
  },
  {
   "cell_type": "markdown",
   "metadata": {},
   "source": [
    "The derivative is"
   ]
  },
  {
   "cell_type": "code",
   "execution_count": 10,
   "metadata": {},
   "outputs": [
    {
     "data": {
      "text/plain": [
       "array([-17.59183673, -17.18367347, -16.36734694, -15.55102041,\n",
       "       -14.73469388, -13.91836735, -13.10204082, -12.28571429,\n",
       "       -11.46938776, -10.65306122,  -9.83673469,  -9.02040816,\n",
       "        -8.20408163,  -7.3877551 ,  -6.57142857,  -5.75510204,\n",
       "        -4.93877551,  -4.12244898,  -3.30612245,  -2.48979592,\n",
       "        -1.67346939,  -0.85714286,  -0.04081633,   0.7755102 ,\n",
       "         1.59183673,   2.40816327,   3.2244898 ,   4.04081633,\n",
       "         4.85714286,   5.67346939,   6.48979592,   7.30612245,\n",
       "         8.12244898,   8.93877551,   9.75510204,  10.57142857,\n",
       "        11.3877551 ,  12.20408163,  13.02040816,  13.83673469,\n",
       "        14.65306122,  15.46938776,  16.28571429,  17.10204082,\n",
       "        17.91836735,  18.73469388,  19.55102041,  20.36734694,\n",
       "        21.18367347,  21.59183673])"
      ]
     },
     "execution_count": 10,
     "metadata": {},
     "output_type": "execute_result"
    }
   ],
   "source": [
    "dG = np.gradient(Y2, X2)\n",
    "dG"
   ]
  }
 ],
 "metadata": {
  "interpreter": {
   "hash": "57744ed932a5da4ffb7d5879d9b65170d321805180660db910f737e8fd70cf58"
  },
  "kernelspec": {
   "display_name": "Python 3.10.4 (conda)",
   "language": "python",
   "name": "python3"
  },
  "language_info": {
   "codemirror_mode": {
    "name": "ipython",
    "version": 3
   },
   "file_extension": ".py",
   "mimetype": "text/x-python",
   "name": "python",
   "nbconvert_exporter": "python",
   "pygments_lexer": "ipython3",
   "version": "3.10.4"
  },
  "orig_nbformat": 4
 },
 "nbformat": 4,
 "nbformat_minor": 2
}
