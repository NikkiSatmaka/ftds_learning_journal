{
 "cells": [
  {
   "cell_type": "markdown",
   "metadata": {},
   "source": [
    "## Creating table 'teachers'"
   ]
  },
  {
   "cell_type": "markdown",
   "metadata": {},
   "source": [
    "```sql\n",
    "CREATE TABLE teachers (\n",
    "    id INT NOT NULL PRIMARY KEY AUTO_INCREMENT,\n",
    "    first_name VARCHAR(25) NOT NULL,\n",
    "    last_name VARCHAR(50),\n",
    "    school VARCHAR(50) NOT NULL,\n",
    "    hire_date DATE,\n",
    "    salary NUMERIC\n",
    ");\n",
    "```"
   ]
  },
  {
   "cell_type": "markdown",
   "metadata": {},
   "source": [
    "### Inserting data to table 'teachers'"
   ]
  },
  {
   "cell_type": "markdown",
   "metadata": {},
   "source": [
    "```sql\n",
    "INSERT INTO teachers (id, first_name, last_name, school, hire_date, salary)\n",
    "    VALUES (1,'Janet', 'Smith', 'MIT', '2011-10-30', 36200),\n",
    "           (2,'Lee', 'Reynolds', 'MIT', '1993-05-22', 65000),\n",
    "           (3,'Samuel', 'Cole', 'Cambridge University', '2005-08-01', 43500),\n",
    "           (4,'Samantha', 'Bush', 'Cambridge University', '2011-10-30', 36200),\n",
    "           (5,'Betty', 'Diaz', 'Cambridge University', '2005-08-30', 43500),\n",
    "           (6,'Kathleen', 'Roush', 'MIT', '2010-10-22', 38500),\n",
    "           (7,'James', 'Diaz', 'Harvard University', '2003-07-18', 61000),\n",
    "           (8,'Zack', 'Smith', 'Harvard University', '2000-12-29', 55500),\n",
    "           (9,'Luis', 'Gonzales', 'Standford University', '2002-12-01', 50000),\n",
    "           (10,'Frank', 'Abbers', 'Standford University', '1999-01-30', 66000);\n",
    "```"
   ]
  },
  {
   "cell_type": "markdown",
   "metadata": {},
   "source": [
    "```sql\n",
    "INSERT INTO teachers (first_name, last_name, school, hire_date, salary)\n",
    "    VALUES ('Samuel', 'Abbers', 'Standford University', '2006-01-30', 32000),\n",
    "           ('Jessica', 'Abbers', 'Standford University', '2005-01-30', 33000),\n",
    "           ('Tom', 'Massi', 'Harvard University', '1999-09-09', 39500),\n",
    "           ('Esteban', 'Brown', 'MIT', '2007-01-30', 36000),\n",
    "           ('Carlos', 'Alonso', 'Standford University', '2001-01-30', 44000);\n",
    "```"
   ]
  },
  {
   "cell_type": "markdown",
   "metadata": {},
   "source": [
    "## Creating table 'courses'"
   ]
  },
  {
   "cell_type": "markdown",
   "metadata": {},
   "source": [
    "```sql\n",
    "CREATE TABLE courses (\n",
    "    id INT NOT NULL PRIMARY KEY AUTO_INCREMENT,\n",
    "    name VARCHAR(20),\n",
    "    teachers_id INT,\n",
    "    total_students INT\n",
    ");\n",
    "```"
   ]
  },
  {
   "cell_type": "markdown",
   "metadata": {},
   "source": [
    "### Inserting data to table 'courses'"
   ]
  },
  {
   "cell_type": "markdown",
   "metadata": {},
   "source": [
    "```sql\n",
    "INSERT INTO courses (name, teachers_id, total_students)\n",
    "    VALUES  ('Calculus', 2, 20),\n",
    "            ('Physics', 2, 10),\n",
    "            ('Calculus', 1, 30),\n",
    "            ('Computer Science', 1, 20),\n",
    "            ('Politic', 13, 15),\n",
    "            ('Algebra', 2, 10),\n",
    "            ('Algebra', 13, 30),\n",
    "            ('Computer Science', 10, 35),\n",
    "            ('Life Science', 11, 20),\n",
    "            ('Chemistry', 9, 22),\n",
    "            ('Chemistry', 8, 16),\n",
    "            ('Calculus', 5, 19),\n",
    "            ('Politic', 4, 17),\n",
    "            ('Biology', 6, 22),\n",
    "            ('Physics', 3, 29),\n",
    "            ('Biology', 8, 28),\n",
    "            ('Calculus', 12, 34),\n",
    "            ('Physics', 13, 34),\n",
    "            ('Biology', 14, 25),\n",
    "            ('Calculus', 15, 20);\n",
    "```"
   ]
  },
  {
   "cell_type": "markdown",
   "metadata": {},
   "source": [
    "## Querying all attributes of 'teachers' and 'courses', of the highest paying teacher in each courses' names"
   ]
  },
  {
   "cell_type": "markdown",
   "metadata": {},
   "source": [
    "```sql\n",
    "SELECT *\n",
    "FROM teachers\n",
    "JOIN courses on teachers.id = courses.teachers_id\n",
    "WHERE (courses.name, teachers.salary) IN (\n",
    "    SELECT courses.name, MAX(salary)\n",
    "    FROM teachers\n",
    "    JOIN courses on teachers.id = courses.teachers_id\n",
    "    GROUP by courses.name\n",
    ")\n",
    "ORDER by courses.name ASC;\n",
    "```"
   ]
  }
 ],
 "metadata": {
  "interpreter": {
   "hash": "57744ed932a5da4ffb7d5879d9b65170d321805180660db910f737e8fd70cf58"
  },
  "kernelspec": {
   "display_name": "Python 3.10.4 (conda)",
   "language": "python",
   "name": "python3"
  },
  "language_info": {
   "name": "python",
   "version": "3.10.4"
  },
  "orig_nbformat": 4
 },
 "nbformat": 4,
 "nbformat_minor": 2
}
