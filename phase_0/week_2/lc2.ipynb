{
  "nbformat": 4,
  "nbformat_minor": 0,
  "metadata": {
    "colab": {
      "name": "lc2.ipynb",
      "provenance": []
    },
    "kernelspec": {
      "name": "python3",
      "display_name": "Python 3"
    },
    "language_info": {
      "name": "python"
    }
  },
  "cells": [
    {
      "cell_type": "markdown",
      "source": [
        "##NO. 1"
      ],
      "metadata": {
        "id": "WzodQ8YdvILH"
      }
    },
    {
      "cell_type": "code",
      "source": [
        "import numpy as np"
      ],
      "metadata": {
        "id": "fLtvtrAuvVtY"
      },
      "execution_count": 2,
      "outputs": []
    },
    {
      "cell_type": "code",
      "execution_count": 3,
      "metadata": {
        "id": "YPo5mP3ps2Xm"
      },
      "outputs": [],
      "source": [
        "pesan = [16,18,5,16,1,18,5,0,20,15,0,14,5,7,15,20,8,1,20,5]\n",
        "pesan = np.array(pesan)"
      ]
    },
    {
      "cell_type": "code",
      "source": [
        "len(pesan)"
      ],
      "metadata": {
        "colab": {
          "base_uri": "https://localhost:8080/"
        },
        "id": "iIBCJ5B2xlu0",
        "outputId": "fe90eafd-2878-49e9-9695-0ce3249b4884"
      },
      "execution_count": 5,
      "outputs": [
        {
          "output_type": "execute_result",
          "data": {
            "text/plain": [
              "20"
            ]
          },
          "metadata": {},
          "execution_count": 5
        }
      ]
    },
    {
      "cell_type": "code",
      "source": [
        "matriks_pesan1 = np.reshape(pesan, (4,5))\n",
        "matriks_pesan1"
      ],
      "metadata": {
        "colab": {
          "base_uri": "https://localhost:8080/"
        },
        "id": "rJNKi4grzKe2",
        "outputId": "75f4ff0e-69fb-4645-97b6-9fed8e404f6e"
      },
      "execution_count": 7,
      "outputs": [
        {
          "output_type": "execute_result",
          "data": {
            "text/plain": [
              "array([[16, 18,  5, 16,  1],\n",
              "       [18,  5,  0, 20, 15],\n",
              "       [ 0, 14,  5,  7, 15],\n",
              "       [20,  8,  1, 20,  5]])"
            ]
          },
          "metadata": {},
          "execution_count": 7
        }
      ]
    },
    {
      "cell_type": "code",
      "source": [
        "matriks_pesan2 = np.reshape(pesan,(5,4))\n",
        "matriks_pesan2"
      ],
      "metadata": {
        "colab": {
          "base_uri": "https://localhost:8080/"
        },
        "id": "7IVVUzSkzcXM",
        "outputId": "f8019368-a812-4240-cfe4-6fc49751e55e"
      },
      "execution_count": 9,
      "outputs": [
        {
          "output_type": "execute_result",
          "data": {
            "text/plain": [
              "array([[16, 18,  5, 16],\n",
              "       [ 1, 18,  5,  0],\n",
              "       [20, 15,  0, 14],\n",
              "       [ 5,  7, 15, 20],\n",
              "       [ 8,  1, 20,  5]])"
            ]
          },
          "metadata": {},
          "execution_count": 9
        }
      ]
    },
    {
      "cell_type": "code",
      "source": [
        "matriks_encoder = np.array([\n",
        "                            [2,1,0,4],[3,4,2,1],\n",
        "                            [1,1,9,0],[0,7,8,3]\n",
        "])\n",
        "matriks_encoder"
      ],
      "metadata": {
        "colab": {
          "base_uri": "https://localhost:8080/"
        },
        "id": "-7Zh52ASzoA0",
        "outputId": "c002efba-e588-41d5-bfdb-4226318755ea"
      },
      "execution_count": 10,
      "outputs": [
        {
          "output_type": "execute_result",
          "data": {
            "text/plain": [
              "array([[2, 1, 0, 4],\n",
              "       [3, 4, 2, 1],\n",
              "       [1, 1, 9, 0],\n",
              "       [0, 7, 8, 3]])"
            ]
          },
          "metadata": {},
          "execution_count": 10
        }
      ]
    },
    {
      "cell_type": "markdown",
      "source": [
        "###Hasil Encoding"
      ],
      "metadata": {
        "id": "XFUvathL0iOO"
      }
    },
    {
      "cell_type": "code",
      "source": [
        "matriks_transmisi1 = matriks_encoder @ matriks_pesan1\n",
        "matriks_transmisi1"
      ],
      "metadata": {
        "colab": {
          "base_uri": "https://localhost:8080/"
        },
        "id": "5UdcajcH0HXR",
        "outputId": "15acf6a9-6bc1-4bd2-d1a0-459eca5d33fa"
      },
      "execution_count": 11,
      "outputs": [
        {
          "output_type": "execute_result",
          "data": {
            "text/plain": [
              "array([[130,  73,  14, 132,  37],\n",
              "       [140, 110,  26, 162,  98],\n",
              "       [ 34, 149,  50,  99, 151],\n",
              "       [186, 171,  43, 256, 240]])"
            ]
          },
          "metadata": {},
          "execution_count": 11
        }
      ]
    },
    {
      "cell_type": "code",
      "source": [
        "matriks_transmisi2 =  matriks_pesan2 @ matriks_encoder \n",
        "matriks_transmisi2"
      ],
      "metadata": {
        "colab": {
          "base_uri": "https://localhost:8080/"
        },
        "id": "m9_ssxIY0Wiv",
        "outputId": "aaefd846-c1b9-45ae-d441-6dd02ede5061"
      },
      "execution_count": 12,
      "outputs": [
        {
          "output_type": "execute_result",
          "data": {
            "text/plain": [
              "array([[ 91, 205, 209, 130],\n",
              "       [ 61,  78,  81,  22],\n",
              "       [ 85, 178, 142, 137],\n",
              "       [ 46, 188, 309,  87],\n",
              "       [ 39,  67, 222,  48]])"
            ]
          },
          "metadata": {},
          "execution_count": 12
        }
      ]
    },
    {
      "cell_type": "markdown",
      "source": [
        "###Decode"
      ],
      "metadata": {
        "id": "oQwyu00Y0taC"
      }
    },
    {
      "cell_type": "code",
      "source": [
        "encoder_inv = np.linalg.inv(matriks_encoder) #Matriks Inverse\n"
      ],
      "metadata": {
        "id": "Ip046gzi0uRs"
      },
      "execution_count": 13,
      "outputs": []
    },
    {
      "cell_type": "code",
      "source": [
        "#Decode\n",
        "decoded1 = encoder_inv@matriks_transmisi1\n",
        "decoded1"
      ],
      "metadata": {
        "colab": {
          "base_uri": "https://localhost:8080/"
        },
        "id": "lzxCScE1040X",
        "outputId": "e07b9fca-d08f-4a9b-e2b4-030a9cc20c45"
      },
      "execution_count": 15,
      "outputs": [
        {
          "output_type": "execute_result",
          "data": {
            "text/plain": [
              "array([[ 1.60000000e+01,  1.80000000e+01,  5.00000000e+00,\n",
              "         1.60000000e+01,  1.00000000e+00],\n",
              "       [ 1.80000000e+01,  5.00000000e+00, -5.41233725e-16,\n",
              "         2.00000000e+01,  1.50000000e+01],\n",
              "       [-3.98986399e-17,  1.40000000e+01,  5.00000000e+00,\n",
              "         7.00000000e+00,  1.50000000e+01],\n",
              "       [ 2.00000000e+01,  8.00000000e+00,  1.00000000e+00,\n",
              "         2.00000000e+01,  5.00000000e+00]])"
            ]
          },
          "metadata": {},
          "execution_count": 15
        }
      ]
    },
    {
      "cell_type": "code",
      "source": [
        "decoded2 = matriks_transmisi2@encoder_inv\n",
        "decoded2"
      ],
      "metadata": {
        "colab": {
          "base_uri": "https://localhost:8080/"
        },
        "id": "oRFZpxaU1E79",
        "outputId": "a092ecf4-c1b4-46f5-be43-9606f1060121"
      },
      "execution_count": 16,
      "outputs": [
        {
          "output_type": "execute_result",
          "data": {
            "text/plain": [
              "array([[ 1.60000000e+01,  1.80000000e+01,  5.00000000e+00,\n",
              "         1.60000000e+01],\n",
              "       [ 1.00000000e+00,  1.80000000e+01,  5.00000000e+00,\n",
              "        -2.08166817e-16],\n",
              "       [ 2.00000000e+01,  1.50000000e+01,  1.57859836e-15,\n",
              "         1.40000000e+01],\n",
              "       [ 5.00000000e+00,  7.00000000e+00,  1.50000000e+01,\n",
              "         2.00000000e+01],\n",
              "       [ 8.00000000e+00,  1.00000000e+00,  2.00000000e+01,\n",
              "         5.00000000e+00]])"
            ]
          },
          "metadata": {},
          "execution_count": 16
        }
      ]
    },
    {
      "cell_type": "code",
      "source": [
        "np.allclose(matriks_pesan1, decoded1)"
      ],
      "metadata": {
        "colab": {
          "base_uri": "https://localhost:8080/"
        },
        "id": "vaFydOF21Mox",
        "outputId": "c2111195-9e83-4007-d1a3-93aaff85f76a"
      },
      "execution_count": 17,
      "outputs": [
        {
          "output_type": "execute_result",
          "data": {
            "text/plain": [
              "True"
            ]
          },
          "metadata": {},
          "execution_count": 17
        }
      ]
    },
    {
      "cell_type": "code",
      "source": [
        "np.allclose(decoded2, matriks_pesan2)"
      ],
      "metadata": {
        "colab": {
          "base_uri": "https://localhost:8080/"
        },
        "id": "0QCA2Mz-1zI2",
        "outputId": "12825dde-1959-4607-b674-353215d4cc3c"
      },
      "execution_count": 18,
      "outputs": [
        {
          "output_type": "execute_result",
          "data": {
            "text/plain": [
              "True"
            ]
          },
          "metadata": {},
          "execution_count": 18
        }
      ]
    },
    {
      "cell_type": "markdown",
      "source": [
        "##Nomor 2"
      ],
      "metadata": {
        "id": "UnxDtlFZ6Dne"
      }
    },
    {
      "cell_type": "code",
      "source": [
        "from scipy.integrate import trapz\n",
        "import pandas as pd\n",
        "import matplotlib.pyplot as plt"
      ],
      "metadata": {
        "id": "M7KKmrhe6E5k"
      },
      "execution_count": 19,
      "outputs": []
    },
    {
      "cell_type": "code",
      "source": [
        "df = pd.read_csv('https://raw.githubusercontent.com/fahmimnalfrzki/Dataset/main/ROC%20Curve%20SVR%20-%20Random%20Forest.csv?token=AEZDEHVS66CKQBUSHKZ534TA44EVO')\n",
        "df"
      ],
      "metadata": {
        "colab": {
          "base_uri": "https://localhost:8080/",
          "height": 423
        },
        "id": "gM7qKSjo6O6-",
        "outputId": "8708d916-3d55-4e09-b0ad-a0d84cbdeca4"
      },
      "execution_count": 20,
      "outputs": [
        {
          "output_type": "execute_result",
          "data": {
            "text/plain": [
              "    Unnamed: 0   svr_fpr   svr_tpr   rfr_fpr   rfr_tpr\n",
              "0            0  0.000000  0.000000  0.000000  0.000000\n",
              "1            1  0.000000  0.015152  0.000000  0.030303\n",
              "2            2  0.004831  0.030303  0.000000  0.060606\n",
              "3            3  0.009662  0.030303  0.000000  0.106061\n",
              "4            4  0.012077  0.045455  0.002415  0.121212\n",
              "..         ...       ...       ...       ...       ...\n",
              "61          61  0.973430  0.969697  0.449275  0.984848\n",
              "62          62  0.973430  0.969697  0.507246  0.984848\n",
              "63          63  0.992754  1.000000  0.582126  0.984848\n",
              "64          64  0.997585  1.000000  0.722222  1.000000\n",
              "65          65  0.997585  1.000000  1.000000  1.000000\n",
              "\n",
              "[66 rows x 5 columns]"
            ],
            "text/html": [
              "\n",
              "  <div id=\"df-0de63119-9c21-48eb-8e3c-10967f93eaaf\">\n",
              "    <div class=\"colab-df-container\">\n",
              "      <div>\n",
              "<style scoped>\n",
              "    .dataframe tbody tr th:only-of-type {\n",
              "        vertical-align: middle;\n",
              "    }\n",
              "\n",
              "    .dataframe tbody tr th {\n",
              "        vertical-align: top;\n",
              "    }\n",
              "\n",
              "    .dataframe thead th {\n",
              "        text-align: right;\n",
              "    }\n",
              "</style>\n",
              "<table border=\"1\" class=\"dataframe\">\n",
              "  <thead>\n",
              "    <tr style=\"text-align: right;\">\n",
              "      <th></th>\n",
              "      <th>Unnamed: 0</th>\n",
              "      <th>svr_fpr</th>\n",
              "      <th>svr_tpr</th>\n",
              "      <th>rfr_fpr</th>\n",
              "      <th>rfr_tpr</th>\n",
              "    </tr>\n",
              "  </thead>\n",
              "  <tbody>\n",
              "    <tr>\n",
              "      <th>0</th>\n",
              "      <td>0</td>\n",
              "      <td>0.000000</td>\n",
              "      <td>0.000000</td>\n",
              "      <td>0.000000</td>\n",
              "      <td>0.000000</td>\n",
              "    </tr>\n",
              "    <tr>\n",
              "      <th>1</th>\n",
              "      <td>1</td>\n",
              "      <td>0.000000</td>\n",
              "      <td>0.015152</td>\n",
              "      <td>0.000000</td>\n",
              "      <td>0.030303</td>\n",
              "    </tr>\n",
              "    <tr>\n",
              "      <th>2</th>\n",
              "      <td>2</td>\n",
              "      <td>0.004831</td>\n",
              "      <td>0.030303</td>\n",
              "      <td>0.000000</td>\n",
              "      <td>0.060606</td>\n",
              "    </tr>\n",
              "    <tr>\n",
              "      <th>3</th>\n",
              "      <td>3</td>\n",
              "      <td>0.009662</td>\n",
              "      <td>0.030303</td>\n",
              "      <td>0.000000</td>\n",
              "      <td>0.106061</td>\n",
              "    </tr>\n",
              "    <tr>\n",
              "      <th>4</th>\n",
              "      <td>4</td>\n",
              "      <td>0.012077</td>\n",
              "      <td>0.045455</td>\n",
              "      <td>0.002415</td>\n",
              "      <td>0.121212</td>\n",
              "    </tr>\n",
              "    <tr>\n",
              "      <th>...</th>\n",
              "      <td>...</td>\n",
              "      <td>...</td>\n",
              "      <td>...</td>\n",
              "      <td>...</td>\n",
              "      <td>...</td>\n",
              "    </tr>\n",
              "    <tr>\n",
              "      <th>61</th>\n",
              "      <td>61</td>\n",
              "      <td>0.973430</td>\n",
              "      <td>0.969697</td>\n",
              "      <td>0.449275</td>\n",
              "      <td>0.984848</td>\n",
              "    </tr>\n",
              "    <tr>\n",
              "      <th>62</th>\n",
              "      <td>62</td>\n",
              "      <td>0.973430</td>\n",
              "      <td>0.969697</td>\n",
              "      <td>0.507246</td>\n",
              "      <td>0.984848</td>\n",
              "    </tr>\n",
              "    <tr>\n",
              "      <th>63</th>\n",
              "      <td>63</td>\n",
              "      <td>0.992754</td>\n",
              "      <td>1.000000</td>\n",
              "      <td>0.582126</td>\n",
              "      <td>0.984848</td>\n",
              "    </tr>\n",
              "    <tr>\n",
              "      <th>64</th>\n",
              "      <td>64</td>\n",
              "      <td>0.997585</td>\n",
              "      <td>1.000000</td>\n",
              "      <td>0.722222</td>\n",
              "      <td>1.000000</td>\n",
              "    </tr>\n",
              "    <tr>\n",
              "      <th>65</th>\n",
              "      <td>65</td>\n",
              "      <td>0.997585</td>\n",
              "      <td>1.000000</td>\n",
              "      <td>1.000000</td>\n",
              "      <td>1.000000</td>\n",
              "    </tr>\n",
              "  </tbody>\n",
              "</table>\n",
              "<p>66 rows × 5 columns</p>\n",
              "</div>\n",
              "      <button class=\"colab-df-convert\" onclick=\"convertToInteractive('df-0de63119-9c21-48eb-8e3c-10967f93eaaf')\"\n",
              "              title=\"Convert this dataframe to an interactive table.\"\n",
              "              style=\"display:none;\">\n",
              "        \n",
              "  <svg xmlns=\"http://www.w3.org/2000/svg\" height=\"24px\"viewBox=\"0 0 24 24\"\n",
              "       width=\"24px\">\n",
              "    <path d=\"M0 0h24v24H0V0z\" fill=\"none\"/>\n",
              "    <path d=\"M18.56 5.44l.94 2.06.94-2.06 2.06-.94-2.06-.94-.94-2.06-.94 2.06-2.06.94zm-11 1L8.5 8.5l.94-2.06 2.06-.94-2.06-.94L8.5 2.5l-.94 2.06-2.06.94zm10 10l.94 2.06.94-2.06 2.06-.94-2.06-.94-.94-2.06-.94 2.06-2.06.94z\"/><path d=\"M17.41 7.96l-1.37-1.37c-.4-.4-.92-.59-1.43-.59-.52 0-1.04.2-1.43.59L10.3 9.45l-7.72 7.72c-.78.78-.78 2.05 0 2.83L4 21.41c.39.39.9.59 1.41.59.51 0 1.02-.2 1.41-.59l7.78-7.78 2.81-2.81c.8-.78.8-2.07 0-2.86zM5.41 20L4 18.59l7.72-7.72 1.47 1.35L5.41 20z\"/>\n",
              "  </svg>\n",
              "      </button>\n",
              "      \n",
              "  <style>\n",
              "    .colab-df-container {\n",
              "      display:flex;\n",
              "      flex-wrap:wrap;\n",
              "      gap: 12px;\n",
              "    }\n",
              "\n",
              "    .colab-df-convert {\n",
              "      background-color: #E8F0FE;\n",
              "      border: none;\n",
              "      border-radius: 50%;\n",
              "      cursor: pointer;\n",
              "      display: none;\n",
              "      fill: #1967D2;\n",
              "      height: 32px;\n",
              "      padding: 0 0 0 0;\n",
              "      width: 32px;\n",
              "    }\n",
              "\n",
              "    .colab-df-convert:hover {\n",
              "      background-color: #E2EBFA;\n",
              "      box-shadow: 0px 1px 2px rgba(60, 64, 67, 0.3), 0px 1px 3px 1px rgba(60, 64, 67, 0.15);\n",
              "      fill: #174EA6;\n",
              "    }\n",
              "\n",
              "    [theme=dark] .colab-df-convert {\n",
              "      background-color: #3B4455;\n",
              "      fill: #D2E3FC;\n",
              "    }\n",
              "\n",
              "    [theme=dark] .colab-df-convert:hover {\n",
              "      background-color: #434B5C;\n",
              "      box-shadow: 0px 1px 3px 1px rgba(0, 0, 0, 0.15);\n",
              "      filter: drop-shadow(0px 1px 2px rgba(0, 0, 0, 0.3));\n",
              "      fill: #FFFFFF;\n",
              "    }\n",
              "  </style>\n",
              "\n",
              "      <script>\n",
              "        const buttonEl =\n",
              "          document.querySelector('#df-0de63119-9c21-48eb-8e3c-10967f93eaaf button.colab-df-convert');\n",
              "        buttonEl.style.display =\n",
              "          google.colab.kernel.accessAllowed ? 'block' : 'none';\n",
              "\n",
              "        async function convertToInteractive(key) {\n",
              "          const element = document.querySelector('#df-0de63119-9c21-48eb-8e3c-10967f93eaaf');\n",
              "          const dataTable =\n",
              "            await google.colab.kernel.invokeFunction('convertToInteractive',\n",
              "                                                     [key], {});\n",
              "          if (!dataTable) return;\n",
              "\n",
              "          const docLinkHtml = 'Like what you see? Visit the ' +\n",
              "            '<a target=\"_blank\" href=https://colab.research.google.com/notebooks/data_table.ipynb>data table notebook</a>'\n",
              "            + ' to learn more about interactive tables.';\n",
              "          element.innerHTML = '';\n",
              "          dataTable['output_type'] = 'display_data';\n",
              "          await google.colab.output.renderOutput(dataTable, element);\n",
              "          const docLink = document.createElement('div');\n",
              "          docLink.innerHTML = docLinkHtml;\n",
              "          element.appendChild(docLink);\n",
              "        }\n",
              "      </script>\n",
              "    </div>\n",
              "  </div>\n",
              "  "
            ]
          },
          "metadata": {},
          "execution_count": 20
        }
      ]
    },
    {
      "cell_type": "code",
      "source": [
        "y_svr = df['svr_tpr']\n",
        "x_svr = df['svr_fpr']\n",
        "y_rfr = df['rfr_tpr']\n",
        "x_rfr = df['rfr_fpr']"
      ],
      "metadata": {
        "id": "jkLYFu7k6WY0"
      },
      "execution_count": 21,
      "outputs": []
    },
    {
      "cell_type": "code",
      "source": [
        "#Plot\n",
        "\n",
        "fig, axs = plt.subplots(ncols = 2, figsize=(8,6))\n",
        "axs[0].plot(x_svr, y_svr)\n",
        "axs[0].set_title('SVR Model')\n",
        "axs[1].plot(x_rfr, y_rfr)\n",
        "axs[1].set_title('Random Forest Model')"
      ],
      "metadata": {
        "colab": {
          "base_uri": "https://localhost:8080/",
          "height": 407
        },
        "id": "5lg2asT66qNF",
        "outputId": "669a9f38-a4d8-4ed0-cc21-7e394e9df1a4"
      },
      "execution_count": 23,
      "outputs": [
        {
          "output_type": "execute_result",
          "data": {
            "text/plain": [
              "Text(0.5, 1.0, 'Random Forest Model')"
            ]
          },
          "metadata": {},
          "execution_count": 23
        },
        {
          "output_type": "display_data",
          "data": {
            "text/plain": [
              "<Figure size 576x432 with 2 Axes>"
            ],
            "image/png": "[encoded data removed]"
          },
          "metadata": {
            "needs_background": "light"
          }
        }
      ]
    },
    {
      "cell_type": "code",
      "source": [
        "trapz(y_svr, x_svr)"
      ],
      "metadata": {
        "colab": {
          "base_uri": "https://localhost:8080/"
        },
        "id": "FnyNhNOf7L9c",
        "outputId": "517c1f66-f675-4f97-f7dc-44b05730c956"
      },
      "execution_count": 24,
      "outputs": [
        {
          "output_type": "execute_result",
          "data": {
            "text/plain": [
              "0.8817889035280342"
            ]
          },
          "metadata": {},
          "execution_count": 24
        }
      ]
    },
    {
      "cell_type": "code",
      "source": [
        "trapz(y_rfr, x_rfr)"
      ],
      "metadata": {
        "colab": {
          "base_uri": "https://localhost:8080/"
        },
        "id": "wCszJhYv7TAh",
        "outputId": "7ce08622-29d1-4192-c731-07b06de15c83"
      },
      "execution_count": 25,
      "outputs": [
        {
          "output_type": "execute_result",
          "data": {
            "text/plain": [
              "0.9160262040696824"
            ]
          },
          "metadata": {},
          "execution_count": 25
        }
      ]
    }
  ]
}