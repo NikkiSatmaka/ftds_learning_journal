{
 "cells": [
  {
   "cell_type": "code",
   "execution_count": 1,
   "metadata": {},
   "outputs": [],
   "source": [
    "import numpy as np"
   ]
  },
  {
   "cell_type": "markdown",
   "metadata": {},
   "source": [
    "### Create tensor\n",
    "\n",
    "$$\n",
    "\\begin{bmatrix}  \n",
    "    \\begin{bmatrix}  \n",
    "        23 & 50 \\\\   7 & 12 \\\\  \n",
    "    \\end{bmatrix}  \n",
    "    \\begin{bmatrix}  \n",
    "        57 & 67 \\\\   99 & 43  \n",
    "    \\end{bmatrix} \\\\   \n",
    "    \\begin{bmatrix}  \n",
    "        75 & 21 \\\\   57 & 12 \\\\  \n",
    "    \\end{bmatrix}  \n",
    "    \\begin{bmatrix}  \n",
    "        87 & 26 \\\\  18 & 84  \n",
    "    \\end{bmatrix}  \n",
    "\\end{bmatrix}\n",
    "$$\n"
   ]
  },
  {
   "cell_type": "code",
   "execution_count": 2,
   "metadata": {},
   "outputs": [
    {
     "name": "stdout",
     "output_type": "stream",
     "text": [
      "[[[[23 50]\n",
      "   [ 7 12]]\n",
      "\n",
      "  [[57 67]\n",
      "   [99 43]]]\n",
      "\n",
      "\n",
      " [[[75 21]\n",
      "   [57 12]]\n",
      "\n",
      "  [[87 26]\n",
      "   [18 84]]]]\n"
     ]
    }
   ],
   "source": [
    "tensor_4d = np.array(\n",
    "    [\n",
    "        [\n",
    "            [[23, 50], [7, 12]],\n",
    "            [[57, 67], [99, 43]]\n",
    "        ],\n",
    "        [\n",
    "            [[75, 21], [57, 12]],\n",
    "            [[87, 26], [18, 84]]\n",
    "        ]\n",
    "    ]\n",
    ")\n",
    "\n",
    "print(tensor_4d)"
   ]
  },
  {
   "cell_type": "markdown",
   "metadata": {},
   "source": [
    "### Matrix Multiplication\n",
    "\n",
    "$$\n",
    "A =\n",
    "\\begin{bmatrix}\n",
    "23 & 50 & 19 \\\\\n",
    "7 & 12 & 109 \\\\\n",
    "57 & 67 & 98\n",
    "\\end{bmatrix}\n",
    "\\begin{bmatrix}\n",
    "17 \\\\\n",
    "22 \\\\\n",
    "19\n",
    "\\end{bmatrix}\n",
    "$$"
   ]
  },
  {
   "cell_type": "code",
   "execution_count": 3,
   "metadata": {},
   "outputs": [
    {
     "name": "stdout",
     "output_type": "stream",
     "text": [
      "A is [1852 2454 4305]\n"
     ]
    }
   ],
   "source": [
    "B = np.array(\n",
    "    [\n",
    "        [23, 50, 19],\n",
    "        [7, 12, 109],\n",
    "        [57, 67, 98]\n",
    "    ]\n",
    ")\n",
    "\n",
    "A = B @ np.array([17, 22, 19])\n",
    "\n",
    "print(f'A is {A}')"
   ]
  },
  {
   "cell_type": "markdown",
   "metadata": {},
   "source": [
    "### Transpose, Calculate determinant, and Invert\n",
    "\n",
    "$$\n",
    "\\begin{bmatrix}\n",
    "23 & 50 & 19 \\\\\n",
    "7 & 12 & 109 \\\\\n",
    "57 & 67 & 98\n",
    "\\end{bmatrix}\n",
    "$$"
   ]
  },
  {
   "cell_type": "code",
   "execution_count": 4,
   "metadata": {},
   "outputs": [
    {
     "name": "stdout",
     "output_type": "stream",
     "text": [
      "[[ 23  50  19]\n",
      " [  7  12 109]\n",
      " [ 57  67  98]]\n"
     ]
    }
   ],
   "source": [
    "B = np.array(\n",
    "    [\n",
    "        [23, 50, 19],\n",
    "        [7, 12, 109],\n",
    "        [57, 67, 98]\n",
    "    ]\n",
    ")\n",
    "\n",
    "print(B)"
   ]
  },
  {
   "cell_type": "markdown",
   "metadata": {},
   "source": [
    "#### Transpose"
   ]
  },
  {
   "cell_type": "code",
   "execution_count": 5,
   "metadata": {},
   "outputs": [
    {
     "name": "stdout",
     "output_type": "stream",
     "text": [
      "[[ 23   7  57]\n",
      " [ 50  12  67]\n",
      " [ 19 109  98]]\n"
     ]
    }
   ],
   "source": [
    "print(B.T)"
   ]
  },
  {
   "cell_type": "markdown",
   "metadata": {},
   "source": [
    "#### Determinant"
   ]
  },
  {
   "cell_type": "code",
   "execution_count": 6,
   "metadata": {},
   "outputs": [
    {
     "name": "stdout",
     "output_type": "stream",
     "text": [
      "131344.0000000002\n"
     ]
    }
   ],
   "source": [
    "print(np.linalg.det(B))"
   ]
  },
  {
   "cell_type": "markdown",
   "metadata": {},
   "source": [
    "#### Inverse"
   ]
  },
  {
   "cell_type": "code",
   "execution_count": 7,
   "metadata": {},
   "outputs": [
    {
     "name": "stdout",
     "output_type": "stream",
     "text": [
      "[[-0.0466485  -0.02761451  0.03975819]\n",
      " [ 0.04208034  0.00891552 -0.01807467]\n",
      " [-0.00163692  0.0099662  -0.00056341]]\n"
     ]
    }
   ],
   "source": [
    "print(np.linalg.inv(B))"
   ]
  }
 ],
 "metadata": {
  "interpreter": {
   "hash": "57744ed932a5da4ffb7d5879d9b65170d321805180660db910f737e8fd70cf58"
  },
  "kernelspec": {
   "display_name": "Python 3.10.4 (conda)",
   "language": "python",
   "name": "python3"
  },
  "language_info": {
   "codemirror_mode": {
    "name": "ipython",
    "version": 3
   },
   "file_extension": ".py",
   "mimetype": "text/x-python",
   "name": "python",
   "nbconvert_exporter": "python",
   "pygments_lexer": "ipython3",
   "version": "3.10.4"
  },
  "orig_nbformat": 4
 },
 "nbformat": 4,
 "nbformat_minor": 2
}
