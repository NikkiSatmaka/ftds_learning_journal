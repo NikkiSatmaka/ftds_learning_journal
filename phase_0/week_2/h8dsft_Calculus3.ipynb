{
 "cells": [
  {
   "cell_type": "markdown",
   "metadata": {},
   "source": [
    "## Assignment\n",
    "Find the gradient of the function:\n",
    "- $3x+4y=5$\n"
   ]
  },
  {
   "cell_type": "code",
   "execution_count": 1,
   "metadata": {},
   "outputs": [],
   "source": [
    "import numpy as np\n",
    "import sympy as sy\n",
    "\n",
    "from sympy.tensor.array import derive_by_array"
   ]
  },
  {
   "cell_type": "markdown",
   "metadata": {},
   "source": [
    "##### Using symbolic method"
   ]
  },
  {
   "cell_type": "code",
   "execution_count": 2,
   "metadata": {},
   "outputs": [],
   "source": [
    "x, y = sy.symbols('x y')"
   ]
  },
  {
   "cell_type": "code",
   "execution_count": 3,
   "metadata": {},
   "outputs": [
    {
     "data": {
      "text/latex": [
       "$\\displaystyle 3 x + 4 y - 5$"
      ],
      "text/plain": [
       "3*x + 4*y - 5"
      ]
     },
     "execution_count": 3,
     "metadata": {},
     "output_type": "execute_result"
    }
   ],
   "source": [
    "f = 3*x + 4*y - 5\n",
    "f"
   ]
  },
  {
   "cell_type": "markdown",
   "metadata": {},
   "source": [
    "The gradient is"
   ]
  },
  {
   "cell_type": "code",
   "execution_count": 4,
   "metadata": {},
   "outputs": [
    {
     "data": {
      "text/latex": [
       "$\\displaystyle \\left[\\begin{matrix}3 & 4\\end{matrix}\\right]$"
      ],
      "text/plain": [
       "[3, 4]"
      ]
     },
     "execution_count": 4,
     "metadata": {},
     "output_type": "execute_result"
    }
   ],
   "source": [
    "df = derive_by_array(f, (x, y))\n",
    "df"
   ]
  },
  {
   "cell_type": "markdown",
   "metadata": {},
   "source": [
    "##### Using numeric method"
   ]
  },
  {
   "cell_type": "code",
   "execution_count": 5,
   "metadata": {},
   "outputs": [],
   "source": [
    "def f1(x, y):\n",
    "    return 3*x + 4*y - 5"
   ]
  },
  {
   "cell_type": "code",
   "execution_count": 6,
   "metadata": {},
   "outputs": [],
   "source": [
    "X1 = np.linspace(-10, 10)\n",
    "Y1 = np.linspace(-10, 10)\n",
    "\n",
    "z = np.array([[f1(i, j) for i in X1] for j in Y1])\n",
    "\n",
    "dx, dy = np.gradient(z)"
   ]
  },
  {
   "cell_type": "markdown",
   "metadata": {},
   "source": [
    "The gradient is"
   ]
  },
  {
   "cell_type": "code",
   "execution_count": 7,
   "metadata": {},
   "outputs": [
    {
     "data": {
      "text/plain": [
       "array([[1.63265306, 1.63265306, 1.63265306, ..., 1.63265306, 1.63265306,\n",
       "        1.63265306],\n",
       "       [1.63265306, 1.63265306, 1.63265306, ..., 1.63265306, 1.63265306,\n",
       "        1.63265306],\n",
       "       [1.63265306, 1.63265306, 1.63265306, ..., 1.63265306, 1.63265306,\n",
       "        1.63265306],\n",
       "       ...,\n",
       "       [1.63265306, 1.63265306, 1.63265306, ..., 1.63265306, 1.63265306,\n",
       "        1.63265306],\n",
       "       [1.63265306, 1.63265306, 1.63265306, ..., 1.63265306, 1.63265306,\n",
       "        1.63265306],\n",
       "       [1.63265306, 1.63265306, 1.63265306, ..., 1.63265306, 1.63265306,\n",
       "        1.63265306]])"
      ]
     },
     "execution_count": 7,
     "metadata": {},
     "output_type": "execute_result"
    }
   ],
   "source": [
    "dx"
   ]
  },
  {
   "cell_type": "code",
   "execution_count": 8,
   "metadata": {},
   "outputs": [
    {
     "data": {
      "text/plain": [
       "array([[1.2244898, 1.2244898, 1.2244898, ..., 1.2244898, 1.2244898,\n",
       "        1.2244898],\n",
       "       [1.2244898, 1.2244898, 1.2244898, ..., 1.2244898, 1.2244898,\n",
       "        1.2244898],\n",
       "       [1.2244898, 1.2244898, 1.2244898, ..., 1.2244898, 1.2244898,\n",
       "        1.2244898],\n",
       "       ...,\n",
       "       [1.2244898, 1.2244898, 1.2244898, ..., 1.2244898, 1.2244898,\n",
       "        1.2244898],\n",
       "       [1.2244898, 1.2244898, 1.2244898, ..., 1.2244898, 1.2244898,\n",
       "        1.2244898],\n",
       "       [1.2244898, 1.2244898, 1.2244898, ..., 1.2244898, 1.2244898,\n",
       "        1.2244898]])"
      ]
     },
     "execution_count": 8,
     "metadata": {},
     "output_type": "execute_result"
    }
   ],
   "source": [
    "dy"
   ]
  }
 ],
 "metadata": {
  "interpreter": {
   "hash": "57744ed932a5da4ffb7d5879d9b65170d321805180660db910f737e8fd70cf58"
  },
  "kernelspec": {
   "display_name": "Python 3.10.4 (conda)",
   "language": "python",
   "name": "python3"
  },
  "language_info": {
   "codemirror_mode": {
    "name": "ipython",
    "version": 3
   },
   "file_extension": ".py",
   "mimetype": "text/x-python",
   "name": "python",
   "nbconvert_exporter": "python",
   "pygments_lexer": "ipython3",
   "version": "3.10.4"
  },
  "orig_nbformat": 4
 },
 "nbformat": 4,
 "nbformat_minor": 2
}
