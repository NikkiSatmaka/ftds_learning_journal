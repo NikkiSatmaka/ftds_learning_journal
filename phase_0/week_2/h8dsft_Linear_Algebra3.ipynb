{
 "cells": [
  {
   "cell_type": "code",
   "execution_count": 1,
   "metadata": {},
   "outputs": [],
   "source": [
    "import numpy as np\n",
    "import numpy.linalg as LA"
   ]
  },
  {
   "cell_type": "markdown",
   "metadata": {},
   "source": [
    "## Assignment\n",
    "\n",
    "Is $\\begin{bmatrix}1 \\\\3\\end{bmatrix}$ an eigenvector of $\\begin{bmatrix}1 & -1\\\\6 &-4 \\end{bmatrix}$?\n",
    "\n",
    "If so, what's its eigenvalue?"
   ]
  },
  {
   "cell_type": "code",
   "execution_count": 2,
   "metadata": {},
   "outputs": [],
   "source": [
    "A = np.array([[1, -1], [6, -4]])\n",
    "v = np.array([1, 3])"
   ]
  },
  {
   "cell_type": "code",
   "execution_count": 3,
   "metadata": {},
   "outputs": [],
   "source": [
    "eig_val, eig_vec = LA.eig(A)"
   ]
  },
  {
   "cell_type": "code",
   "execution_count": 4,
   "metadata": {},
   "outputs": [
    {
     "name": "stdout",
     "output_type": "stream",
     "text": [
      "[-1. -2.]\n",
      "[[0.4472136  0.31622777]\n",
      " [0.89442719 0.9486833 ]]\n"
     ]
    }
   ],
   "source": [
    "print(eig_val)\n",
    "print(eig_vec)"
   ]
  },
  {
   "cell_type": "code",
   "execution_count": 5,
   "metadata": {},
   "outputs": [
    {
     "name": "stdout",
     "output_type": "stream",
     "text": [
      "For eigenvalue -1.00, the eigenvector in unit vector is [0.4472136  0.89442719]\n",
      "For eigenvalue -2.00, the eigenvector in unit vector is [0.31622777 0.9486833 ]\n"
     ]
    }
   ],
   "source": [
    "print(f'For eigenvalue {eig_val[0]:.2f}, the eigenvector in unit vector is {eig_vec[:, 0]}')\n",
    "print(f'For eigenvalue {eig_val[1]:.2f}, the eigenvector in unit vector is {eig_vec[:, 1]}')"
   ]
  },
  {
   "cell_type": "code",
   "execution_count": 6,
   "metadata": {},
   "outputs": [
    {
     "name": "stdout",
     "output_type": "stream",
     "text": [
      "[1 3] normalized is [0.31622777 0.9486833 ]\n",
      "Which is the same as the eigenvector for eigenvalue -2.00\n"
     ]
    }
   ],
   "source": [
    "print(f'{v} normalized is {v / LA.norm(v)}')\n",
    "print(f'Which is the same as the eigenvector for eigenvalue {eig_val[1]:.2f}')"
   ]
  },
  {
   "cell_type": "markdown",
   "metadata": {},
   "source": [
    "## Conclusion\n",
    "\n",
    "$\\begin{bmatrix}1 \\\\3\\end{bmatrix}$ is an eigenvector of $\\begin{bmatrix}1 & -1\\\\6 &-4 \\end{bmatrix}$\n",
    "\n",
    "Its eigenvalue is `-2.00`\n"
   ]
  }
 ],
 "metadata": {
  "interpreter": {
   "hash": "57744ed932a5da4ffb7d5879d9b65170d321805180660db910f737e8fd70cf58"
  },
  "kernelspec": {
   "display_name": "Python 3.10.4 (conda)",
   "language": "python",
   "name": "python3"
  },
  "language_info": {
   "codemirror_mode": {
    "name": "ipython",
    "version": 3
   },
   "file_extension": ".py",
   "mimetype": "text/x-python",
   "name": "python",
   "nbconvert_exporter": "python",
   "pygments_lexer": "ipython3",
   "version": "3.10.4"
  },
  "orig_nbformat": 4
 },
 "nbformat": 4,
 "nbformat_minor": 2
}
