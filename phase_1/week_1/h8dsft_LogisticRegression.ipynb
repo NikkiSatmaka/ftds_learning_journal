{
 "cells": [
  {
   "cell_type": "markdown",
   "metadata": {},
   "source": [
    "# 1. Introduction\n"
   ]
  },
  {
   "cell_type": "markdown",
   "metadata": {},
   "source": [
    "# 1. Introduction\n"
   ]
  },
  {
   "cell_type": "markdown",
   "metadata": {},
   "source": [
    "## Description\n",
    "\n",
    "Stroke Prediction Dataset\n",
    "\n",
    "Dataset is taken from [Kaggle.com](https://www.kaggle.com/datasets/fedesoriano/stroke-prediction-dataset)\n",
    "\n",
    "Context:\n",
    "According to the World Health Organization (WHO) stroke is the 2nd leading cause of death globally, responsible for approximately 11% of total deaths.\n",
    "\n",
    "This dataset is used to predict whether a patient is likely to get stroke based on the input parameters like gender, age, various diseases, and smoking status\n",
    "\n",
    "1) `id`: unique identifier\n",
    "2) `gender`: \"Male\", \"Female\" or \"Other\"\n",
    "3) `age`: age of the patient\n",
    "4) `hypertension`: 0 if the patient doesn't have hypertension, 1 if the patient has hypertension\n",
    "5) `heart_disease`: 0 if the patient doesn't have any heart diseases, 1 if the patient has a heart disease\n",
    "6) `ever_married`: \"No\" or \"Yes\"\n",
    "7) `work_type`: \"children\", \"Govt_jov\", \"Never_worked\", \"Private\" or \"Self-employed\"\n",
    "8) `Residence_type`: \"Rural\" or \"Urban\"\n",
    "9) `avg_glucose_level`: average glucose level in blood\n",
    "10) `bmi`: body mass index\n",
    "11) `smoking_status`: \"formerly smoked\", \"never smoked\", \"smokes\" or \"Unknown\"*\n",
    "12) `stroke`: 1 if the patient had a stroke or 0 if not\n",
    "\n",
    "### Objective\n",
    "- To create a model to predict stroke\n",
    "\n",
    "### Problem Statement\n",
    "- What features are going to be useful as predictors?"
   ]
  },
  {
   "cell_type": "markdown",
   "metadata": {},
   "source": [
    "# 2. Importing Libraries"
   ]
  },
  {
   "cell_type": "code",
   "execution_count": 12,
   "metadata": {},
   "outputs": [
    {
     "name": "stdout",
     "output_type": "stream",
     "text": [
      "../../packages/outlier_handling.py\n",
      "../../packages/checker.py\n",
      "../../packages/imputation_handling.py\n",
      "../../packages/__init__.py\n"
     ]
    }
   ],
   "source": [
    "from pathlib import Path\n"
   ]
  },
  {
   "cell_type": "code",
   "execution_count": 1,
   "metadata": {},
   "outputs": [
    {
     "name": "stdout",
     "output_type": "stream",
     "text": [
      "['/home/nikki/workspace/hacktiv8/ftds_learning_journal/phase_1/week_1', '/home/nikki/workspace/hacktiv8/env/lib/python38.zip', '/home/nikki/workspace/hacktiv8/env/lib/python3.8', '/home/nikki/workspace/hacktiv8/env/lib/python3.8/lib-dynload', '', '/home/nikki/workspace/hacktiv8/env/lib/python3.8/site-packages']\n",
      "--------------------------------------------------------------------------------\n"
     ]
    },
    {
     "ename": "NameError",
     "evalue": "name 'Path' is not defined",
     "output_type": "error",
     "traceback": [
      "\u001b[0;31m---------------------------------------------------------------------------\u001b[0m",
      "\u001b[0;31mNameError\u001b[0m                                 Traceback (most recent call last)",
      "\u001b[1;32m/home/nikki/workspace/hacktiv8/ftds_learning_journal/phase_1/week_1/h8dsft_LogisticRegression.ipynb Cell 6'\u001b[0m in \u001b[0;36m<cell line: 7>\u001b[0;34m()\u001b[0m\n\u001b[1;32m      <a href='vscode-notebook-cell://wsl%2Bubuntu/home/nikki/workspace/hacktiv8/ftds_learning_journal/phase_1/week_1/h8dsft_LogisticRegression.ipynb#ch0000158vscode-remote?line=4'>5</a>\u001b[0m \u001b[39mprint\u001b[39m(\u001b[39m'\u001b[39m\u001b[39m-\u001b[39m\u001b[39m'\u001b[39m \u001b[39m*\u001b[39m \u001b[39m80\u001b[39m)\n\u001b[1;32m      <a href='vscode-notebook-cell://wsl%2Bubuntu/home/nikki/workspace/hacktiv8/ftds_learning_journal/phase_1/week_1/h8dsft_LogisticRegression.ipynb#ch0000158vscode-remote?line=5'>6</a>\u001b[0m \u001b[39m# sys.path.insert(0, str(Path('../../packages/')))\u001b[39;00m\n\u001b[0;32m----> <a href='vscode-notebook-cell://wsl%2Bubuntu/home/nikki/workspace/hacktiv8/ftds_learning_journal/phase_1/week_1/h8dsft_LogisticRegression.ipynb#ch0000158vscode-remote?line=6'>7</a>\u001b[0m sys\u001b[39m.\u001b[39mpath\u001b[39m.\u001b[39mappend(\u001b[39mstr\u001b[39m(Path(\u001b[39m'\u001b[39m\u001b[39m../../\u001b[39m\u001b[39m'\u001b[39m)))\n\u001b[1;32m      <a href='vscode-notebook-cell://wsl%2Bubuntu/home/nikki/workspace/hacktiv8/ftds_learning_journal/phase_1/week_1/h8dsft_LogisticRegression.ipynb#ch0000158vscode-remote?line=8'>9</a>\u001b[0m \u001b[39mprint\u001b[39m(sys\u001b[39m.\u001b[39mpath)\n\u001b[1;32m     <a href='vscode-notebook-cell://wsl%2Bubuntu/home/nikki/workspace/hacktiv8/ftds_learning_journal/phase_1/week_1/h8dsft_LogisticRegression.ipynb#ch0000158vscode-remote?line=10'>11</a>\u001b[0m \u001b[39mfrom\u001b[39;00m \u001b[39mpackages\u001b[39;00m\u001b[39m.\u001b[39;00m\u001b[39mchecker\u001b[39;00m \u001b[39mimport\u001b[39;00m check_missing\n",
      "\u001b[0;31mNameError\u001b[0m: name 'Path' is not defined"
     ]
    }
   ],
   "source": [
    "import sys\n",
    "from pathlib import Path\n",
    "\n",
    "print(sys.path)\n",
    "\n",
    "print('-' * 80)\n",
    "# sys.path.insert(0, str(Path('../../packages/')))\n",
    "sys.path.append(str(Path('../../')))\n",
    "\n",
    "print(sys.path)\n",
    "\n",
    "from packages.checker import check_missing"
   ]
  },
  {
   "cell_type": "code",
   "execution_count": 4,
   "metadata": {},
   "outputs": [
    {
     "ename": "ModuleNotFoundError",
     "evalue": "No module named 'packages'",
     "output_type": "error",
     "traceback": [
      "\u001b[0;31m---------------------------------------------------------------------------\u001b[0m",
      "\u001b[0;31mModuleNotFoundError\u001b[0m                       Traceback (most recent call last)",
      "\u001b[1;32m/home/nikki/workspace/hacktiv8/ftds_learning_journal/phase_1/week_1/h8dsft_LogisticRegression.ipynb Cell 5'\u001b[0m in \u001b[0;36m<cell line: 9>\u001b[0;34m()\u001b[0m\n\u001b[1;32m      <a href='vscode-notebook-cell://wsl%2Bubuntu/home/nikki/workspace/hacktiv8/ftds_learning_journal/phase_1/week_1/h8dsft_LogisticRegression.ipynb#ch0000004vscode-remote?line=5'>6</a>\u001b[0m \u001b[39mfrom\u001b[39;00m \u001b[39mpathlib\u001b[39;00m \u001b[39mimport\u001b[39;00m Path\n\u001b[1;32m      <a href='vscode-notebook-cell://wsl%2Bubuntu/home/nikki/workspace/hacktiv8/ftds_learning_journal/phase_1/week_1/h8dsft_LogisticRegression.ipynb#ch0000004vscode-remote?line=7'>8</a>\u001b[0m \u001b[39m# Useful functions\u001b[39;00m\n\u001b[0;32m----> <a href='vscode-notebook-cell://wsl%2Bubuntu/home/nikki/workspace/hacktiv8/ftds_learning_journal/phase_1/week_1/h8dsft_LogisticRegression.ipynb#ch0000004vscode-remote?line=8'>9</a>\u001b[0m \u001b[39mfrom\u001b[39;00m \u001b[39mpackages\u001b[39;00m\u001b[39m.\u001b[39;00m\u001b[39mchecker\u001b[39;00m \u001b[39mimport\u001b[39;00m check_missing, check_missing_special\n\u001b[1;32m     <a href='vscode-notebook-cell://wsl%2Bubuntu/home/nikki/workspace/hacktiv8/ftds_learning_journal/phase_1/week_1/h8dsft_LogisticRegression.ipynb#ch0000004vscode-remote?line=9'>10</a>\u001b[0m \u001b[39mfrom\u001b[39;00m \u001b[39mpackages\u001b[39;00m\u001b[39m.\u001b[39;00m\u001b[39moutlier_handling\u001b[39;00m \u001b[39mimport\u001b[39;00m check_outlier, outlier_summary\n\u001b[1;32m     <a href='vscode-notebook-cell://wsl%2Bubuntu/home/nikki/workspace/hacktiv8/ftds_learning_journal/phase_1/week_1/h8dsft_LogisticRegression.ipynb#ch0000004vscode-remote?line=10'>11</a>\u001b[0m \u001b[39mfrom\u001b[39;00m \u001b[39mpackages\u001b[39;00m\u001b[39m.\u001b[39;00m\u001b[39moutlier_handling\u001b[39;00m \u001b[39mimport\u001b[39;00m trim_cap_outliers\n",
      "\u001b[0;31mModuleNotFoundError\u001b[0m: No module named 'packages'"
     ]
    }
   ],
   "source": [
    "# importing libraries\n",
    "import numpy as np\n",
    "import pandas as pd\n",
    "import matplotlib.pyplot as plt\n",
    "import seaborn as sns\n",
    "import sys\n",
    "from pathlib import Path\n",
    "\n",
    "sys.path.insert(Path('../../packages'))\n",
    "\n",
    "# Useful functions\n",
    "from packages.checker import check_missing, check_missing_special\n",
    "from packages.outlier_handling import check_outlier, outlier_summary\n",
    "from packages.outlier_handling import trim_cap_outliers\n",
    "from packages.imputation_handling import prepare_imputation\n",
    "\n",
    "import joblib\n",
    "\n",
    "import warnings\n",
    "warnings.filterwarnings('ignore')\n",
    "\n",
    "# For Handling Missing Values\n",
    "from feature_engine.imputation import CategoricalImputer\n",
    "\n",
    "# For Data Preprocessing\n",
    "from imblearn.pipeline import Pipeline\n",
    "from imblearn.over_sampling import SMOTENC\n",
    "from sklearn.compose import ColumnTransformer\n",
    "from sklearn.decomposition import PCA\n",
    "\n",
    "# Split Dataset and Standarize the Datasets\n",
    "from sklearn.model_selection import train_test_split\n",
    "from sklearn.model_selection import cross_validate\n",
    "from sklearn.preprocessing import StandardScaler\n",
    "from sklearn.preprocessing import MinMaxScaler\n",
    "from sklearn.preprocessing import OneHotEncoder\n",
    "from sklearn.preprocessing import OrdinalEncoder\n",
    "from sklearn.preprocessing import LabelEncoder\n",
    "\n",
    "# For Classification Problems\n",
    "from sklearn.linear_model import LogisticRegression\n",
    "\n",
    "# Hyperparameter Tuning\n",
    "from sklearn.model_selection import RandomizedSearchCV\n",
    "\n",
    "# Evaluate Classification Models\n",
    "from sklearn.metrics import roc_curve\n",
    "from sklearn.metrics import classification_report\n",
    "from sklearn.metrics import auc\n",
    "from sklearn.metrics import f1_score\n",
    "from sklearn.metrics import recall_score\n",
    "from sklearn.metrics import roc_auc_score\n",
    "\n",
    "pd.set_option('display.precision', 2)\n",
    "\n",
    "sns.set_theme(style='darkgrid', palette='Set1')\n",
    "\n",
    "%matplotlib inline"
   ]
  },
  {
   "cell_type": "markdown",
   "metadata": {},
   "source": [
    "# 3. Data Loading"
   ]
  },
  {
   "cell_type": "code",
   "execution_count": 2,
   "metadata": {},
   "outputs": [
    {
     "data": {
      "text/html": [
       "<div>\n",
       "<style scoped>\n",
       "    .dataframe tbody tr th:only-of-type {\n",
       "        vertical-align: middle;\n",
       "    }\n",
       "\n",
       "    .dataframe tbody tr th {\n",
       "        vertical-align: top;\n",
       "    }\n",
       "\n",
       "    .dataframe thead th {\n",
       "        text-align: right;\n",
       "    }\n",
       "</style>\n",
       "<table border=\"1\" class=\"dataframe\">\n",
       "  <thead>\n",
       "    <tr style=\"text-align: right;\">\n",
       "      <th></th>\n",
       "      <th>id</th>\n",
       "      <th>gender</th>\n",
       "      <th>age</th>\n",
       "      <th>hypertension</th>\n",
       "      <th>heart_disease</th>\n",
       "      <th>ever_married</th>\n",
       "      <th>work_type</th>\n",
       "      <th>Residence_type</th>\n",
       "      <th>avg_glucose_level</th>\n",
       "      <th>bmi</th>\n",
       "      <th>smoking_status</th>\n",
       "      <th>stroke</th>\n",
       "    </tr>\n",
       "  </thead>\n",
       "  <tbody>\n",
       "    <tr>\n",
       "      <th>0</th>\n",
       "      <td>9046</td>\n",
       "      <td>Male</td>\n",
       "      <td>67.0</td>\n",
       "      <td>0</td>\n",
       "      <td>1</td>\n",
       "      <td>Yes</td>\n",
       "      <td>Private</td>\n",
       "      <td>Urban</td>\n",
       "      <td>228.69</td>\n",
       "      <td>36.6</td>\n",
       "      <td>formerly smoked</td>\n",
       "      <td>1</td>\n",
       "    </tr>\n",
       "    <tr>\n",
       "      <th>1</th>\n",
       "      <td>51676</td>\n",
       "      <td>Female</td>\n",
       "      <td>61.0</td>\n",
       "      <td>0</td>\n",
       "      <td>0</td>\n",
       "      <td>Yes</td>\n",
       "      <td>Self-employed</td>\n",
       "      <td>Rural</td>\n",
       "      <td>202.21</td>\n",
       "      <td>NaN</td>\n",
       "      <td>never smoked</td>\n",
       "      <td>1</td>\n",
       "    </tr>\n",
       "    <tr>\n",
       "      <th>2</th>\n",
       "      <td>31112</td>\n",
       "      <td>Male</td>\n",
       "      <td>80.0</td>\n",
       "      <td>0</td>\n",
       "      <td>1</td>\n",
       "      <td>Yes</td>\n",
       "      <td>Private</td>\n",
       "      <td>Rural</td>\n",
       "      <td>105.92</td>\n",
       "      <td>32.5</td>\n",
       "      <td>never smoked</td>\n",
       "      <td>1</td>\n",
       "    </tr>\n",
       "    <tr>\n",
       "      <th>3</th>\n",
       "      <td>60182</td>\n",
       "      <td>Female</td>\n",
       "      <td>49.0</td>\n",
       "      <td>0</td>\n",
       "      <td>0</td>\n",
       "      <td>Yes</td>\n",
       "      <td>Private</td>\n",
       "      <td>Urban</td>\n",
       "      <td>171.23</td>\n",
       "      <td>34.4</td>\n",
       "      <td>smokes</td>\n",
       "      <td>1</td>\n",
       "    </tr>\n",
       "    <tr>\n",
       "      <th>4</th>\n",
       "      <td>1665</td>\n",
       "      <td>Female</td>\n",
       "      <td>79.0</td>\n",
       "      <td>1</td>\n",
       "      <td>0</td>\n",
       "      <td>Yes</td>\n",
       "      <td>Self-employed</td>\n",
       "      <td>Rural</td>\n",
       "      <td>174.12</td>\n",
       "      <td>24.0</td>\n",
       "      <td>never smoked</td>\n",
       "      <td>1</td>\n",
       "    </tr>\n",
       "  </tbody>\n",
       "</table>\n",
       "</div>"
      ],
      "text/plain": [
       "      id  gender   age  hypertension  heart_disease ever_married  \\\n",
       "0   9046    Male  67.0             0              1          Yes   \n",
       "1  51676  Female  61.0             0              0          Yes   \n",
       "2  31112    Male  80.0             0              1          Yes   \n",
       "3  60182  Female  49.0             0              0          Yes   \n",
       "4   1665  Female  79.0             1              0          Yes   \n",
       "\n",
       "       work_type Residence_type  avg_glucose_level   bmi   smoking_status  \\\n",
       "0        Private          Urban             228.69  36.6  formerly smoked   \n",
       "1  Self-employed          Rural             202.21   NaN     never smoked   \n",
       "2        Private          Rural             105.92  32.5     never smoked   \n",
       "3        Private          Urban             171.23  34.4           smokes   \n",
       "4  Self-employed          Rural             174.12  24.0     never smoked   \n",
       "\n",
       "   stroke  \n",
       "0       1  \n",
       "1       1  \n",
       "2       1  \n",
       "3       1  \n",
       "4       1  "
      ]
     },
     "execution_count": 2,
     "metadata": {},
     "output_type": "execute_result"
    }
   ],
   "source": [
    "# load dataset\n",
    "df_ori = pd.read_csv('data/healthcare-dataset-stroke-data.csv')\n",
    "df = df_ori.copy()\n",
    "\n",
    "# display the first 5 rows of the dataset\n",
    "df.head()"
   ]
  },
  {
   "cell_type": "code",
   "execution_count": 3,
   "metadata": {},
   "outputs": [
    {
     "data": {
      "text/html": [
       "<div>\n",
       "<style scoped>\n",
       "    .dataframe tbody tr th:only-of-type {\n",
       "        vertical-align: middle;\n",
       "    }\n",
       "\n",
       "    .dataframe tbody tr th {\n",
       "        vertical-align: top;\n",
       "    }\n",
       "\n",
       "    .dataframe thead th {\n",
       "        text-align: right;\n",
       "    }\n",
       "</style>\n",
       "<table border=\"1\" class=\"dataframe\">\n",
       "  <thead>\n",
       "    <tr style=\"text-align: right;\">\n",
       "      <th></th>\n",
       "      <th>id</th>\n",
       "      <th>gender</th>\n",
       "      <th>age</th>\n",
       "      <th>hypertension</th>\n",
       "      <th>heart_disease</th>\n",
       "      <th>ever_married</th>\n",
       "      <th>work_type</th>\n",
       "      <th>Residence_type</th>\n",
       "      <th>avg_glucose_level</th>\n",
       "      <th>bmi</th>\n",
       "      <th>smoking_status</th>\n",
       "      <th>stroke</th>\n",
       "    </tr>\n",
       "  </thead>\n",
       "  <tbody>\n",
       "    <tr>\n",
       "      <th>5105</th>\n",
       "      <td>18234</td>\n",
       "      <td>Female</td>\n",
       "      <td>80.0</td>\n",
       "      <td>1</td>\n",
       "      <td>0</td>\n",
       "      <td>Yes</td>\n",
       "      <td>Private</td>\n",
       "      <td>Urban</td>\n",
       "      <td>83.75</td>\n",
       "      <td>NaN</td>\n",
       "      <td>never smoked</td>\n",
       "      <td>0</td>\n",
       "    </tr>\n",
       "    <tr>\n",
       "      <th>5106</th>\n",
       "      <td>44873</td>\n",
       "      <td>Female</td>\n",
       "      <td>81.0</td>\n",
       "      <td>0</td>\n",
       "      <td>0</td>\n",
       "      <td>Yes</td>\n",
       "      <td>Self-employed</td>\n",
       "      <td>Urban</td>\n",
       "      <td>125.20</td>\n",
       "      <td>40.0</td>\n",
       "      <td>never smoked</td>\n",
       "      <td>0</td>\n",
       "    </tr>\n",
       "    <tr>\n",
       "      <th>5107</th>\n",
       "      <td>19723</td>\n",
       "      <td>Female</td>\n",
       "      <td>35.0</td>\n",
       "      <td>0</td>\n",
       "      <td>0</td>\n",
       "      <td>Yes</td>\n",
       "      <td>Self-employed</td>\n",
       "      <td>Rural</td>\n",
       "      <td>82.99</td>\n",
       "      <td>30.6</td>\n",
       "      <td>never smoked</td>\n",
       "      <td>0</td>\n",
       "    </tr>\n",
       "    <tr>\n",
       "      <th>5108</th>\n",
       "      <td>37544</td>\n",
       "      <td>Male</td>\n",
       "      <td>51.0</td>\n",
       "      <td>0</td>\n",
       "      <td>0</td>\n",
       "      <td>Yes</td>\n",
       "      <td>Private</td>\n",
       "      <td>Rural</td>\n",
       "      <td>166.29</td>\n",
       "      <td>25.6</td>\n",
       "      <td>formerly smoked</td>\n",
       "      <td>0</td>\n",
       "    </tr>\n",
       "    <tr>\n",
       "      <th>5109</th>\n",
       "      <td>44679</td>\n",
       "      <td>Female</td>\n",
       "      <td>44.0</td>\n",
       "      <td>0</td>\n",
       "      <td>0</td>\n",
       "      <td>Yes</td>\n",
       "      <td>Govt_job</td>\n",
       "      <td>Urban</td>\n",
       "      <td>85.28</td>\n",
       "      <td>26.2</td>\n",
       "      <td>Unknown</td>\n",
       "      <td>0</td>\n",
       "    </tr>\n",
       "  </tbody>\n",
       "</table>\n",
       "</div>"
      ],
      "text/plain": [
       "         id  gender   age  hypertension  heart_disease ever_married  \\\n",
       "5105  18234  Female  80.0             1              0          Yes   \n",
       "5106  44873  Female  81.0             0              0          Yes   \n",
       "5107  19723  Female  35.0             0              0          Yes   \n",
       "5108  37544    Male  51.0             0              0          Yes   \n",
       "5109  44679  Female  44.0             0              0          Yes   \n",
       "\n",
       "          work_type Residence_type  avg_glucose_level   bmi   smoking_status  \\\n",
       "5105        Private          Urban              83.75   NaN     never smoked   \n",
       "5106  Self-employed          Urban             125.20  40.0     never smoked   \n",
       "5107  Self-employed          Rural              82.99  30.6     never smoked   \n",
       "5108        Private          Rural             166.29  25.6  formerly smoked   \n",
       "5109       Govt_job          Urban              85.28  26.2          Unknown   \n",
       "\n",
       "      stroke  \n",
       "5105       0  \n",
       "5106       0  \n",
       "5107       0  \n",
       "5108       0  \n",
       "5109       0  "
      ]
     },
     "execution_count": 3,
     "metadata": {},
     "output_type": "execute_result"
    }
   ],
   "source": [
    "# display the last 5 entries of the data\n",
    "df.tail()"
   ]
  },
  {
   "cell_type": "markdown",
   "metadata": {},
   "source": [
    "## Data Understanding"
   ]
  },
  {
   "cell_type": "code",
   "execution_count": 4,
   "metadata": {},
   "outputs": [
    {
     "data": {
      "text/plain": [
       "(5110, 12)"
      ]
     },
     "execution_count": 4,
     "metadata": {},
     "output_type": "execute_result"
    }
   ],
   "source": [
    "# check dataset shape\n",
    "df.shape"
   ]
  },
  {
   "cell_type": "markdown",
   "metadata": {},
   "source": [
    "There are 5110 entries and 12 columns of data"
   ]
  },
  {
   "cell_type": "code",
   "execution_count": 5,
   "metadata": {},
   "outputs": [
    {
     "name": "stdout",
     "output_type": "stream",
     "text": [
      "<class 'pandas.core.frame.DataFrame'>\n",
      "RangeIndex: 5110 entries, 0 to 5109\n",
      "Data columns (total 12 columns):\n",
      " #   Column             Non-Null Count  Dtype  \n",
      "---  ------             --------------  -----  \n",
      " 0   id                 5110 non-null   int64  \n",
      " 1   gender             5110 non-null   object \n",
      " 2   age                5110 non-null   float64\n",
      " 3   hypertension       5110 non-null   int64  \n",
      " 4   heart_disease      5110 non-null   int64  \n",
      " 5   ever_married       5110 non-null   object \n",
      " 6   work_type          5110 non-null   object \n",
      " 7   Residence_type     5110 non-null   object \n",
      " 8   avg_glucose_level  5110 non-null   float64\n",
      " 9   bmi                4909 non-null   float64\n",
      " 10  smoking_status     5110 non-null   object \n",
      " 11  stroke             5110 non-null   int64  \n",
      "dtypes: float64(3), int64(4), object(5)\n",
      "memory usage: 479.2+ KB\n"
     ]
    }
   ],
   "source": [
    "# check dataset info\n",
    "df.info()"
   ]
  },
  {
   "cell_type": "code",
   "execution_count": 6,
   "metadata": {},
   "outputs": [
    {
     "data": {
      "text/plain": [
       "bmi                  201\n",
       "id                     0\n",
       "gender                 0\n",
       "age                    0\n",
       "hypertension           0\n",
       "heart_disease          0\n",
       "ever_married           0\n",
       "work_type              0\n",
       "Residence_type         0\n",
       "avg_glucose_level      0\n",
       "smoking_status         0\n",
       "stroke                 0\n",
       "dtype: int64"
      ]
     },
     "execution_count": 6,
     "metadata": {},
     "output_type": "execute_result"
    }
   ],
   "source": [
    "# check missing values in dataset\n",
    "df.isna().sum().sort_values(ascending=False)"
   ]
  },
  {
   "cell_type": "markdown",
   "metadata": {},
   "source": [
    "There are 201 missing values"
   ]
  },
  {
   "cell_type": "markdown",
   "metadata": {},
   "source": [
    "## Basic Characteristics of the Dataset"
   ]
  },
  {
   "cell_type": "code",
   "execution_count": 7,
   "metadata": {},
   "outputs": [
    {
     "data": {
      "text/html": [
       "<div>\n",
       "<style scoped>\n",
       "    .dataframe tbody tr th:only-of-type {\n",
       "        vertical-align: middle;\n",
       "    }\n",
       "\n",
       "    .dataframe tbody tr th {\n",
       "        vertical-align: top;\n",
       "    }\n",
       "\n",
       "    .dataframe thead th {\n",
       "        text-align: right;\n",
       "    }\n",
       "</style>\n",
       "<table border=\"1\" class=\"dataframe\">\n",
       "  <thead>\n",
       "    <tr style=\"text-align: right;\">\n",
       "      <th></th>\n",
       "      <th>count</th>\n",
       "      <th>mean</th>\n",
       "      <th>std</th>\n",
       "      <th>min</th>\n",
       "      <th>50%</th>\n",
       "      <th>max</th>\n",
       "    </tr>\n",
       "  </thead>\n",
       "  <tbody>\n",
       "    <tr>\n",
       "      <th>id</th>\n",
       "      <td>5110.0</td>\n",
       "      <td>36517.83</td>\n",
       "      <td>21161.72</td>\n",
       "      <td>67.00</td>\n",
       "      <td>36932.00</td>\n",
       "      <td>72940.00</td>\n",
       "    </tr>\n",
       "    <tr>\n",
       "      <th>age</th>\n",
       "      <td>5110.0</td>\n",
       "      <td>43.23</td>\n",
       "      <td>22.61</td>\n",
       "      <td>0.08</td>\n",
       "      <td>45.00</td>\n",
       "      <td>82.00</td>\n",
       "    </tr>\n",
       "    <tr>\n",
       "      <th>hypertension</th>\n",
       "      <td>5110.0</td>\n",
       "      <td>0.10</td>\n",
       "      <td>0.30</td>\n",
       "      <td>0.00</td>\n",
       "      <td>0.00</td>\n",
       "      <td>1.00</td>\n",
       "    </tr>\n",
       "    <tr>\n",
       "      <th>heart_disease</th>\n",
       "      <td>5110.0</td>\n",
       "      <td>0.05</td>\n",
       "      <td>0.23</td>\n",
       "      <td>0.00</td>\n",
       "      <td>0.00</td>\n",
       "      <td>1.00</td>\n",
       "    </tr>\n",
       "    <tr>\n",
       "      <th>avg_glucose_level</th>\n",
       "      <td>5110.0</td>\n",
       "      <td>106.15</td>\n",
       "      <td>45.28</td>\n",
       "      <td>55.12</td>\n",
       "      <td>91.88</td>\n",
       "      <td>271.74</td>\n",
       "    </tr>\n",
       "    <tr>\n",
       "      <th>bmi</th>\n",
       "      <td>4909.0</td>\n",
       "      <td>28.89</td>\n",
       "      <td>7.85</td>\n",
       "      <td>10.30</td>\n",
       "      <td>28.10</td>\n",
       "      <td>97.60</td>\n",
       "    </tr>\n",
       "    <tr>\n",
       "      <th>stroke</th>\n",
       "      <td>5110.0</td>\n",
       "      <td>0.05</td>\n",
       "      <td>0.22</td>\n",
       "      <td>0.00</td>\n",
       "      <td>0.00</td>\n",
       "      <td>1.00</td>\n",
       "    </tr>\n",
       "  </tbody>\n",
       "</table>\n",
       "</div>"
      ],
      "text/plain": [
       "                    count      mean       std    min       50%       max\n",
       "id                 5110.0  36517.83  21161.72  67.00  36932.00  72940.00\n",
       "age                5110.0     43.23     22.61   0.08     45.00     82.00\n",
       "hypertension       5110.0      0.10      0.30   0.00      0.00      1.00\n",
       "heart_disease      5110.0      0.05      0.23   0.00      0.00      1.00\n",
       "avg_glucose_level  5110.0    106.15     45.28  55.12     91.88    271.74\n",
       "bmi                4909.0     28.89      7.85  10.30     28.10     97.60\n",
       "stroke             5110.0      0.05      0.22   0.00      0.00      1.00"
      ]
     },
     "execution_count": 7,
     "metadata": {},
     "output_type": "execute_result"
    }
   ],
   "source": [
    "# check basic stats for features with number dtypes\n",
    "df.describe(percentiles=[0.5]).T"
   ]
  },
  {
   "cell_type": "code",
   "execution_count": 8,
   "metadata": {},
   "outputs": [
    {
     "data": {
      "text/html": [
       "<div>\n",
       "<style scoped>\n",
       "    .dataframe tbody tr th:only-of-type {\n",
       "        vertical-align: middle;\n",
       "    }\n",
       "\n",
       "    .dataframe tbody tr th {\n",
       "        vertical-align: top;\n",
       "    }\n",
       "\n",
       "    .dataframe thead th {\n",
       "        text-align: right;\n",
       "    }\n",
       "</style>\n",
       "<table border=\"1\" class=\"dataframe\">\n",
       "  <thead>\n",
       "    <tr style=\"text-align: right;\">\n",
       "      <th></th>\n",
       "      <th>count</th>\n",
       "      <th>unique</th>\n",
       "      <th>top</th>\n",
       "      <th>freq</th>\n",
       "    </tr>\n",
       "  </thead>\n",
       "  <tbody>\n",
       "    <tr>\n",
       "      <th>gender</th>\n",
       "      <td>5110</td>\n",
       "      <td>3</td>\n",
       "      <td>Female</td>\n",
       "      <td>2994</td>\n",
       "    </tr>\n",
       "    <tr>\n",
       "      <th>ever_married</th>\n",
       "      <td>5110</td>\n",
       "      <td>2</td>\n",
       "      <td>Yes</td>\n",
       "      <td>3353</td>\n",
       "    </tr>\n",
       "    <tr>\n",
       "      <th>work_type</th>\n",
       "      <td>5110</td>\n",
       "      <td>5</td>\n",
       "      <td>Private</td>\n",
       "      <td>2925</td>\n",
       "    </tr>\n",
       "    <tr>\n",
       "      <th>Residence_type</th>\n",
       "      <td>5110</td>\n",
       "      <td>2</td>\n",
       "      <td>Urban</td>\n",
       "      <td>2596</td>\n",
       "    </tr>\n",
       "    <tr>\n",
       "      <th>smoking_status</th>\n",
       "      <td>5110</td>\n",
       "      <td>4</td>\n",
       "      <td>never smoked</td>\n",
       "      <td>1892</td>\n",
       "    </tr>\n",
       "  </tbody>\n",
       "</table>\n",
       "</div>"
      ],
      "text/plain": [
       "               count unique           top  freq\n",
       "gender          5110      3        Female  2994\n",
       "ever_married    5110      2           Yes  3353\n",
       "work_type       5110      5       Private  2925\n",
       "Residence_type  5110      2         Urban  2596\n",
       "smoking_status  5110      4  never smoked  1892"
      ]
     },
     "execution_count": 8,
     "metadata": {},
     "output_type": "execute_result"
    }
   ],
   "source": [
    "# check basic stats for features with object dtypes\n",
    "df.describe(include='object').T"
   ]
  },
  {
   "cell_type": "code",
   "execution_count": 9,
   "metadata": {},
   "outputs": [
    {
     "name": "stdout",
     "output_type": "stream",
     "text": [
      "Features with low cardinality:\n",
      "gender : 3 unique values \n",
      " ['Female' 'Male' 'Other']\n",
      "----------------------------------------------------------------------------------------------------\n",
      "hypertension : 2 unique values \n",
      " [0 1]\n",
      "----------------------------------------------------------------------------------------------------\n",
      "heart_disease : 2 unique values \n",
      " [0 1]\n",
      "----------------------------------------------------------------------------------------------------\n",
      "ever_married : 2 unique values \n",
      " ['No' 'Yes']\n",
      "----------------------------------------------------------------------------------------------------\n",
      "work_type : 5 unique values \n",
      " ['Govt_job' 'Never_worked' 'Private' 'Self-employed' 'children']\n",
      "----------------------------------------------------------------------------------------------------\n",
      "Residence_type : 2 unique values \n",
      " ['Rural' 'Urban']\n",
      "----------------------------------------------------------------------------------------------------\n",
      "smoking_status : 4 unique values \n",
      " ['Unknown' 'formerly smoked' 'never smoked' 'smokes']\n",
      "----------------------------------------------------------------------------------------------------\n",
      "stroke : 2 unique values \n",
      " [0 1]\n",
      "----------------------------------------------------------------------------------------------------\n"
     ]
    }
   ],
   "source": [
    "# check the cardinality of each features\n",
    "print(\"Features with low cardinality:\")\n",
    "for col in df.columns:\n",
    "    if df[col].nunique() < 20:\n",
    "        print(col, ':', df[col].nunique(), 'unique values \\n', np.sort(df[col].unique()))\n",
    "        print('-' * 100)"
   ]
  },
  {
   "cell_type": "markdown",
   "metadata": {},
   "source": [
    "Let's cover some basic stats of some numerical features in the train set.\n",
    "- `feature`\n",
    "    - pass"
   ]
  },
  {
   "cell_type": "markdown",
   "metadata": {},
   "source": [
    "## Data Preparation\n",
    "\n",
    "Handle cardinality in `feature`"
   ]
  },
  {
   "cell_type": "code",
   "execution_count": null,
   "metadata": {},
   "outputs": [],
   "source": []
  },
  {
   "cell_type": "markdown",
   "metadata": {},
   "source": [
    "Data looks good and is in accordance with the data design"
   ]
  },
  {
   "cell_type": "markdown",
   "metadata": {},
   "source": [
    "## Check for Dataset Imbalance\n",
    "\n",
    "Check whether the target variable of the dataset is balance"
   ]
  },
  {
   "cell_type": "code",
   "execution_count": 10,
   "metadata": {},
   "outputs": [
    {
     "data": {
      "image/png": "[encoded data removed]",
      "text/plain": [
       "<Figure size 432x288 with 1 Axes>"
      ]
     },
     "metadata": {
      "needs_background": "light"
     },
     "output_type": "display_data"
    }
   ],
   "source": [
    "# check for imbalance in target variable\n",
    "df['stroke'].value_counts().plot(kind='bar')\n",
    "plt.show()"
   ]
  },
  {
   "cell_type": "markdown",
   "metadata": {},
   "source": [
    "Since our dataset is imbalance, we need to stratify when splitting"
   ]
  },
  {
   "cell_type": "markdown",
   "metadata": {},
   "source": [
    "## Splitting Dataset\n",
    "\n",
    "We need to split the dataset into inference, train and test sets before we do any EDA.\\\n",
    "We do our EDA on the train set so as to not have any bias towards the whole dataset."
   ]
  },
  {
   "cell_type": "markdown",
   "metadata": {},
   "source": [
    "### Sample data for inference"
   ]
  },
  {
   "cell_type": "code",
   "execution_count": 11,
   "metadata": {},
   "outputs": [
    {
     "name": "stdout",
     "output_type": "stream",
     "text": [
      "df_inf Size: (10, 12)\n"
     ]
    }
   ],
   "source": [
    "# sample dataset for inference\n",
    "df_inf = df.sample(10, random_state=42)\n",
    "\n",
    "# remove inference set from original dataset\n",
    "df_train_test = df.drop(df_inf.index).reset_index(drop=True)\n",
    "\n",
    "# reset index for inference set\n",
    "df_inf = df_inf.reset_index(drop=True)\n",
    "\n",
    "print('df_inf Size:', df_inf.shape)"
   ]
  },
  {
   "cell_type": "markdown",
   "metadata": {},
   "source": [
    "### Split train and test set\n",
    "\n",
    "\n",
    "Since the target variable is imbalanced, we use stratified sampling"
   ]
  },
  {
   "cell_type": "code",
   "execution_count": 12,
   "metadata": {},
   "outputs": [
    {
     "name": "stdout",
     "output_type": "stream",
     "text": [
      "df_train Size: (4080, 12)\n",
      "df_test Size: (1020, 12)\n"
     ]
    }
   ],
   "source": [
    "# we use stratified sampling to ensure that the distribution of the target variable is balanced\n",
    "df_train, df_test = train_test_split(\n",
    "    df_train_test,\n",
    "    test_size=0.20,\n",
    "    random_state=42,\n",
    "    stratify=df_train_test['stroke']\n",
    ")\n",
    "\n",
    "print('df_train Size:', df_train.shape)\n",
    "print('df_test Size:', df_test.shape)"
   ]
  },
  {
   "cell_type": "code",
   "execution_count": 13,
   "metadata": {},
   "outputs": [],
   "source": [
    "# backup the train set that we are gonna perform EDA on\n",
    "df_train_ori = df_train.copy()"
   ]
  },
  {
   "cell_type": "markdown",
   "metadata": {},
   "source": [
    "# 4. Exploratory Data Analysis"
   ]
  },
  {
   "cell_type": "code",
   "execution_count": null,
   "metadata": {},
   "outputs": [],
   "source": []
  },
  {
   "cell_type": "markdown",
   "metadata": {},
   "source": [
    "# 5. Data Preprocessing"
   ]
  },
  {
   "cell_type": "code",
   "execution_count": 14,
   "metadata": {},
   "outputs": [],
   "source": [
    "# restore the train set from the backup\n",
    "df_train = df_train_ori.copy()"
   ]
  },
  {
   "cell_type": "code",
   "execution_count": 15,
   "metadata": {},
   "outputs": [],
   "source": [
    "# split between features and target\n",
    "X_train = df_train.drop(['stroke'], axis=1)\n",
    "y_train = df_train['stroke'].copy()\n",
    "\n",
    "X_test = df_test.drop(['stroke'], axis=1)\n",
    "y_test = df_test['stroke'].copy()"
   ]
  },
  {
   "cell_type": "markdown",
   "metadata": {},
   "source": [
    "## Categorizing Features\n",
    "\n",
    "Categorize the features based on the variable type of the features and the data it represents\n",
    "- Numeric (Interval): Features which have equally spaced interval between unique values\n",
    "- Categorical (Nominal): Features which have no intrinsic ordering to the unique values\n",
    "- Ordinal: Features which have clear ordering but do not have equally spaced intervals between unique values"
   ]
  },
  {
   "cell_type": "code",
   "execution_count": 16,
   "metadata": {},
   "outputs": [
    {
     "data": {
      "text/plain": [
       "Index(['id', 'age', 'hypertension', 'heart_disease', 'avg_glucose_level',\n",
       "       'bmi'],\n",
       "      dtype='object')"
      ]
     },
     "execution_count": 16,
     "metadata": {},
     "output_type": "execute_result"
    }
   ],
   "source": [
    "X_train.select_dtypes('number').columns"
   ]
  },
  {
   "cell_type": "code",
   "execution_count": null,
   "metadata": {},
   "outputs": [],
   "source": [
    "# categorizing features\n",
    "num_cols = [\n",
    "    'age', 'duration', 'campaign', 'pdays', 'previous', 'emp_var_rate',\n",
    "    'cons_price_idx', 'cons_conf_idx', 'euribor3m', 'nr_employed'\n",
    "]\n",
    "\n",
    "nom_cols = [\n",
    "    'job', 'marital', 'default', 'housing', 'loan', 'contact',\n",
    "    'month', 'day_of_week', 'poutcome'\n",
    "]\n",
    "\n",
    "ord_cols = ['education']"
   ]
  },
  {
   "cell_type": "markdown",
   "metadata": {},
   "source": [
    "## Handling Outliers"
   ]
  },
  {
   "cell_type": "code",
   "execution_count": null,
   "metadata": {},
   "outputs": [
    {
     "data": {
      "text/html": [
       "<div>\n",
       "<style scoped>\n",
       "    .dataframe tbody tr th:only-of-type {\n",
       "        vertical-align: middle;\n",
       "    }\n",
       "\n",
       "    .dataframe tbody tr th {\n",
       "        vertical-align: top;\n",
       "    }\n",
       "\n",
       "    .dataframe thead th {\n",
       "        text-align: right;\n",
       "    }\n",
       "</style>\n",
       "<table border=\"1\" class=\"dataframe\">\n",
       "  <thead>\n",
       "    <tr style=\"text-align: right;\">\n",
       "      <th></th>\n",
       "      <th>feats</th>\n",
       "      <th>skew</th>\n",
       "      <th>dist</th>\n",
       "      <th>tot_outlier</th>\n",
       "      <th>tot_outlier_pct</th>\n",
       "    </tr>\n",
       "  </thead>\n",
       "  <tbody>\n",
       "    <tr>\n",
       "      <th>0</th>\n",
       "      <td>age</td>\n",
       "      <td>0.78</td>\n",
       "      <td>skewed</td>\n",
       "      <td>378</td>\n",
       "      <td>1.15</td>\n",
       "    </tr>\n",
       "    <tr>\n",
       "      <th>1</th>\n",
       "      <td>duration</td>\n",
       "      <td>3.31</td>\n",
       "      <td>skewed</td>\n",
       "      <td>2365</td>\n",
       "      <td>7.18</td>\n",
       "    </tr>\n",
       "    <tr>\n",
       "      <th>2</th>\n",
       "      <td>campaign</td>\n",
       "      <td>4.71</td>\n",
       "      <td>skewed</td>\n",
       "      <td>1935</td>\n",
       "      <td>5.87</td>\n",
       "    </tr>\n",
       "    <tr>\n",
       "      <th>3</th>\n",
       "      <td>pdays</td>\n",
       "      <td>-4.93</td>\n",
       "      <td>skewed</td>\n",
       "      <td>1210</td>\n",
       "      <td>3.67</td>\n",
       "    </tr>\n",
       "    <tr>\n",
       "      <th>4</th>\n",
       "      <td>previous</td>\n",
       "      <td>3.88</td>\n",
       "      <td>skewed</td>\n",
       "      <td>4499</td>\n",
       "      <td>13.66</td>\n",
       "    </tr>\n",
       "    <tr>\n",
       "      <th>5</th>\n",
       "      <td>emp_var_rate</td>\n",
       "      <td>-0.72</td>\n",
       "      <td>skewed</td>\n",
       "      <td>0</td>\n",
       "      <td>0.00</td>\n",
       "    </tr>\n",
       "    <tr>\n",
       "      <th>6</th>\n",
       "      <td>cons_price_idx</td>\n",
       "      <td>-0.23</td>\n",
       "      <td>normal</td>\n",
       "      <td>0</td>\n",
       "      <td>0.00</td>\n",
       "    </tr>\n",
       "    <tr>\n",
       "      <th>7</th>\n",
       "      <td>cons_conf_idx</td>\n",
       "      <td>0.30</td>\n",
       "      <td>normal</td>\n",
       "      <td>0</td>\n",
       "      <td>0.00</td>\n",
       "    </tr>\n",
       "    <tr>\n",
       "      <th>8</th>\n",
       "      <td>euribor3m</td>\n",
       "      <td>-0.70</td>\n",
       "      <td>skewed</td>\n",
       "      <td>0</td>\n",
       "      <td>0.00</td>\n",
       "    </tr>\n",
       "    <tr>\n",
       "      <th>9</th>\n",
       "      <td>nr_employed</td>\n",
       "      <td>-1.04</td>\n",
       "      <td>skewed</td>\n",
       "      <td>0</td>\n",
       "      <td>0.00</td>\n",
       "    </tr>\n",
       "  </tbody>\n",
       "</table>\n",
       "</div>"
      ],
      "text/plain": [
       "            feats  skew    dist  tot_outlier  tot_outlier_pct\n",
       "0             age  0.78  skewed          378             1.15\n",
       "1        duration  3.31  skewed         2365             7.18\n",
       "2        campaign  4.71  skewed         1935             5.87\n",
       "3           pdays -4.93  skewed         1210             3.67\n",
       "4        previous  3.88  skewed         4499            13.66\n",
       "5    emp_var_rate -0.72  skewed            0             0.00\n",
       "6  cons_price_idx -0.23  normal            0             0.00\n",
       "7   cons_conf_idx  0.30  normal            0             0.00\n",
       "8       euribor3m -0.70  skewed            0             0.00\n",
       "9     nr_employed -1.04  skewed            0             0.00"
      ]
     },
     "metadata": {},
     "output_type": "display_data"
    }
   ],
   "source": [
    "# check outlier summary only on numerical features\n",
    "outlier_summary(X_train[num_cols], 1.5)"
   ]
  },
  {
   "cell_type": "markdown",
   "metadata": {},
   "source": [
    "1. `Trimming`: if outliers' percentage < 5%\n",
    "2. `Capping`: if outliers' percentage 5% - 15%\n",
    "3. `None`: if outliers' percentage > 15%"
   ]
  },
  {
   "cell_type": "code",
   "execution_count": null,
   "metadata": {},
   "outputs": [
    {
     "data": {
      "text/html": [
       "<div>\n",
       "<style scoped>\n",
       "    .dataframe tbody tr th:only-of-type {\n",
       "        vertical-align: middle;\n",
       "    }\n",
       "\n",
       "    .dataframe tbody tr th {\n",
       "        vertical-align: top;\n",
       "    }\n",
       "\n",
       "    .dataframe thead th {\n",
       "        text-align: right;\n",
       "    }\n",
       "</style>\n",
       "<table border=\"1\" class=\"dataframe\">\n",
       "  <thead>\n",
       "    <tr style=\"text-align: right;\">\n",
       "      <th></th>\n",
       "      <th>feats</th>\n",
       "      <th>upper_bound</th>\n",
       "      <th>lower_bound</th>\n",
       "      <th>tot_right_tail</th>\n",
       "      <th>tot_left_tail</th>\n",
       "      <th>tot_right_tail_pct</th>\n",
       "      <th>tot_left_tail_pct</th>\n",
       "      <th>tot_outlier</th>\n",
       "      <th>tot_outlier_pct</th>\n",
       "    </tr>\n",
       "  </thead>\n",
       "  <tbody>\n",
       "    <tr>\n",
       "      <th>0</th>\n",
       "      <td>age</td>\n",
       "      <td>69.50</td>\n",
       "      <td>9.50</td>\n",
       "      <td>378</td>\n",
       "      <td>0</td>\n",
       "      <td>1.15</td>\n",
       "      <td>0.00</td>\n",
       "      <td>378</td>\n",
       "      <td>1.15</td>\n",
       "    </tr>\n",
       "    <tr>\n",
       "      <th>1</th>\n",
       "      <td>duration</td>\n",
       "      <td>642.00</td>\n",
       "      <td>-222.00</td>\n",
       "      <td>2365</td>\n",
       "      <td>0</td>\n",
       "      <td>7.18</td>\n",
       "      <td>0.00</td>\n",
       "      <td>2365</td>\n",
       "      <td>7.18</td>\n",
       "    </tr>\n",
       "    <tr>\n",
       "      <th>2</th>\n",
       "      <td>campaign</td>\n",
       "      <td>6.00</td>\n",
       "      <td>-2.00</td>\n",
       "      <td>1935</td>\n",
       "      <td>0</td>\n",
       "      <td>5.87</td>\n",
       "      <td>0.00</td>\n",
       "      <td>1935</td>\n",
       "      <td>5.87</td>\n",
       "    </tr>\n",
       "    <tr>\n",
       "      <th>3</th>\n",
       "      <td>pdays</td>\n",
       "      <td>999.00</td>\n",
       "      <td>999.00</td>\n",
       "      <td>0</td>\n",
       "      <td>1210</td>\n",
       "      <td>0.00</td>\n",
       "      <td>3.67</td>\n",
       "      <td>1210</td>\n",
       "      <td>3.67</td>\n",
       "    </tr>\n",
       "    <tr>\n",
       "      <th>4</th>\n",
       "      <td>previous</td>\n",
       "      <td>0.00</td>\n",
       "      <td>0.00</td>\n",
       "      <td>4499</td>\n",
       "      <td>0</td>\n",
       "      <td>13.66</td>\n",
       "      <td>0.00</td>\n",
       "      <td>4499</td>\n",
       "      <td>13.66</td>\n",
       "    </tr>\n",
       "    <tr>\n",
       "      <th>5</th>\n",
       "      <td>emp_var_rate</td>\n",
       "      <td>6.20</td>\n",
       "      <td>-6.60</td>\n",
       "      <td>0</td>\n",
       "      <td>0</td>\n",
       "      <td>0.00</td>\n",
       "      <td>0.00</td>\n",
       "      <td>0</td>\n",
       "      <td>0.00</td>\n",
       "    </tr>\n",
       "    <tr>\n",
       "      <th>6</th>\n",
       "      <td>cons_price_idx</td>\n",
       "      <td>95.31</td>\n",
       "      <td>91.84</td>\n",
       "      <td>0</td>\n",
       "      <td>0</td>\n",
       "      <td>0.00</td>\n",
       "      <td>0.00</td>\n",
       "      <td>0</td>\n",
       "      <td>0.00</td>\n",
       "    </tr>\n",
       "    <tr>\n",
       "      <th>7</th>\n",
       "      <td>cons_conf_idx</td>\n",
       "      <td>-26.62</td>\n",
       "      <td>-54.39</td>\n",
       "      <td>0</td>\n",
       "      <td>0</td>\n",
       "      <td>0.00</td>\n",
       "      <td>0.00</td>\n",
       "      <td>0</td>\n",
       "      <td>0.00</td>\n",
       "    </tr>\n",
       "    <tr>\n",
       "      <th>8</th>\n",
       "      <td>euribor3m</td>\n",
       "      <td>10.39</td>\n",
       "      <td>-4.08</td>\n",
       "      <td>0</td>\n",
       "      <td>0</td>\n",
       "      <td>0.00</td>\n",
       "      <td>0.00</td>\n",
       "      <td>0</td>\n",
       "      <td>0.00</td>\n",
       "    </tr>\n",
       "    <tr>\n",
       "      <th>9</th>\n",
       "      <td>nr_employed</td>\n",
       "      <td>5421.60</td>\n",
       "      <td>4905.60</td>\n",
       "      <td>0</td>\n",
       "      <td>0</td>\n",
       "      <td>0.00</td>\n",
       "      <td>0.00</td>\n",
       "      <td>0</td>\n",
       "      <td>0.00</td>\n",
       "    </tr>\n",
       "  </tbody>\n",
       "</table>\n",
       "</div>"
      ],
      "text/plain": [
       "            feats  upper_bound  lower_bound  tot_right_tail  tot_left_tail  \\\n",
       "0             age        69.50         9.50             378              0   \n",
       "1        duration       642.00      -222.00            2365              0   \n",
       "2        campaign         6.00        -2.00            1935              0   \n",
       "3           pdays       999.00       999.00               0           1210   \n",
       "4        previous         0.00         0.00            4499              0   \n",
       "5    emp_var_rate         6.20        -6.60               0              0   \n",
       "6  cons_price_idx        95.31        91.84               0              0   \n",
       "7   cons_conf_idx       -26.62       -54.39               0              0   \n",
       "8       euribor3m        10.39        -4.08               0              0   \n",
       "9     nr_employed      5421.60      4905.60               0              0   \n",
       "\n",
       "   tot_right_tail_pct  tot_left_tail_pct  tot_outlier  tot_outlier_pct  \n",
       "0                1.15               0.00          378             1.15  \n",
       "1                7.18               0.00         2365             7.18  \n",
       "2                5.87               0.00         1935             5.87  \n",
       "3                0.00               3.67         1210             3.67  \n",
       "4               13.66               0.00         4499            13.66  \n",
       "5                0.00               0.00            0             0.00  \n",
       "6                0.00               0.00            0             0.00  \n",
       "7                0.00               0.00            0             0.00  \n",
       "8                0.00               0.00            0             0.00  \n",
       "9                0.00               0.00            0             0.00  "
      ]
     },
     "metadata": {},
     "output_type": "display_data"
    }
   ],
   "source": [
    "# check outlier details\n",
    "check_outlier(X_train[num_cols], 1.5)"
   ]
  },
  {
   "cell_type": "markdown",
   "metadata": {},
   "source": [
    "Trim and cap the outliers"
   ]
  },
  {
   "cell_type": "code",
   "execution_count": null,
   "metadata": {},
   "outputs": [
    {
     "name": "stdout",
     "output_type": "stream",
     "text": [
      "X_train shape before trimming and capping: (32942, 20)\n",
      "y_train shape before trimming and capping: (32942,)\n",
      "X_train shape after trimming and capping: (31430, 20)\n",
      "y_train shape after trimming and capping: (31430,)\n"
     ]
    }
   ],
   "source": [
    "# print X_train and y_train shape before trimming and capping\n",
    "print('X_train shape before trimming and capping:', X_train.shape)\n",
    "print('y_train shape before trimming and capping:', y_train.shape)\n",
    "\n",
    "# trim and cap outliers\n",
    "X_train, y_train = trim_cap_outliers(\n",
    "    X_train,\n",
    "    exception_list = nom_cols + ord_cols,\n",
    "    fold=1.5,\n",
    "    target=y_train\n",
    ")\n",
    "\n",
    "# print X_train and y_train shape after trimming and capping\n",
    "print('X_train shape after trimming and capping:', X_train.shape)\n",
    "print('y_train shape after trimming and capping:', y_train.shape)"
   ]
  },
  {
   "cell_type": "markdown",
   "metadata": {},
   "source": [
    "## Handling Missing Values\n"
   ]
  },
  {
   "cell_type": "code",
   "execution_count": null,
   "metadata": {},
   "outputs": [
    {
     "data": {
      "text/html": [
       "<div>\n",
       "<style scoped>\n",
       "    .dataframe tbody tr th:only-of-type {\n",
       "        vertical-align: middle;\n",
       "    }\n",
       "\n",
       "    .dataframe tbody tr th {\n",
       "        vertical-align: top;\n",
       "    }\n",
       "\n",
       "    .dataframe thead th {\n",
       "        text-align: right;\n",
       "    }\n",
       "</style>\n",
       "<table border=\"1\" class=\"dataframe\">\n",
       "  <thead>\n",
       "    <tr style=\"text-align: right;\">\n",
       "      <th></th>\n",
       "      <th>feats</th>\n",
       "      <th>tot_missing</th>\n",
       "      <th>tot_missing_pct</th>\n",
       "    </tr>\n",
       "  </thead>\n",
       "  <tbody>\n",
       "  </tbody>\n",
       "</table>\n",
       "</div>"
      ],
      "text/plain": [
       "Empty DataFrame\n",
       "Columns: [feats, tot_missing, tot_missing_pct]\n",
       "Index: []"
      ]
     },
     "metadata": {},
     "output_type": "display_data"
    }
   ],
   "source": [
    "# check missing values in train set\n",
    "check_missing(X_train)"
   ]
  },
  {
   "cell_type": "code",
   "execution_count": null,
   "metadata": {},
   "outputs": [
    {
     "data": {
      "text/plain": [
       "0"
      ]
     },
     "metadata": {},
     "output_type": "display_data"
    }
   ],
   "source": [
    "# check missing values in train target\n",
    "y_train.isna().sum()"
   ]
  },
  {
   "cell_type": "code",
   "execution_count": null,
   "metadata": {},
   "outputs": [
    {
     "data": {
      "text/html": [
       "<div>\n",
       "<style scoped>\n",
       "    .dataframe tbody tr th:only-of-type {\n",
       "        vertical-align: middle;\n",
       "    }\n",
       "\n",
       "    .dataframe tbody tr th {\n",
       "        vertical-align: top;\n",
       "    }\n",
       "\n",
       "    .dataframe thead th {\n",
       "        text-align: right;\n",
       "    }\n",
       "</style>\n",
       "<table border=\"1\" class=\"dataframe\">\n",
       "  <thead>\n",
       "    <tr style=\"text-align: right;\">\n",
       "      <th></th>\n",
       "      <th>feats</th>\n",
       "      <th>tot_missing</th>\n",
       "      <th>tot_missing_pct</th>\n",
       "    </tr>\n",
       "  </thead>\n",
       "  <tbody>\n",
       "  </tbody>\n",
       "</table>\n",
       "</div>"
      ],
      "text/plain": [
       "Empty DataFrame\n",
       "Columns: [feats, tot_missing, tot_missing_pct]\n",
       "Index: []"
      ]
     },
     "metadata": {},
     "output_type": "display_data"
    }
   ],
   "source": [
    "# check missing values in test set\n",
    "check_missing(X_test)"
   ]
  },
  {
   "cell_type": "code",
   "execution_count": null,
   "metadata": {},
   "outputs": [
    {
     "data": {
      "text/plain": [
       "0"
      ]
     },
     "metadata": {},
     "output_type": "display_data"
    }
   ],
   "source": [
    "# check missing values in test target\n",
    "y_test.isna().sum()"
   ]
  },
  {
   "cell_type": "markdown",
   "metadata": {},
   "source": [
    "We have no `NaN` values in the train set nor test set. However, we do have missing values in the form of `unknown` and 999, so let's check for that"
   ]
  },
  {
   "cell_type": "code",
   "execution_count": null,
   "metadata": {},
   "outputs": [
    {
     "data": {
      "text/html": [
       "<style type=\"text/css\">\n",
       "</style>\n",
       "<table id=\"T_0ab1e\">\n",
       "  <thead>\n",
       "    <tr>\n",
       "      <th class=\"blank level0\" >&nbsp;</th>\n",
       "      <th id=\"T_0ab1e_level0_col0\" class=\"col_heading level0 col0\" >feats</th>\n",
       "      <th id=\"T_0ab1e_level0_col1\" class=\"col_heading level0 col1\" >tot_missing</th>\n",
       "      <th id=\"T_0ab1e_level0_col2\" class=\"col_heading level0 col2\" >tot_missing_pct</th>\n",
       "    </tr>\n",
       "  </thead>\n",
       "  <tbody>\n",
       "    <tr>\n",
       "      <th id=\"T_0ab1e_level0_row0\" class=\"row_heading level0 row0\" >0</th>\n",
       "      <td id=\"T_0ab1e_row0_col0\" class=\"data row0 col0\" >job</td>\n",
       "      <td id=\"T_0ab1e_row0_col1\" class=\"data row0 col1\" >241</td>\n",
       "      <td id=\"T_0ab1e_row0_col2\" class=\"data row0 col2\" >0.77%</td>\n",
       "    </tr>\n",
       "    <tr>\n",
       "      <th id=\"T_0ab1e_level0_row1\" class=\"row_heading level0 row1\" >1</th>\n",
       "      <td id=\"T_0ab1e_row1_col0\" class=\"data row1 col0\" >marital</td>\n",
       "      <td id=\"T_0ab1e_row1_col1\" class=\"data row1 col1\" >60</td>\n",
       "      <td id=\"T_0ab1e_row1_col2\" class=\"data row1 col2\" >0.19%</td>\n",
       "    </tr>\n",
       "    <tr>\n",
       "      <th id=\"T_0ab1e_level0_row2\" class=\"row_heading level0 row2\" >2</th>\n",
       "      <td id=\"T_0ab1e_row2_col0\" class=\"data row2 col0\" >education</td>\n",
       "      <td id=\"T_0ab1e_row2_col1\" class=\"data row2 col1\" >1276</td>\n",
       "      <td id=\"T_0ab1e_row2_col2\" class=\"data row2 col2\" >4.06%</td>\n",
       "    </tr>\n",
       "    <tr>\n",
       "      <th id=\"T_0ab1e_level0_row3\" class=\"row_heading level0 row3\" >3</th>\n",
       "      <td id=\"T_0ab1e_row3_col0\" class=\"data row3 col0\" >default</td>\n",
       "      <td id=\"T_0ab1e_row3_col1\" class=\"data row3 col1\" >6858</td>\n",
       "      <td id=\"T_0ab1e_row3_col2\" class=\"data row3 col2\" >21.82%</td>\n",
       "    </tr>\n",
       "    <tr>\n",
       "      <th id=\"T_0ab1e_level0_row4\" class=\"row_heading level0 row4\" >4</th>\n",
       "      <td id=\"T_0ab1e_row4_col0\" class=\"data row4 col0\" >housing</td>\n",
       "      <td id=\"T_0ab1e_row4_col1\" class=\"data row4 col1\" >774</td>\n",
       "      <td id=\"T_0ab1e_row4_col2\" class=\"data row4 col2\" >2.46%</td>\n",
       "    </tr>\n",
       "    <tr>\n",
       "      <th id=\"T_0ab1e_level0_row5\" class=\"row_heading level0 row5\" >5</th>\n",
       "      <td id=\"T_0ab1e_row5_col0\" class=\"data row5 col0\" >loan</td>\n",
       "      <td id=\"T_0ab1e_row5_col1\" class=\"data row5 col1\" >774</td>\n",
       "      <td id=\"T_0ab1e_row5_col2\" class=\"data row5 col2\" >2.46%</td>\n",
       "    </tr>\n",
       "    <tr>\n",
       "      <th id=\"T_0ab1e_level0_row6\" class=\"row_heading level0 row6\" >6</th>\n",
       "      <td id=\"T_0ab1e_row6_col0\" class=\"data row6 col0\" >pdays</td>\n",
       "      <td id=\"T_0ab1e_row6_col1\" class=\"data row6 col1\" >31430</td>\n",
       "      <td id=\"T_0ab1e_row6_col2\" class=\"data row6 col2\" >100.00%</td>\n",
       "    </tr>\n",
       "    <tr>\n",
       "      <th id=\"T_0ab1e_level0_row7\" class=\"row_heading level0 row7\" >7</th>\n",
       "      <td id=\"T_0ab1e_row7_col0\" class=\"data row7 col0\" >poutcome</td>\n",
       "      <td id=\"T_0ab1e_row7_col1\" class=\"data row7 col1\" >31430</td>\n",
       "      <td id=\"T_0ab1e_row7_col2\" class=\"data row7 col2\" >100.00%</td>\n",
       "    </tr>\n",
       "  </tbody>\n",
       "</table>\n"
      ],
      "text/plain": [
       "<pandas.io.formats.style.Styler at 0x7efe60ecbaf0>"
      ]
     },
     "metadata": {},
     "output_type": "display_data"
    }
   ],
   "source": [
    "# check for special missing values\n",
    "check_missing_special(X_train).style.format({'tot_missing_pct': '{:.2f}%'})"
   ]
  },
  {
   "cell_type": "markdown",
   "metadata": {},
   "source": [
    "Since we have more than 90% of missing values in the feature `pdays` and `poutcome`, I'm not going to include it as a predictor. These two features are higly dependent since they are the results of last contact\n",
    "\n",
    "For other features' missing values, aside from `default`, I'm going to impute them with the most frequent value in their subsequent features\n",
    "`defaul` has around 21.82% of the dataset, which I think would be sufficient to stand as its own category, where it's also possible that we do not know the default status for a client, but still has to make a decision anyway"
   ]
  },
  {
   "cell_type": "markdown",
   "metadata": {},
   "source": [
    "The missing values is not `NaN`, but `unknown`. So I'm going to replace these `unknown` values in those specific features with `NaN` to prepare for imputation"
   ]
  },
  {
   "cell_type": "code",
   "execution_count": null,
   "metadata": {},
   "outputs": [],
   "source": [
    "# list of features that we want to impute\n",
    "impute_cols = ['job', 'marital', 'education', 'housing', 'loan']"
   ]
  },
  {
   "cell_type": "code",
   "execution_count": null,
   "metadata": {},
   "outputs": [
    {
     "name": "stdout",
     "output_type": "stream",
     "text": [
      "X_train shape before preparing for imputation: (31430, 20)\n",
      "X_test shape before preparing for imputation: (8236, 20)\n",
      "X_train shape after preparing for imputation: (31430, 20)\n",
      "X_test shape after preparing for imputation: (8236, 20)\n"
     ]
    }
   ],
   "source": [
    "# print shape before preparing for imputation\n",
    "print('X_train shape before preparing for imputation:', X_train.shape)\n",
    "print('X_test shape before preparing for imputation:', X_test.shape)\n",
    "\n",
    "# perform prepare_imputation on X_train and X_test\n",
    "X_train = prepare_imputation(X_train, impute_cols)\n",
    "X_test = prepare_imputation(X_test, impute_cols)\n",
    "\n",
    "# print shape after preparing for imputation\n",
    "print('X_train shape after preparing for imputation:', X_train.shape)\n",
    "print('X_test shape after preparing for imputation:', X_test.shape)"
   ]
  },
  {
   "cell_type": "code",
   "execution_count": null,
   "metadata": {},
   "outputs": [],
   "source": [
    "# create imputer object\n",
    "unknown_imputer = CategoricalImputer(\n",
    "    imputation_method='frequent',\n",
    "    variables=impute_cols\n",
    ")"
   ]
  },
  {
   "cell_type": "markdown",
   "metadata": {},
   "source": [
    "This object will later be run in a pipeline with scaling, which are the pre-oversampling procedures"
   ]
  },
  {
   "cell_type": "markdown",
   "metadata": {},
   "source": [
    "## Feature Selection"
   ]
  },
  {
   "cell_type": "markdown",
   "metadata": {},
   "source": [
    "### Heatmap Correlation Matrix for Numerical Features\n",
    "\n",
    "We look at the Spearman's correlation matrix to find out the relation between features and target"
   ]
  },
  {
   "cell_type": "code",
   "execution_count": null,
   "metadata": {
    "colab": {
     "base_uri": "https://localhost:8080/",
     "height": 1000
    },
    "id": "DytKCFs5Ddt7",
    "outputId": "51beab39-eec8-4664-d174-b96fb87efd5d"
   },
   "outputs": [
    {
     "data": {
      "image/png": "[encoded data removed]",
      "text/plain": [
       "<Figure size 1080x720 with 2 Axes>"
      ]
     },
     "metadata": {},
     "output_type": "display_data"
    }
   ],
   "source": [
    "# Heatmap Correlation Matrix\n",
    "plt.figure(figsize=(15,10))\n",
    "\n",
    "sns.heatmap(\n",
    "    pd.concat([\n",
    "        pd.get_dummies(y_train, prefix='y', drop_first=True),\n",
    "        X_train[num_cols]], axis=1\n",
    "    ).corr('spearman'),\n",
    "    annot=True, vmin=-1, vmax=1, fmt='.2f', square=True, cmap='coolwarm')\n",
    "plt.xticks(rotation=45)\n",
    "plt.yticks(rotation=0)\n",
    "plt.title('Heatmap for Numerical Features')\n",
    "\n",
    "plt.show()\n"
   ]
  },
  {
   "cell_type": "markdown",
   "metadata": {},
   "source": [
    "- `y_yes` is a dummy variable which represents the target, with a value of `0 being no and 1 being yes`\n",
    "- There are low spearman correlations amongst features and target, with the highest being `duration`\n",
    "- But we have mentioned this before that `duration` is interdependent with the target variable `y`. Therefore, we are going to drop this feature\n",
    "- We can see that social economic context features are quite highly correlated with each others. This are new features that were not available during the first research published\n",
    "- We can also see that `pdays` and `previous` are highly dependent and also homogenous after outlier handling, since they are both features which resulted from the last contact. Since I'm dropping `pdays` because they have a lot of missing values, I will be dropping `previous` as well."
   ]
  },
  {
   "cell_type": "markdown",
   "metadata": {},
   "source": [
    "### Categorizing Selected Features"
   ]
  },
  {
   "cell_type": "code",
   "execution_count": null,
   "metadata": {},
   "outputs": [
    {
     "data": {
      "text/html": [
       "<div>\n",
       "<style scoped>\n",
       "    .dataframe tbody tr th:only-of-type {\n",
       "        vertical-align: middle;\n",
       "    }\n",
       "\n",
       "    .dataframe tbody tr th {\n",
       "        vertical-align: top;\n",
       "    }\n",
       "\n",
       "    .dataframe thead th {\n",
       "        text-align: right;\n",
       "    }\n",
       "</style>\n",
       "<table border=\"1\" class=\"dataframe\">\n",
       "  <thead>\n",
       "    <tr style=\"text-align: right;\">\n",
       "      <th></th>\n",
       "      <th>feats</th>\n",
       "      <th>skew</th>\n",
       "      <th>dist</th>\n",
       "      <th>tot_outlier</th>\n",
       "      <th>tot_outlier_pct</th>\n",
       "    </tr>\n",
       "  </thead>\n",
       "  <tbody>\n",
       "    <tr>\n",
       "      <th>0</th>\n",
       "      <td>age</td>\n",
       "      <td>0.43</td>\n",
       "      <td>normal</td>\n",
       "      <td>24</td>\n",
       "      <td>0.08</td>\n",
       "    </tr>\n",
       "    <tr>\n",
       "      <th>3</th>\n",
       "      <td>pdays</td>\n",
       "      <td>0.00</td>\n",
       "      <td>normal</td>\n",
       "      <td>0</td>\n",
       "      <td>0.00</td>\n",
       "    </tr>\n",
       "    <tr>\n",
       "      <th>4</th>\n",
       "      <td>previous</td>\n",
       "      <td>0.00</td>\n",
       "      <td>normal</td>\n",
       "      <td>0</td>\n",
       "      <td>0.00</td>\n",
       "    </tr>\n",
       "    <tr>\n",
       "      <th>6</th>\n",
       "      <td>cons_price_idx</td>\n",
       "      <td>-0.22</td>\n",
       "      <td>normal</td>\n",
       "      <td>0</td>\n",
       "      <td>0.00</td>\n",
       "    </tr>\n",
       "    <tr>\n",
       "      <th>7</th>\n",
       "      <td>cons_conf_idx</td>\n",
       "      <td>0.28</td>\n",
       "      <td>normal</td>\n",
       "      <td>261</td>\n",
       "      <td>0.83</td>\n",
       "    </tr>\n",
       "    <tr>\n",
       "      <th>1</th>\n",
       "      <td>duration</td>\n",
       "      <td>1.05</td>\n",
       "      <td>skewed</td>\n",
       "      <td>0</td>\n",
       "      <td>0.00</td>\n",
       "    </tr>\n",
       "    <tr>\n",
       "      <th>2</th>\n",
       "      <td>campaign</td>\n",
       "      <td>1.18</td>\n",
       "      <td>skewed</td>\n",
       "      <td>0</td>\n",
       "      <td>0.00</td>\n",
       "    </tr>\n",
       "    <tr>\n",
       "      <th>5</th>\n",
       "      <td>emp_var_rate</td>\n",
       "      <td>-0.83</td>\n",
       "      <td>skewed</td>\n",
       "      <td>0</td>\n",
       "      <td>0.00</td>\n",
       "    </tr>\n",
       "    <tr>\n",
       "      <th>8</th>\n",
       "      <td>euribor3m</td>\n",
       "      <td>-0.85</td>\n",
       "      <td>skewed</td>\n",
       "      <td>0</td>\n",
       "      <td>0.00</td>\n",
       "    </tr>\n",
       "    <tr>\n",
       "      <th>9</th>\n",
       "      <td>nr_employed</td>\n",
       "      <td>-1.13</td>\n",
       "      <td>skewed</td>\n",
       "      <td>0</td>\n",
       "      <td>0.00</td>\n",
       "    </tr>\n",
       "  </tbody>\n",
       "</table>\n",
       "</div>"
      ],
      "text/plain": [
       "            feats  skew    dist  tot_outlier  tot_outlier_pct\n",
       "0             age  0.43  normal           24             0.08\n",
       "3           pdays  0.00  normal            0             0.00\n",
       "4        previous  0.00  normal            0             0.00\n",
       "6  cons_price_idx -0.22  normal            0             0.00\n",
       "7   cons_conf_idx  0.28  normal          261             0.83\n",
       "1        duration  1.05  skewed            0             0.00\n",
       "2        campaign  1.18  skewed            0             0.00\n",
       "5    emp_var_rate -0.83  skewed            0             0.00\n",
       "8       euribor3m -0.85  skewed            0             0.00\n",
       "9     nr_employed -1.13  skewed            0             0.00"
      ]
     },
     "metadata": {},
     "output_type": "display_data"
    }
   ],
   "source": [
    "# display outlier summary\n",
    "outlier_summary(X_train[num_cols], 1.5).sort_values(by='dist')"
   ]
  },
  {
   "cell_type": "code",
   "execution_count": null,
   "metadata": {},
   "outputs": [],
   "source": [
    "# create list of numerical features with normal distribution\n",
    "num_cols_norm = [\n",
    "    'age', 'cons_price_idx', 'cons_conf_idx'\n",
    "]\n",
    "\n",
    "# create list of numerical features with skew\n",
    "num_cols_skew = [\n",
    "    'campaign', 'emp_var_rate', 'euribor3m', 'nr_employed'\n",
    "]\n",
    "\n",
    "# create final list of nominal features\n",
    "nom_cols = [\n",
    "    'job', 'marital', 'default', 'housing', 'loan', 'contact',\n",
    "    'month', 'day_of_week'\n",
    "]\n",
    "\n",
    "# create final list of ordinal features\n",
    "ord_cols = ['education']"
   ]
  },
  {
   "cell_type": "markdown",
   "metadata": {},
   "source": [
    "Great! We have finalized our feature list.\n",
    "We also separated numerical features with different types of distribution just in case we want to scale them using different methods"
   ]
  },
  {
   "cell_type": "markdown",
   "metadata": {},
   "source": [
    "### List of Features\n",
    "\n",
    "These are the predictors we're going to use"
   ]
  },
  {
   "cell_type": "code",
   "execution_count": null,
   "metadata": {},
   "outputs": [
    {
     "name": "stdout",
     "output_type": "stream",
     "text": [
      "Numerical Features:\n",
      "['age', 'cons_price_idx', 'cons_conf_idx', 'campaign', 'emp_var_rate', 'euribor3m', 'nr_employed']\n",
      "====================================================================================================\n",
      "Categorical Features:\n",
      "['job', 'marital', 'default', 'housing', 'loan', 'contact', 'month', 'day_of_week']\n",
      "====================================================================================================\n",
      "Ordinal Features:\n",
      "['education']\n"
     ]
    }
   ],
   "source": [
    "# print out list of predictors\n",
    "print('Numerical Features:')\n",
    "print(num_cols_norm + num_cols_skew)\n",
    "print('=' * 100)\n",
    "print('Categorical Features:')\n",
    "print(nom_cols)\n",
    "print('=' * 100)\n",
    "print('Ordinal Features:')\n",
    "print(ord_cols)"
   ]
  },
  {
   "cell_type": "markdown",
   "metadata": {},
   "source": [
    "Prepare the order for ordinal feature `education`"
   ]
  },
  {
   "cell_type": "code",
   "execution_count": null,
   "metadata": {},
   "outputs": [],
   "source": [
    "# prepare education ordered categorical variable\n",
    "education_order = [\n",
    "    \"illiterate\",\n",
    "    \"basic.4y\",\n",
    "    \"basic.6y\",\n",
    "    \"basic.9y\",\n",
    "    \"high.school\",\n",
    "    \"professional.course\",\n",
    "    \"university.degree\",\n",
    "]"
   ]
  },
  {
   "cell_type": "markdown",
   "metadata": {},
   "source": [
    "## Feature Engineering"
   ]
  },
  {
   "cell_type": "markdown",
   "metadata": {},
   "source": [
    "### Prepare The Necessary Objects\n",
    "\n",
    "Declare the various objects, like scaler and encoder we might use\n",
    "- All categorical features will use one hot encoder\n",
    "- Ordinal features which is `education` will use ordinal encoder"
   ]
  },
  {
   "cell_type": "code",
   "execution_count": null,
   "metadata": {},
   "outputs": [],
   "source": [
    "# declare standard scaler\n",
    "std_sc = StandardScaler()\n",
    "\n",
    "# declare min max scaling\n",
    "mm_sc = MinMaxScaler()\n",
    "\n",
    "# declare one hot encoder\n",
    "ohe_enc = OneHotEncoder(handle_unknown='ignore')\n",
    "\n",
    "# declare ordinal encoder\n",
    "ord_enc = OrdinalEncoder(categories=[education_order])\n",
    "\n",
    "# declare label encoder\n",
    "label_enc = LabelEncoder()\n"
   ]
  },
  {
   "cell_type": "markdown",
   "metadata": {},
   "source": [
    "Create ColumnTransformer, SMOTENC, and PCA objects\n",
    "- In ColumnTransformer, we will design so that our dataset will have the categorical features lined up after the numerical ones"
   ]
  },
  {
   "cell_type": "code",
   "execution_count": null,
   "metadata": {},
   "outputs": [],
   "source": [
    "# create column transformer object using min max scaler\n",
    "scale_mm = ColumnTransformer([\n",
    "    ('num_norm', std_sc, num_cols_norm),\n",
    "    ('num_skew', mm_sc, num_cols_skew),\n",
    "    ('nom', 'passthrough', nom_cols),\n",
    "    ('ord', 'passthrough', ord_cols)\n",
    "])\n",
    "\n",
    "# create column transformer object for use after oversampling\n",
    "encode = ColumnTransformer([\n",
    "    ('num', 'passthrough', slice(0, 7)),\n",
    "    ('nom', ohe_enc, slice(7, 15)),\n",
    "    ('ord', ord_enc, [15])\n",
    "])\n",
    "\n",
    "# create smotenc object\n",
    "# categorical features will be put at the end, after the numerical ones\n",
    "smotenc = SMOTENC(\n",
    "    categorical_features= list(range(7, 16)),\n",
    "    random_state=42\n",
    ")\n",
    "\n",
    "# create pca object\n",
    "pca = PCA(n_components=0.8, random_state=42)\n"
   ]
  },
  {
   "cell_type": "code",
   "execution_count": null,
   "metadata": {},
   "outputs": [],
   "source": [
    "# create pipeline object for imputing and scaling\n",
    "imputer_scaler_pipe = Pipeline([\n",
    "    ('imputer', unknown_imputer),\n",
    "    ('scale', scale_mm)\n",
    "])"
   ]
  },
  {
   "cell_type": "markdown",
   "metadata": {},
   "source": [
    "### Scaling\n",
    "\n",
    "We need to scale all numerical columns before oversampling"
   ]
  },
  {
   "cell_type": "code",
   "execution_count": null,
   "metadata": {},
   "outputs": [
    {
     "name": "stdout",
     "output_type": "stream",
     "text": [
      "X_train_scaled shape: (31430, 16)\n",
      "X_test_scaled shape: (8236, 16)\n"
     ]
    }
   ],
   "source": [
    "# scale numeric features \n",
    "X_train_scaled = imputer_scaler_pipe.fit_transform(X_train)\n",
    "X_test_scaled = imputer_scaler_pipe.transform(X_test)\n",
    "\n",
    "# print shape\n",
    "print('X_train_scaled shape:', X_train_scaled.shape)\n",
    "print('X_test_scaled shape:', X_test_scaled.shape)"
   ]
  },
  {
   "cell_type": "markdown",
   "metadata": {},
   "source": [
    "### Oversampling\n",
    "\n",
    "Since our data is imbalance, we need to perform oversampling"
   ]
  },
  {
   "cell_type": "code",
   "execution_count": null,
   "metadata": {},
   "outputs": [
    {
     "name": "stdout",
     "output_type": "stream",
     "text": [
      "X_train_balanced shape: (57238, 16)\n",
      "y_train_balanced shape: (57238,)\n"
     ]
    }
   ],
   "source": [
    "# oversampling using SMOTE\n",
    "X_train_balanced, y_train_balanced = smotenc.fit_resample(X_train_scaled, y_train)\n",
    "\n",
    "# print shape after oversampling\n",
    "print('X_train_balanced shape:', X_train_balanced.shape)\n",
    "print('y_train_balanced shape:', y_train_balanced.shape)"
   ]
  },
  {
   "cell_type": "markdown",
   "metadata": {},
   "source": [
    "### Encoding"
   ]
  },
  {
   "cell_type": "code",
   "execution_count": null,
   "metadata": {},
   "outputs": [
    {
     "name": "stdout",
     "output_type": "stream",
     "text": [
      "X_train_encoded shape: (57238, 46)\n",
      "X_test_encoded shape: (8236, 46)\n",
      "y_train_final shape: (57238,)\n",
      "y_test_final shape: (8236,)\n"
     ]
    }
   ],
   "source": [
    "# encode categorical features\n",
    "X_train_encoded = encode.fit_transform(X_train_balanced)\n",
    "X_test_encoded = encode.transform(X_test_scaled)\n",
    "\n",
    "# encode labels\n",
    "y_train_final = label_enc.fit_transform(y_train_balanced)\n",
    "y_test_final = label_enc.transform(y_test)\n",
    "\n",
    "# print shape\n",
    "print('X_train_encoded shape:', X_train_encoded.shape)\n",
    "print('X_test_encoded shape:', X_test_encoded.shape)\n",
    "print('y_train_final shape:', y_train_final.shape)\n",
    "print('y_test_final shape:', y_test_final.shape)"
   ]
  },
  {
   "cell_type": "markdown",
   "metadata": {},
   "source": [
    "### Dimensionality Reduction"
   ]
  },
  {
   "cell_type": "code",
   "execution_count": null,
   "metadata": {},
   "outputs": [
    {
     "name": "stdout",
     "output_type": "stream",
     "text": [
      "X_train_final shape: (57238, 10)\n",
      "y_train_final shape: (57238,)\n",
      "X_test_final shape: (8236, 10)\n",
      "y_test_final shape: (8236,)\n"
     ]
    }
   ],
   "source": [
    "# perform dimensionality reduction\n",
    "X_train_final = pca.fit_transform(X_train_encoded)\n",
    "X_test_final = pca.transform(X_test_encoded)\n",
    "\n",
    "# print shape\n",
    "print('X_train_final shape:', X_train_final.shape)\n",
    "print('y_train_final shape:', y_train_final.shape)\n",
    "print('X_test_final shape:', X_test_final.shape)\n",
    "print('y_test_final shape:', y_test_final.shape)"
   ]
  },
  {
   "cell_type": "markdown",
   "metadata": {},
   "source": [
    "We can see that we have reduced the number of features from 50 to 10. The dataset is now about 20% of its original size. Quite a good compression\n",
    "\n",
    "Let's see how it would look like in 2D"
   ]
  },
  {
   "cell_type": "code",
   "execution_count": null,
   "metadata": {},
   "outputs": [
    {
     "data": {
      "image/png": "[encoded data removed]",
      "text/plain": [
       "<Figure size 576x576 with 1 Axes>"
      ]
     },
     "metadata": {},
     "output_type": "display_data"
    }
   ],
   "source": [
    "# plot pca with 2 components\n",
    "pca_2d = PCA(n_components=2, random_state=42)\n",
    "X_2d  = pca_2d.fit_transform(encode.fit_transform(X_train_balanced))\n",
    "\n",
    "plt.figure(figsize=(8, 8))\n",
    "sns.scatterplot(x=X_2d[:, 0], y=X_2d[:, 1])\n",
    "plt.xlabel('PC1')\n",
    "plt.ylabel('PC2')\n",
    "plt.title('PCA with 2 components')\n",
    "plt.show()"
   ]
  },
  {
   "cell_type": "markdown",
   "metadata": {},
   "source": [
    "Preprocessing is finished"
   ]
  },
  {
   "cell_type": "markdown",
   "metadata": {},
   "source": [
    "# 6. Model Definition"
   ]
  },
  {
   "cell_type": "code",
   "execution_count": null,
   "metadata": {},
   "outputs": [
    {
     "name": "stdout",
     "output_type": "stream",
     "text": [
      "CPU times: user 23 µs, sys: 4 µs, total: 27 µs\n",
      "Wall time: 48.9 µs\n"
     ]
    }
   ],
   "source": [
    "%%time\n",
    "\n",
    "# model declaration\n",
    "model_logreg = LogisticRegression()"
   ]
  },
  {
   "cell_type": "markdown",
   "metadata": {},
   "source": [
    "# 7. Model Training"
   ]
  },
  {
   "cell_type": "code",
   "execution_count": null,
   "metadata": {},
   "outputs": [
    {
     "name": "stdout",
     "output_type": "stream",
     "text": [
      "CPU times: user 389 ms, sys: 437 ms, total: 826 ms\n",
      "Wall time: 286 ms\n"
     ]
    },
    {
     "data": {
      "text/html": [
       "<style>#sk-container-id-2 {color: black;background-color: white;}#sk-container-id-2 pre{padding: 0;}#sk-container-id-2 div.sk-toggleable {background-color: white;}#sk-container-id-2 label.sk-toggleable__label {cursor: pointer;display: block;width: 100%;margin-bottom: 0;padding: 0.3em;box-sizing: border-box;text-align: center;}#sk-container-id-2 label.sk-toggleable__label-arrow:before {content: \"▸\";float: left;margin-right: 0.25em;color: #696969;}#sk-container-id-2 label.sk-toggleable__label-arrow:hover:before {color: black;}#sk-container-id-2 div.sk-estimator:hover label.sk-toggleable__label-arrow:before {color: black;}#sk-container-id-2 div.sk-toggleable__content {max-height: 0;max-width: 0;overflow: hidden;text-align: left;background-color: #f0f8ff;}#sk-container-id-2 div.sk-toggleable__content pre {margin: 0.2em;color: black;border-radius: 0.25em;background-color: #f0f8ff;}#sk-container-id-2 input.sk-toggleable__control:checked~div.sk-toggleable__content {max-height: 200px;max-width: 100%;overflow: auto;}#sk-container-id-2 input.sk-toggleable__control:checked~label.sk-toggleable__label-arrow:before {content: \"▾\";}#sk-container-id-2 div.sk-estimator input.sk-toggleable__control:checked~label.sk-toggleable__label {background-color: #d4ebff;}#sk-container-id-2 div.sk-label input.sk-toggleable__control:checked~label.sk-toggleable__label {background-color: #d4ebff;}#sk-container-id-2 input.sk-hidden--visually {border: 0;clip: rect(1px 1px 1px 1px);clip: rect(1px, 1px, 1px, 1px);height: 1px;margin: -1px;overflow: hidden;padding: 0;position: absolute;width: 1px;}#sk-container-id-2 div.sk-estimator {font-family: monospace;background-color: #f0f8ff;border: 1px dotted black;border-radius: 0.25em;box-sizing: border-box;margin-bottom: 0.5em;}#sk-container-id-2 div.sk-estimator:hover {background-color: #d4ebff;}#sk-container-id-2 div.sk-parallel-item::after {content: \"\";width: 100%;border-bottom: 1px solid gray;flex-grow: 1;}#sk-container-id-2 div.sk-label:hover label.sk-toggleable__label {background-color: #d4ebff;}#sk-container-id-2 div.sk-serial::before {content: \"\";position: absolute;border-left: 1px solid gray;box-sizing: border-box;top: 0;bottom: 0;left: 50%;z-index: 0;}#sk-container-id-2 div.sk-serial {display: flex;flex-direction: column;align-items: center;background-color: white;padding-right: 0.2em;padding-left: 0.2em;position: relative;}#sk-container-id-2 div.sk-item {position: relative;z-index: 1;}#sk-container-id-2 div.sk-parallel {display: flex;align-items: stretch;justify-content: center;background-color: white;position: relative;}#sk-container-id-2 div.sk-item::before, #sk-container-id-2 div.sk-parallel-item::before {content: \"\";position: absolute;border-left: 1px solid gray;box-sizing: border-box;top: 0;bottom: 0;left: 50%;z-index: -1;}#sk-container-id-2 div.sk-parallel-item {display: flex;flex-direction: column;z-index: 1;position: relative;background-color: white;}#sk-container-id-2 div.sk-parallel-item:first-child::after {align-self: flex-end;width: 50%;}#sk-container-id-2 div.sk-parallel-item:last-child::after {align-self: flex-start;width: 50%;}#sk-container-id-2 div.sk-parallel-item:only-child::after {width: 0;}#sk-container-id-2 div.sk-dashed-wrapped {border: 1px dashed gray;margin: 0 0.4em 0.5em 0.4em;box-sizing: border-box;padding-bottom: 0.4em;background-color: white;}#sk-container-id-2 div.sk-label label {font-family: monospace;font-weight: bold;display: inline-block;line-height: 1.2em;}#sk-container-id-2 div.sk-label-container {text-align: center;}#sk-container-id-2 div.sk-container {/* jupyter's `normalize.less` sets `[hidden] { display: none; }` but bootstrap.min.css set `[hidden] { display: none !important; }` so we also need the `!important` here to be able to override the default hidden behavior on the sphinx rendered scikit-learn.org. See: https://github.com/scikit-learn/scikit-learn/issues/21755 */display: inline-block !important;position: relative;}#sk-container-id-2 div.sk-text-repr-fallback {display: none;}</style><div id=\"sk-container-id-2\" class=\"sk-top-container\"><div class=\"sk-text-repr-fallback\"><pre>LogisticRegression()</pre><b>In a Jupyter environment, please rerun this cell to show the HTML representation or trust the notebook. <br />On GitHub, the HTML representation is unable to render, please try loading this page with nbviewer.org.</b></div><div class=\"sk-container\" hidden><div class=\"sk-item\"><div class=\"sk-estimator sk-toggleable\"><input class=\"sk-toggleable__control sk-hidden--visually\" id=\"sk-estimator-id-2\" type=\"checkbox\" checked><label for=\"sk-estimator-id-2\" class=\"sk-toggleable__label sk-toggleable__label-arrow\">LogisticRegression</label><div class=\"sk-toggleable__content\"><pre>LogisticRegression()</pre></div></div></div></div></div>"
      ],
      "text/plain": [
       "LogisticRegression()"
      ]
     },
     "execution_count": 182,
     "metadata": {},
     "output_type": "execute_result"
    }
   ],
   "source": [
    "%%time\n",
    "\n",
    "# model training\n",
    "model_logreg.fit(X_train_final, y_train)"
   ]
  },
  {
   "cell_type": "markdown",
   "metadata": {},
   "source": [
    "It took around 4s to train the model. I'd say it's pretty good"
   ]
  },
  {
   "cell_type": "markdown",
   "metadata": {},
   "source": [
    "# 8. Model Evaluation"
   ]
  },
  {
   "cell_type": "code",
   "execution_count": null,
   "metadata": {},
   "outputs": [
    {
     "name": "stdout",
     "output_type": "stream",
     "text": [
      "CPU times: user 17.2 ms, sys: 20.3 ms, total: 37.5 ms\n",
      "Wall time: 12.2 ms\n"
     ]
    }
   ],
   "source": [
    "%%time\n",
    "\n",
    "# predict train-set\n",
    "y_pred_train = model_logreg.predict(X_train_final)\n",
    "\n",
    "# predict test-set\n",
    "y_pred_test = model_logreg.predict(X_test_final)"
   ]
  },
  {
   "cell_type": "markdown",
   "metadata": {},
   "source": [
    "Took around 100ms to run. Pretty good"
   ]
  },
  {
   "cell_type": "code",
   "execution_count": null,
   "metadata": {},
   "outputs": [
    {
     "name": "stdout",
     "output_type": "stream",
     "text": [
      "MAE train: 0.05033809166040571\n",
      "MAE test: 0.047058823529411764\n",
      "----------\n",
      "MSE train: 0.05033809166040571\n",
      "MSE test: 0.047058823529411764\n",
      "----------\n",
      "RMSE train: 0.22436152000823517\n",
      "RMSE test: 0.21693045781865616\n",
      "----------\n",
      "R2 Score train: -0.06811594202898585\n",
      "R2 Score test: -0.029025410370121296\n"
     ]
    }
   ],
   "source": [
    "print('MAE train:', mean_absolute_error(y_train, y_pred_train))\n",
    "print('MAE test:', mean_absolute_error(y_test, y_pred_test))\n",
    "\n",
    "print('-' * 10)\n",
    "print('MSE train:', mean_squared_error(y_train, y_pred_train))\n",
    "print('MSE test:', mean_squared_error(y_test, y_pred_test))\n",
    "\n",
    "print('-' * 10)\n",
    "print('RMSE train:', np.sqrt(mean_squared_error(y_train, y_pred_train)))\n",
    "print('RMSE test:', np.sqrt(mean_squared_error(y_test, y_pred_test)))\n",
    "\n",
    "print('-' * 10)\n",
    "print('R2 Score train:', r2_score(y_train, y_pred_train))\n",
    "print('R2 Score test:', r2_score(y_test, y_pred_test))"
   ]
  },
  {
   "cell_type": "markdown",
   "metadata": {},
   "source": [
    "The model had a score of 0.928 for the coefficient of determination of the prediction.\\\n",
    "It's quite good to be used\n"
   ]
  },
  {
   "cell_type": "markdown",
   "metadata": {},
   "source": [
    "# 9. Model Inference"
   ]
  },
  {
   "cell_type": "markdown",
   "metadata": {},
   "source": [
    "# 10. Conclusion"
   ]
  },
  {
   "cell_type": "code",
   "execution_count": null,
   "metadata": {},
   "outputs": [],
   "source": []
  }
 ],
 "metadata": {
  "interpreter": {
   "hash": "57744ed932a5da4ffb7d5879d9b65170d321805180660db910f737e8fd70cf58"
  },
  "kernelspec": {
   "display_name": "Python 3.9.12 (conda)",
   "language": "python",
   "name": "python3"
  },
  "language_info": {
   "codemirror_mode": {
    "name": "ipython",
    "version": 3
   },
   "file_extension": ".py",
   "mimetype": "text/x-python",
   "name": "python",
   "nbconvert_exporter": "python",
   "pygments_lexer": "ipython3",
   "version": "3.8.13"
  },
  "orig_nbformat": 4
 },
 "nbformat": 4,
 "nbformat_minor": 2
}
