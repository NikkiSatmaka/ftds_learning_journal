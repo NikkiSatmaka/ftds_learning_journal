{
 "cells": [
  {
   "cell_type": "code",
   "execution_count": 1,
   "metadata": {},
   "outputs": [],
   "source": [
    "new_data = [\n",
    "    [0.8189215120865428,\n",
    "    -0.6474455632439493,\n",
    "    -0.46517733904102565,\n",
    "    -0.47485701118825807,\n",
    "    -0.31618159662655665,\n",
    "    0.0,\n",
    "    1.0],\n",
    "    [0.8189215120865428,\n",
    "    -0.09575826022624177,\n",
    "    -0.46517733904102565,\n",
    "    -0.47485701118825807,\n",
    "    -0.49444193154746235,\n",
    "    1.0,\n",
    "    0.0],\n",
    "    [0.8189215120865428,\n",
    "    0.6923664583704833,\n",
    "    -0.46517733904102565,\n",
    "    -0.47485701118825807,\n",
    "    -0.47464446023756657,\n",
    "    0.0,\n",
    "    1.0],\n",
    "]"
   ]
  },
  {
   "cell_type": "code",
   "execution_count": 2,
   "metadata": {},
   "outputs": [],
   "source": [
    "import json\n",
    "\n",
    "input_data_json = json.dumps({\n",
    "    \"signature_name\": \"serving_default\",\n",
    "    \"instances\": new_data\n",
    "\n",
    "})"
   ]
  },
  {
   "cell_type": "code",
   "execution_count": 3,
   "metadata": {},
   "outputs": [
    {
     "data": {
      "text/plain": [
       "{'predictions': [[0.173193663], [0.605004966], [0.0770861208]]}"
      ]
     },
     "execution_count": 3,
     "metadata": {},
     "output_type": "execute_result"
    }
   ],
   "source": [
    "import requests\n",
    "\n",
    "# URL = \"http://localhost:8501/v1/models/titanic:predict\"\n",
    "URL = \"https://tfserving-titanic-ns.herokuapp.com/v1/models/titanic:predict\"\n",
    "r = requests.post(URL, data=input_data_json)\n",
    "res = r.json()\n",
    "res"
   ]
  },
  {
   "cell_type": "code",
   "execution_count": null,
   "metadata": {},
   "outputs": [],
   "source": []
  }
 ],
 "metadata": {
  "kernelspec": {
   "display_name": "Python 3.10.5 (conda)",
   "language": "python",
   "name": "python3"
  },
  "language_info": {
   "codemirror_mode": {
    "name": "ipython",
    "version": 3
   },
   "file_extension": ".py",
   "mimetype": "text/x-python",
   "name": "python",
   "nbconvert_exporter": "python",
   "pygments_lexer": "ipython3",
   "version": "3.10.5"
  },
  "orig_nbformat": 4,
  "vscode": {
   "interpreter": {
    "hash": "57744ed932a5da4ffb7d5879d9b65170d321805180660db910f737e8fd70cf58"
   }
  }
 },
 "nbformat": 4,
 "nbformat_minor": 2
}
